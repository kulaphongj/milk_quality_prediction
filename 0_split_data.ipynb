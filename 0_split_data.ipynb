{
 "cells": [
  {
   "cell_type": "code",
   "execution_count": 77,
   "id": "1693c625",
   "metadata": {
    "ExecuteTime": {
     "end_time": "2024-01-18T17:49:34.056900Z",
     "start_time": "2024-01-18T17:49:34.053420Z"
    }
   },
   "outputs": [],
   "source": [
    "import pandas as pd\n",
    "from sklearn.model_selection import train_test_split\n",
    "\n",
    "no_seed = 572"
   ]
  },
  {
   "cell_type": "code",
   "execution_count": 78,
   "id": "dd7ab3ac",
   "metadata": {
    "ExecuteTime": {
     "end_time": "2024-01-18T17:49:34.073550Z",
     "start_time": "2024-01-18T17:49:34.059447Z"
    }
   },
   "outputs": [
    {
     "name": "stdout",
     "output_type": "stream",
     "text": [
      "(1059, 8)\n"
     ]
    },
    {
     "data": {
      "text/html": [
       "<div>\n",
       "<style scoped>\n",
       "    .dataframe tbody tr th:only-of-type {\n",
       "        vertical-align: middle;\n",
       "    }\n",
       "\n",
       "    .dataframe tbody tr th {\n",
       "        vertical-align: top;\n",
       "    }\n",
       "\n",
       "    .dataframe thead th {\n",
       "        text-align: right;\n",
       "    }\n",
       "</style>\n",
       "<table border=\"1\" class=\"dataframe\">\n",
       "  <thead>\n",
       "    <tr style=\"text-align: right;\">\n",
       "      <th></th>\n",
       "      <th>pH</th>\n",
       "      <th>Temprature</th>\n",
       "      <th>Taste</th>\n",
       "      <th>Odor</th>\n",
       "      <th>Fat</th>\n",
       "      <th>Turbidity</th>\n",
       "      <th>Colour</th>\n",
       "      <th>Grade</th>\n",
       "    </tr>\n",
       "  </thead>\n",
       "  <tbody>\n",
       "    <tr>\n",
       "      <th>0</th>\n",
       "      <td>6.6</td>\n",
       "      <td>35</td>\n",
       "      <td>1</td>\n",
       "      <td>0</td>\n",
       "      <td>1</td>\n",
       "      <td>0</td>\n",
       "      <td>254</td>\n",
       "      <td>high</td>\n",
       "    </tr>\n",
       "    <tr>\n",
       "      <th>1</th>\n",
       "      <td>6.6</td>\n",
       "      <td>36</td>\n",
       "      <td>0</td>\n",
       "      <td>1</td>\n",
       "      <td>0</td>\n",
       "      <td>1</td>\n",
       "      <td>253</td>\n",
       "      <td>high</td>\n",
       "    </tr>\n",
       "    <tr>\n",
       "      <th>2</th>\n",
       "      <td>8.5</td>\n",
       "      <td>70</td>\n",
       "      <td>1</td>\n",
       "      <td>1</td>\n",
       "      <td>1</td>\n",
       "      <td>1</td>\n",
       "      <td>246</td>\n",
       "      <td>low</td>\n",
       "    </tr>\n",
       "    <tr>\n",
       "      <th>3</th>\n",
       "      <td>9.5</td>\n",
       "      <td>34</td>\n",
       "      <td>1</td>\n",
       "      <td>1</td>\n",
       "      <td>0</td>\n",
       "      <td>1</td>\n",
       "      <td>255</td>\n",
       "      <td>low</td>\n",
       "    </tr>\n",
       "    <tr>\n",
       "      <th>4</th>\n",
       "      <td>6.6</td>\n",
       "      <td>37</td>\n",
       "      <td>0</td>\n",
       "      <td>0</td>\n",
       "      <td>0</td>\n",
       "      <td>0</td>\n",
       "      <td>255</td>\n",
       "      <td>medium</td>\n",
       "    </tr>\n",
       "  </tbody>\n",
       "</table>\n",
       "</div>"
      ],
      "text/plain": [
       "    pH  Temprature  Taste  Odor  Fat   Turbidity  Colour   Grade\n",
       "0  6.6          35      1     0     1          0     254    high\n",
       "1  6.6          36      0     1     0          1     253    high\n",
       "2  8.5          70      1     1     1          1     246     low\n",
       "3  9.5          34      1     1     0          1     255     low\n",
       "4  6.6          37      0     0     0          0     255  medium"
      ]
     },
     "execution_count": 78,
     "metadata": {},
     "output_type": "execute_result"
    }
   ],
   "source": [
    "df_raw = pd.read_csv('data/milknew_raw.csv')\n",
    "print(df_raw.shape)\n",
    "df_raw.head()"
   ]
  },
  {
   "cell_type": "markdown",
   "id": "8aed9fb8",
   "metadata": {},
   "source": [
    "# Generate index for analysis in the future"
   ]
  },
  {
   "cell_type": "code",
   "execution_count": 79,
   "id": "71b187e7",
   "metadata": {
    "ExecuteTime": {
     "end_time": "2024-01-18T17:49:34.084479Z",
     "start_time": "2024-01-18T17:49:34.075428Z"
    }
   },
   "outputs": [
    {
     "name": "stdout",
     "output_type": "stream",
     "text": [
      "(1059, 9)\n"
     ]
    },
    {
     "data": {
      "text/html": [
       "<div>\n",
       "<style scoped>\n",
       "    .dataframe tbody tr th:only-of-type {\n",
       "        vertical-align: middle;\n",
       "    }\n",
       "\n",
       "    .dataframe tbody tr th {\n",
       "        vertical-align: top;\n",
       "    }\n",
       "\n",
       "    .dataframe thead th {\n",
       "        text-align: right;\n",
       "    }\n",
       "</style>\n",
       "<table border=\"1\" class=\"dataframe\">\n",
       "  <thead>\n",
       "    <tr style=\"text-align: right;\">\n",
       "      <th></th>\n",
       "      <th>index</th>\n",
       "      <th>pH</th>\n",
       "      <th>Temprature</th>\n",
       "      <th>Taste</th>\n",
       "      <th>Odor</th>\n",
       "      <th>Fat</th>\n",
       "      <th>Turbidity</th>\n",
       "      <th>Colour</th>\n",
       "      <th>Grade</th>\n",
       "    </tr>\n",
       "  </thead>\n",
       "  <tbody>\n",
       "    <tr>\n",
       "      <th>0</th>\n",
       "      <td>0</td>\n",
       "      <td>6.6</td>\n",
       "      <td>35</td>\n",
       "      <td>1</td>\n",
       "      <td>0</td>\n",
       "      <td>1</td>\n",
       "      <td>0</td>\n",
       "      <td>254</td>\n",
       "      <td>high</td>\n",
       "    </tr>\n",
       "    <tr>\n",
       "      <th>1</th>\n",
       "      <td>1</td>\n",
       "      <td>6.6</td>\n",
       "      <td>36</td>\n",
       "      <td>0</td>\n",
       "      <td>1</td>\n",
       "      <td>0</td>\n",
       "      <td>1</td>\n",
       "      <td>253</td>\n",
       "      <td>high</td>\n",
       "    </tr>\n",
       "    <tr>\n",
       "      <th>2</th>\n",
       "      <td>2</td>\n",
       "      <td>8.5</td>\n",
       "      <td>70</td>\n",
       "      <td>1</td>\n",
       "      <td>1</td>\n",
       "      <td>1</td>\n",
       "      <td>1</td>\n",
       "      <td>246</td>\n",
       "      <td>low</td>\n",
       "    </tr>\n",
       "    <tr>\n",
       "      <th>3</th>\n",
       "      <td>3</td>\n",
       "      <td>9.5</td>\n",
       "      <td>34</td>\n",
       "      <td>1</td>\n",
       "      <td>1</td>\n",
       "      <td>0</td>\n",
       "      <td>1</td>\n",
       "      <td>255</td>\n",
       "      <td>low</td>\n",
       "    </tr>\n",
       "    <tr>\n",
       "      <th>4</th>\n",
       "      <td>4</td>\n",
       "      <td>6.6</td>\n",
       "      <td>37</td>\n",
       "      <td>0</td>\n",
       "      <td>0</td>\n",
       "      <td>0</td>\n",
       "      <td>0</td>\n",
       "      <td>255</td>\n",
       "      <td>medium</td>\n",
       "    </tr>\n",
       "  </tbody>\n",
       "</table>\n",
       "</div>"
      ],
      "text/plain": [
       "   index   pH  Temprature  Taste  Odor  Fat   Turbidity  Colour   Grade\n",
       "0      0  6.6          35      1     0     1          0     254    high\n",
       "1      1  6.6          36      0     1     0          1     253    high\n",
       "2      2  8.5          70      1     1     1          1     246     low\n",
       "3      3  9.5          34      1     1     0          1     255     low\n",
       "4      4  6.6          37      0     0     0          0     255  medium"
      ]
     },
     "execution_count": 79,
     "metadata": {},
     "output_type": "execute_result"
    }
   ],
   "source": [
    "df_raw = df_raw.reset_index()\n",
    "print(df_raw.shape)\n",
    "df_raw.head()"
   ]
  },
  {
   "cell_type": "markdown",
   "id": "3c90e4cc",
   "metadata": {},
   "source": [
    "# Train 80 - Test 20"
   ]
  },
  {
   "cell_type": "code",
   "execution_count": 80,
   "id": "5325ba9f",
   "metadata": {
    "ExecuteTime": {
     "end_time": "2024-01-18T17:49:34.090723Z",
     "start_time": "2024-01-18T17:49:34.086652Z"
    }
   },
   "outputs": [
    {
     "name": "stdout",
     "output_type": "stream",
     "text": [
      "(847, 9) (212, 9)\n",
      "Train sample: 79.98%\n",
      "Test  sample: 20.02%\n"
     ]
    }
   ],
   "source": [
    "X_train, X_test = train_test_split(df_raw, test_size=0.2, random_state=no_seed, stratify=df_raw['Grade'])\n",
    "print(X_train.shape, X_test.shape)\n",
    "print(f\"Train sample: {(X_train.shape[0]/df_raw.shape[0])*100:.02f}%\")\n",
    "print(f\"Test  sample: {(X_test.shape[0]/df_raw.shape[0])*100:.02f}%\")"
   ]
  },
  {
   "cell_type": "code",
   "execution_count": 81,
   "id": "a2641a6e",
   "metadata": {
    "ExecuteTime": {
     "end_time": "2024-01-18T17:49:34.102010Z",
     "start_time": "2024-01-18T17:49:34.092317Z"
    }
   },
   "outputs": [
    {
     "data": {
      "text/html": [
       "<div>\n",
       "<style scoped>\n",
       "    .dataframe tbody tr th:only-of-type {\n",
       "        vertical-align: middle;\n",
       "    }\n",
       "\n",
       "    .dataframe tbody tr th {\n",
       "        vertical-align: top;\n",
       "    }\n",
       "\n",
       "    .dataframe thead th {\n",
       "        text-align: right;\n",
       "    }\n",
       "</style>\n",
       "<table border=\"1\" class=\"dataframe\">\n",
       "  <thead>\n",
       "    <tr style=\"text-align: right;\">\n",
       "      <th></th>\n",
       "      <th>Grade</th>\n",
       "      <th>percentage_in_train</th>\n",
       "      <th>percentage_in_test</th>\n",
       "    </tr>\n",
       "  </thead>\n",
       "  <tbody>\n",
       "    <tr>\n",
       "      <th>0</th>\n",
       "      <td>low</td>\n",
       "      <td>40.495868</td>\n",
       "      <td>40.566038</td>\n",
       "    </tr>\n",
       "    <tr>\n",
       "      <th>1</th>\n",
       "      <td>medium</td>\n",
       "      <td>35.301063</td>\n",
       "      <td>35.377358</td>\n",
       "    </tr>\n",
       "    <tr>\n",
       "      <th>2</th>\n",
       "      <td>high</td>\n",
       "      <td>24.203070</td>\n",
       "      <td>24.056604</td>\n",
       "    </tr>\n",
       "  </tbody>\n",
       "</table>\n",
       "</div>"
      ],
      "text/plain": [
       "    Grade  percentage_in_train  percentage_in_test\n",
       "0     low            40.495868           40.566038\n",
       "1  medium            35.301063           35.377358\n",
       "2    high            24.203070           24.056604"
      ]
     },
     "execution_count": 81,
     "metadata": {},
     "output_type": "execute_result"
    }
   ],
   "source": [
    "df_train_stats82 = pd.DataFrame(X_train.Grade.value_counts(dropna=False, normalize=True)*100).reset_index()\n",
    "df_train_stats82.columns = ['Grade', 'percentage_in_train']\n",
    "df_test_stats82 = pd.DataFrame(X_test.Grade.value_counts(dropna=False, normalize=True)*100).reset_index()\n",
    "df_test_stats82.columns = ['Grade', 'percentage_in_test']\n",
    "df_stats82_class = pd.merge(df_train_stats82, df_test_stats82, on='Grade')\n",
    "df_stats82_class"
   ]
  },
  {
   "cell_type": "code",
   "execution_count": 82,
   "id": "e1b6a186",
   "metadata": {
    "ExecuteTime": {
     "end_time": "2024-01-18T17:49:34.110810Z",
     "start_time": "2024-01-18T17:49:34.104215Z"
    }
   },
   "outputs": [],
   "source": [
    "X_train.to_csv('data/x_train_82.csv', index=False, encoding='utf-8-sig')\n",
    "X_test.to_csv('data/x_test_82.csv', index=False, encoding='utf-8-sig')"
   ]
  },
  {
   "cell_type": "code",
   "execution_count": 83,
   "id": "230e537d",
   "metadata": {
    "ExecuteTime": {
     "end_time": "2024-01-18T17:49:34.117963Z",
     "start_time": "2024-01-18T17:49:34.112722Z"
    }
   },
   "outputs": [
    {
     "data": {
      "text/html": [
       "<div>\n",
       "<style scoped>\n",
       "    .dataframe tbody tr th:only-of-type {\n",
       "        vertical-align: middle;\n",
       "    }\n",
       "\n",
       "    .dataframe tbody tr th {\n",
       "        vertical-align: top;\n",
       "    }\n",
       "\n",
       "    .dataframe thead th {\n",
       "        text-align: right;\n",
       "    }\n",
       "</style>\n",
       "<table border=\"1\" class=\"dataframe\">\n",
       "  <thead>\n",
       "    <tr style=\"text-align: right;\">\n",
       "      <th></th>\n",
       "      <th>index</th>\n",
       "      <th>pH</th>\n",
       "      <th>Temprature</th>\n",
       "      <th>Taste</th>\n",
       "      <th>Odor</th>\n",
       "      <th>Fat</th>\n",
       "      <th>Turbidity</th>\n",
       "      <th>Colour</th>\n",
       "      <th>Grade</th>\n",
       "    </tr>\n",
       "  </thead>\n",
       "  <tbody>\n",
       "    <tr>\n",
       "      <th>244</th>\n",
       "      <td>244</td>\n",
       "      <td>6.5</td>\n",
       "      <td>38</td>\n",
       "      <td>1</td>\n",
       "      <td>0</td>\n",
       "      <td>1</td>\n",
       "      <td>0</td>\n",
       "      <td>255</td>\n",
       "      <td>medium</td>\n",
       "    </tr>\n",
       "    <tr>\n",
       "      <th>824</th>\n",
       "      <td>824</td>\n",
       "      <td>6.8</td>\n",
       "      <td>45</td>\n",
       "      <td>0</td>\n",
       "      <td>0</td>\n",
       "      <td>0</td>\n",
       "      <td>1</td>\n",
       "      <td>255</td>\n",
       "      <td>medium</td>\n",
       "    </tr>\n",
       "  </tbody>\n",
       "</table>\n",
       "</div>"
      ],
      "text/plain": [
       "     index   pH  Temprature  Taste  Odor  Fat   Turbidity  Colour   Grade\n",
       "244    244  6.5          38      1     0     1          0     255  medium\n",
       "824    824  6.8          45      0     0     0          1     255  medium"
      ]
     },
     "execution_count": 83,
     "metadata": {},
     "output_type": "execute_result"
    }
   ],
   "source": [
    "X_train.head(2)"
   ]
  },
  {
   "cell_type": "markdown",
   "id": "23499cc3",
   "metadata": {},
   "source": [
    "# Train 70 - Test 30"
   ]
  },
  {
   "cell_type": "code",
   "execution_count": 84,
   "id": "34ac0ea1",
   "metadata": {
    "ExecuteTime": {
     "end_time": "2024-01-18T17:49:34.123323Z",
     "start_time": "2024-01-18T17:49:34.119110Z"
    }
   },
   "outputs": [
    {
     "name": "stdout",
     "output_type": "stream",
     "text": [
      "(741, 9) (318, 9)\n",
      "Train sample: 69.97%\n",
      "Test  sample: 30.03%\n"
     ]
    }
   ],
   "source": [
    "X_train, X_test = train_test_split(df_raw, test_size=0.3, random_state=no_seed, stratify=df_raw['Grade'])\n",
    "print(X_train.shape, X_test.shape)\n",
    "print(f\"Train sample: {(X_train.shape[0]/df_raw.shape[0])*100:.02f}%\")\n",
    "print(f\"Test  sample: {(X_test.shape[0]/df_raw.shape[0])*100:.02f}%\")"
   ]
  },
  {
   "cell_type": "code",
   "execution_count": 85,
   "id": "8e19b5f5",
   "metadata": {
    "ExecuteTime": {
     "end_time": "2024-01-18T17:49:34.132674Z",
     "start_time": "2024-01-18T17:49:34.124688Z"
    }
   },
   "outputs": [
    {
     "data": {
      "text/html": [
       "<div>\n",
       "<style scoped>\n",
       "    .dataframe tbody tr th:only-of-type {\n",
       "        vertical-align: middle;\n",
       "    }\n",
       "\n",
       "    .dataframe tbody tr th {\n",
       "        vertical-align: top;\n",
       "    }\n",
       "\n",
       "    .dataframe thead th {\n",
       "        text-align: right;\n",
       "    }\n",
       "</style>\n",
       "<table border=\"1\" class=\"dataframe\">\n",
       "  <thead>\n",
       "    <tr style=\"text-align: right;\">\n",
       "      <th></th>\n",
       "      <th>Grade</th>\n",
       "      <th>percentage_in_train</th>\n",
       "      <th>percentage_in_test</th>\n",
       "    </tr>\n",
       "  </thead>\n",
       "  <tbody>\n",
       "    <tr>\n",
       "      <th>0</th>\n",
       "      <td>low</td>\n",
       "      <td>40.485830</td>\n",
       "      <td>40.566038</td>\n",
       "    </tr>\n",
       "    <tr>\n",
       "      <th>1</th>\n",
       "      <td>medium</td>\n",
       "      <td>35.357625</td>\n",
       "      <td>35.220126</td>\n",
       "    </tr>\n",
       "    <tr>\n",
       "      <th>2</th>\n",
       "      <td>high</td>\n",
       "      <td>24.156545</td>\n",
       "      <td>24.213836</td>\n",
       "    </tr>\n",
       "  </tbody>\n",
       "</table>\n",
       "</div>"
      ],
      "text/plain": [
       "    Grade  percentage_in_train  percentage_in_test\n",
       "0     low            40.485830           40.566038\n",
       "1  medium            35.357625           35.220126\n",
       "2    high            24.156545           24.213836"
      ]
     },
     "execution_count": 85,
     "metadata": {},
     "output_type": "execute_result"
    }
   ],
   "source": [
    "df_train_stats73 = pd.DataFrame(X_train.Grade.value_counts(dropna=False, normalize=True)*100).reset_index()\n",
    "df_train_stats73.columns = ['Grade', 'percentage_in_train']\n",
    "df_test_stats73 = pd.DataFrame(X_test.Grade.value_counts(dropna=False, normalize=True)*100).reset_index()\n",
    "df_test_stats73.columns = ['Grade', 'percentage_in_test']\n",
    "df_stats73_class = pd.merge(df_train_stats73, df_test_stats73, on='Grade')\n",
    "df_stats73_class"
   ]
  },
  {
   "cell_type": "code",
   "execution_count": 86,
   "id": "d45b8f54",
   "metadata": {
    "ExecuteTime": {
     "end_time": "2024-01-18T17:49:34.140890Z",
     "start_time": "2024-01-18T17:49:34.135447Z"
    }
   },
   "outputs": [],
   "source": [
    "X_train.to_csv('data/x_train_73.csv', index=False, encoding='utf-8-sig')\n",
    "X_test.to_csv('data/x_test_73.csv', index=False, encoding='utf-8-sig')"
   ]
  },
  {
   "cell_type": "code",
   "execution_count": 87,
   "id": "a5b1d4df",
   "metadata": {
    "ExecuteTime": {
     "end_time": "2024-01-18T17:49:34.146991Z",
     "start_time": "2024-01-18T17:49:34.142037Z"
    }
   },
   "outputs": [
    {
     "data": {
      "text/html": [
       "<div>\n",
       "<style scoped>\n",
       "    .dataframe tbody tr th:only-of-type {\n",
       "        vertical-align: middle;\n",
       "    }\n",
       "\n",
       "    .dataframe tbody tr th {\n",
       "        vertical-align: top;\n",
       "    }\n",
       "\n",
       "    .dataframe thead th {\n",
       "        text-align: right;\n",
       "    }\n",
       "</style>\n",
       "<table border=\"1\" class=\"dataframe\">\n",
       "  <thead>\n",
       "    <tr style=\"text-align: right;\">\n",
       "      <th></th>\n",
       "      <th>index</th>\n",
       "      <th>pH</th>\n",
       "      <th>Temprature</th>\n",
       "      <th>Taste</th>\n",
       "      <th>Odor</th>\n",
       "      <th>Fat</th>\n",
       "      <th>Turbidity</th>\n",
       "      <th>Colour</th>\n",
       "      <th>Grade</th>\n",
       "    </tr>\n",
       "  </thead>\n",
       "  <tbody>\n",
       "    <tr>\n",
       "      <th>482</th>\n",
       "      <td>482</td>\n",
       "      <td>6.8</td>\n",
       "      <td>40</td>\n",
       "      <td>1</td>\n",
       "      <td>0</td>\n",
       "      <td>1</td>\n",
       "      <td>0</td>\n",
       "      <td>245</td>\n",
       "      <td>medium</td>\n",
       "    </tr>\n",
       "    <tr>\n",
       "      <th>1033</th>\n",
       "      <td>1033</td>\n",
       "      <td>6.6</td>\n",
       "      <td>38</td>\n",
       "      <td>0</td>\n",
       "      <td>0</td>\n",
       "      <td>0</td>\n",
       "      <td>0</td>\n",
       "      <td>255</td>\n",
       "      <td>medium</td>\n",
       "    </tr>\n",
       "  </tbody>\n",
       "</table>\n",
       "</div>"
      ],
      "text/plain": [
       "      index   pH  Temprature  Taste  Odor  Fat   Turbidity  Colour   Grade\n",
       "482     482  6.8          40      1     0     1          0     245  medium\n",
       "1033   1033  6.6          38      0     0     0          0     255  medium"
      ]
     },
     "execution_count": 87,
     "metadata": {},
     "output_type": "execute_result"
    }
   ],
   "source": [
    "X_train.head(2)"
   ]
  }
 ],
 "metadata": {
  "kernelspec": {
   "display_name": "Python 3 (ipykernel)",
   "language": "python",
   "name": "python3"
  },
  "language_info": {
   "codemirror_mode": {
    "name": "ipython",
    "version": 3
   },
   "file_extension": ".py",
   "mimetype": "text/x-python",
   "name": "python",
   "nbconvert_exporter": "python",
   "pygments_lexer": "ipython3",
   "version": "3.9.6"
  },
  "toc": {
   "base_numbering": 1,
   "nav_menu": {},
   "number_sections": true,
   "sideBar": true,
   "skip_h1_title": false,
   "title_cell": "Table of Contents",
   "title_sidebar": "Contents",
   "toc_cell": false,
   "toc_position": {
    "height": "calc(100% - 180px)",
    "left": "10px",
    "top": "150px",
    "width": "178.636px"
   },
   "toc_section_display": true,
   "toc_window_display": true
  }
 },
 "nbformat": 4,
 "nbformat_minor": 5
}
