{
 "cells": [
  {
   "cell_type": "markdown",
   "id": "87ed2a5f",
   "metadata": {},
   "source": [
    "# Note:  \n",
    "V1 \n",
    "- KNN model"
   ]
  },
  {
   "cell_type": "code",
   "execution_count": 1,
   "id": "98f37c97",
   "metadata": {
    "ExecuteTime": {
     "end_time": "2024-01-25T06:35:06.758816Z",
     "start_time": "2024-01-25T06:35:05.896946Z"
    }
   },
   "outputs": [],
   "source": [
    "import pandas as pd\n",
    "import numpy as np\n",
    "import random\n",
    "import seaborn as sns\n",
    "import matplotlib.pyplot as plt\n",
    "\n",
    "seed_no = 572\n",
    "\n",
    "import warnings\n",
    "warnings.filterwarnings(\"ignore\")"
   ]
  },
  {
   "cell_type": "code",
   "execution_count": 2,
   "id": "e5478006",
   "metadata": {
    "ExecuteTime": {
     "end_time": "2024-01-25T06:35:06.914752Z",
     "start_time": "2024-01-25T06:35:06.760537Z"
    }
   },
   "outputs": [],
   "source": [
    "from sklearn.preprocessing import StandardScaler\n",
    "from sklearn.model_selection import StratifiedKFold, GridSearchCV, cross_val_score\n",
    "from sklearn.metrics import accuracy_score, classification_report, confusion_matrix, f1_score\n",
    "\n",
    "\n",
    "# from sklearn.linear_model import LogisticRegression\n",
    "# from sklearn.ensemble import RandomForestClassifier\n",
    "from sklearn.neighbors import KNeighborsClassifier\n"
   ]
  },
  {
   "cell_type": "markdown",
   "id": "c0be87c7",
   "metadata": {},
   "source": [
    "# Load data"
   ]
  },
  {
   "cell_type": "code",
   "execution_count": 3,
   "id": "4e1c8fe9",
   "metadata": {
    "ExecuteTime": {
     "end_time": "2024-01-25T06:35:06.922036Z",
     "start_time": "2024-01-25T06:35:06.915995Z"
    }
   },
   "outputs": [],
   "source": [
    "df_trn = pd.read_csv('data/x_train_82.csv', index_col='index')\n",
    "df_tst = pd.read_csv('data/x_test_82.csv', index_col='index')"
   ]
  },
  {
   "cell_type": "code",
   "execution_count": 4,
   "id": "c1549a2e",
   "metadata": {
    "ExecuteTime": {
     "end_time": "2024-01-25T06:35:06.933678Z",
     "start_time": "2024-01-25T06:35:06.924073Z"
    }
   },
   "outputs": [
    {
     "name": "stdout",
     "output_type": "stream",
     "text": [
      "(847, 8) (212, 8)\n"
     ]
    },
    {
     "data": {
      "text/html": [
       "<div>\n",
       "<style scoped>\n",
       "    .dataframe tbody tr th:only-of-type {\n",
       "        vertical-align: middle;\n",
       "    }\n",
       "\n",
       "    .dataframe tbody tr th {\n",
       "        vertical-align: top;\n",
       "    }\n",
       "\n",
       "    .dataframe thead th {\n",
       "        text-align: right;\n",
       "    }\n",
       "</style>\n",
       "<table border=\"1\" class=\"dataframe\">\n",
       "  <thead>\n",
       "    <tr style=\"text-align: right;\">\n",
       "      <th></th>\n",
       "      <th>pH</th>\n",
       "      <th>Temprature</th>\n",
       "      <th>Taste</th>\n",
       "      <th>Odor</th>\n",
       "      <th>Fat</th>\n",
       "      <th>Turbidity</th>\n",
       "      <th>Colour</th>\n",
       "      <th>Grade</th>\n",
       "    </tr>\n",
       "    <tr>\n",
       "      <th>index</th>\n",
       "      <th></th>\n",
       "      <th></th>\n",
       "      <th></th>\n",
       "      <th></th>\n",
       "      <th></th>\n",
       "      <th></th>\n",
       "      <th></th>\n",
       "      <th></th>\n",
       "    </tr>\n",
       "  </thead>\n",
       "  <tbody>\n",
       "    <tr>\n",
       "      <th>244</th>\n",
       "      <td>6.5</td>\n",
       "      <td>38</td>\n",
       "      <td>1</td>\n",
       "      <td>0</td>\n",
       "      <td>1</td>\n",
       "      <td>0</td>\n",
       "      <td>255</td>\n",
       "      <td>medium</td>\n",
       "    </tr>\n",
       "    <tr>\n",
       "      <th>824</th>\n",
       "      <td>6.8</td>\n",
       "      <td>45</td>\n",
       "      <td>0</td>\n",
       "      <td>0</td>\n",
       "      <td>0</td>\n",
       "      <td>1</td>\n",
       "      <td>255</td>\n",
       "      <td>medium</td>\n",
       "    </tr>\n",
       "    <tr>\n",
       "      <th>602</th>\n",
       "      <td>5.6</td>\n",
       "      <td>50</td>\n",
       "      <td>0</td>\n",
       "      <td>1</td>\n",
       "      <td>1</td>\n",
       "      <td>1</td>\n",
       "      <td>255</td>\n",
       "      <td>low</td>\n",
       "    </tr>\n",
       "    <tr>\n",
       "      <th>347</th>\n",
       "      <td>8.6</td>\n",
       "      <td>55</td>\n",
       "      <td>0</td>\n",
       "      <td>1</td>\n",
       "      <td>1</td>\n",
       "      <td>1</td>\n",
       "      <td>255</td>\n",
       "      <td>low</td>\n",
       "    </tr>\n",
       "    <tr>\n",
       "      <th>753</th>\n",
       "      <td>6.6</td>\n",
       "      <td>38</td>\n",
       "      <td>0</td>\n",
       "      <td>0</td>\n",
       "      <td>0</td>\n",
       "      <td>0</td>\n",
       "      <td>255</td>\n",
       "      <td>medium</td>\n",
       "    </tr>\n",
       "  </tbody>\n",
       "</table>\n",
       "</div>"
      ],
      "text/plain": [
       "        pH  Temprature  Taste  Odor  Fat   Turbidity  Colour   Grade\n",
       "index                                                               \n",
       "244    6.5          38      1     0     1          0     255  medium\n",
       "824    6.8          45      0     0     0          1     255  medium\n",
       "602    5.6          50      0     1     1          1     255     low\n",
       "347    8.6          55      0     1     1          1     255     low\n",
       "753    6.6          38      0     0     0          0     255  medium"
      ]
     },
     "execution_count": 4,
     "metadata": {},
     "output_type": "execute_result"
    }
   ],
   "source": [
    "print(df_trn.shape, df_tst.shape)\n",
    "df_trn.head()"
   ]
  },
  {
   "cell_type": "markdown",
   "id": "70831b4d",
   "metadata": {},
   "source": [
    "# Preprocessing function"
   ]
  },
  {
   "cell_type": "code",
   "execution_count": 5,
   "id": "5bbd0958",
   "metadata": {
    "ExecuteTime": {
     "end_time": "2024-01-25T06:35:06.940332Z",
     "start_time": "2024-01-25T06:35:06.935092Z"
    }
   },
   "outputs": [],
   "source": [
    "def encode_label(df_in):\n",
    "    df_fnc = df_in.copy()\n",
    "    df_fnc.loc[df_fnc['Grade']=='low', 'Grade'] = 0\n",
    "    df_fnc.loc[df_fnc['Grade']=='medium', 'Grade'] = 1\n",
    "    df_fnc.loc[df_fnc['Grade']=='high', 'Grade'] = 2\n",
    "    df_fnc['Grade'] = df_fnc['Grade'].astype(int)\n",
    "    \n",
    "    return df_fnc\n",
    "\n",
    "df_trn = encode_label(df_trn)\n",
    "df_tst = encode_label(df_tst)"
   ]
  },
  {
   "cell_type": "code",
   "execution_count": 6,
   "id": "881907d2",
   "metadata": {
    "ExecuteTime": {
     "end_time": "2024-01-25T06:35:06.947015Z",
     "start_time": "2024-01-25T06:35:06.941653Z"
    }
   },
   "outputs": [
    {
     "data": {
      "text/html": [
       "<div>\n",
       "<style scoped>\n",
       "    .dataframe tbody tr th:only-of-type {\n",
       "        vertical-align: middle;\n",
       "    }\n",
       "\n",
       "    .dataframe tbody tr th {\n",
       "        vertical-align: top;\n",
       "    }\n",
       "\n",
       "    .dataframe thead th {\n",
       "        text-align: right;\n",
       "    }\n",
       "</style>\n",
       "<table border=\"1\" class=\"dataframe\">\n",
       "  <thead>\n",
       "    <tr style=\"text-align: right;\">\n",
       "      <th></th>\n",
       "      <th>pH</th>\n",
       "      <th>Temprature</th>\n",
       "      <th>Taste</th>\n",
       "      <th>Odor</th>\n",
       "      <th>Fat</th>\n",
       "      <th>Turbidity</th>\n",
       "      <th>Colour</th>\n",
       "      <th>Grade</th>\n",
       "    </tr>\n",
       "    <tr>\n",
       "      <th>index</th>\n",
       "      <th></th>\n",
       "      <th></th>\n",
       "      <th></th>\n",
       "      <th></th>\n",
       "      <th></th>\n",
       "      <th></th>\n",
       "      <th></th>\n",
       "      <th></th>\n",
       "    </tr>\n",
       "  </thead>\n",
       "  <tbody>\n",
       "    <tr>\n",
       "      <th>244</th>\n",
       "      <td>6.5</td>\n",
       "      <td>38</td>\n",
       "      <td>1</td>\n",
       "      <td>0</td>\n",
       "      <td>1</td>\n",
       "      <td>0</td>\n",
       "      <td>255</td>\n",
       "      <td>1</td>\n",
       "    </tr>\n",
       "    <tr>\n",
       "      <th>824</th>\n",
       "      <td>6.8</td>\n",
       "      <td>45</td>\n",
       "      <td>0</td>\n",
       "      <td>0</td>\n",
       "      <td>0</td>\n",
       "      <td>1</td>\n",
       "      <td>255</td>\n",
       "      <td>1</td>\n",
       "    </tr>\n",
       "  </tbody>\n",
       "</table>\n",
       "</div>"
      ],
      "text/plain": [
       "        pH  Temprature  Taste  Odor  Fat   Turbidity  Colour  Grade\n",
       "index                                                              \n",
       "244    6.5          38      1     0     1          0     255      1\n",
       "824    6.8          45      0     0     0          1     255      1"
      ]
     },
     "execution_count": 6,
     "metadata": {},
     "output_type": "execute_result"
    }
   ],
   "source": [
    "df_trn.head(2)"
   ]
  },
  {
   "cell_type": "code",
   "execution_count": 7,
   "id": "7cfe374a",
   "metadata": {
    "ExecuteTime": {
     "end_time": "2024-01-25T06:35:06.952981Z",
     "start_time": "2024-01-25T06:35:06.948237Z"
    }
   },
   "outputs": [
    {
     "name": "stdout",
     "output_type": "stream",
     "text": [
      "(847, 1) (847, 7)\n",
      "(212, 1) (212, 7)\n"
     ]
    }
   ],
   "source": [
    "# Prepare for training\n",
    "y_trn = df_trn[['Grade']]\n",
    "X_trn = df_trn.drop(columns='Grade')\n",
    "\n",
    "y_tst = df_tst[['Grade']]\n",
    "X_tst = df_tst.drop(columns='Grade')\n",
    "\n",
    "print(y_trn.shape, X_trn.shape)\n",
    "print(y_tst.shape, X_tst.shape)"
   ]
  },
  {
   "cell_type": "code",
   "execution_count": 8,
   "id": "a162df85",
   "metadata": {
    "ExecuteTime": {
     "end_time": "2024-01-25T06:35:06.960507Z",
     "start_time": "2024-01-25T06:35:06.953946Z"
    }
   },
   "outputs": [],
   "source": [
    "# Scaler\n",
    "scaler = StandardScaler()\n",
    "X_trn_scale = pd.DataFrame(scaler.fit_transform(X_trn))\n",
    "X_trn_scale.columns = X_trn.columns\n",
    "X_trn_scale.index = X_trn.index\n",
    "\n",
    "X_tst_scale = pd.DataFrame(scaler.transform(X_tst))\n",
    "X_tst_scale.columns = X_tst.columns\n",
    "X_tst_scale.index = X_tst.index"
   ]
  },
  {
   "cell_type": "code",
   "execution_count": 9,
   "id": "af41da55",
   "metadata": {
    "ExecuteTime": {
     "end_time": "2024-01-25T06:35:06.967182Z",
     "start_time": "2024-01-25T06:35:06.961673Z"
    }
   },
   "outputs": [
    {
     "data": {
      "text/html": [
       "<div>\n",
       "<style scoped>\n",
       "    .dataframe tbody tr th:only-of-type {\n",
       "        vertical-align: middle;\n",
       "    }\n",
       "\n",
       "    .dataframe tbody tr th {\n",
       "        vertical-align: top;\n",
       "    }\n",
       "\n",
       "    .dataframe thead th {\n",
       "        text-align: right;\n",
       "    }\n",
       "</style>\n",
       "<table border=\"1\" class=\"dataframe\">\n",
       "  <thead>\n",
       "    <tr style=\"text-align: right;\">\n",
       "      <th></th>\n",
       "      <th>pH</th>\n",
       "      <th>Temprature</th>\n",
       "      <th>Taste</th>\n",
       "      <th>Odor</th>\n",
       "      <th>Fat</th>\n",
       "      <th>Turbidity</th>\n",
       "      <th>Colour</th>\n",
       "    </tr>\n",
       "    <tr>\n",
       "      <th>index</th>\n",
       "      <th></th>\n",
       "      <th></th>\n",
       "      <th></th>\n",
       "      <th></th>\n",
       "      <th></th>\n",
       "      <th></th>\n",
       "      <th></th>\n",
       "    </tr>\n",
       "  </thead>\n",
       "  <tbody>\n",
       "    <tr>\n",
       "      <th>244</th>\n",
       "      <td>-0.091649</td>\n",
       "      <td>-0.607768</td>\n",
       "      <td>0.902056</td>\n",
       "      <td>-0.882843</td>\n",
       "      <td>0.691509</td>\n",
       "      <td>-0.989430</td>\n",
       "      <td>0.744513</td>\n",
       "    </tr>\n",
       "    <tr>\n",
       "      <th>824</th>\n",
       "      <td>0.122987</td>\n",
       "      <td>0.067163</td>\n",
       "      <td>-1.108579</td>\n",
       "      <td>-0.882843</td>\n",
       "      <td>-1.446112</td>\n",
       "      <td>1.010683</td>\n",
       "      <td>0.744513</td>\n",
       "    </tr>\n",
       "  </tbody>\n",
       "</table>\n",
       "</div>"
      ],
      "text/plain": [
       "             pH  Temprature     Taste      Odor      Fat   Turbidity    Colour\n",
       "index                                                                         \n",
       "244   -0.091649   -0.607768  0.902056 -0.882843  0.691509  -0.989430  0.744513\n",
       "824    0.122987    0.067163 -1.108579 -0.882843 -1.446112   1.010683  0.744513"
      ]
     },
     "execution_count": 9,
     "metadata": {},
     "output_type": "execute_result"
    }
   ],
   "source": [
    "X_trn_scale.head(2)"
   ]
  },
  {
   "cell_type": "markdown",
   "id": "5c69b69d",
   "metadata": {},
   "source": [
    "# Train model"
   ]
  },
  {
   "cell_type": "markdown",
   "id": "b830040c",
   "metadata": {},
   "source": [
    "## CV - Hyperparameters tuning"
   ]
  },
  {
   "cell_type": "code",
   "execution_count": 10,
   "id": "a41cf5d9",
   "metadata": {
    "ExecuteTime": {
     "end_time": "2024-01-25T06:35:06.972256Z",
     "start_time": "2024-01-25T06:35:06.970301Z"
    }
   },
   "outputs": [],
   "source": [
    "# Create a stratified 5-fold cross-validator\n",
    "skf = StratifiedKFold(n_splits=5, shuffle=True, random_state=seed_no)"
   ]
  },
  {
   "cell_type": "code",
   "execution_count": 16,
   "id": "e7d637b1",
   "metadata": {
    "ExecuteTime": {
     "end_time": "2024-01-25T06:37:02.625348Z",
     "start_time": "2024-01-25T06:36:19.847397Z"
    }
   },
   "outputs": [
    {
     "data": {
      "image/png": "[encoded data removed]",
      "text/plain": [
       "<Figure size 640x480 with 1 Axes>"
      ]
     },
     "metadata": {},
     "output_type": "display_data"
    },
    {
     "name": "stdout",
     "output_type": "stream",
     "text": [
      "Optimal number of neighbors: 1\n"
     ]
    }
   ],
   "source": [
    "# Define a range of neighbors (k) to test\n",
    "neighbors_range = range(1, int(X_trn_scale.shape[0]*0.79))\n",
    "\n",
    "# Initialize an empty list to store mean cross-validated accuracies\n",
    "cv_f1_scores = []\n",
    "cv_f1_scores_std = []\n",
    "\n",
    "# Perform cross-validation for each value of k\n",
    "for k in neighbors_range:\n",
    "    knn_classifier = KNeighborsClassifier(n_neighbors=k)\n",
    "    scores = cross_val_score(knn_classifier, \n",
    "                             X_trn_scale, y_trn, \n",
    "                             cv=skf, scoring='f1_macro')\n",
    "    f1_mean = np.mean(scores)\n",
    "    f1_std = np.std(scores)\n",
    "    cv_f1_scores.append(f1_mean)\n",
    "    cv_f1_scores_std.append(f1_std)\n",
    "\n",
    "# Plot the mean cross-validated accuracies for different values of k\n",
    "plt.plot(neighbors_range, cv_f1_scores, marker='o', markersize=3)\n",
    "\n",
    "plt.title('F1-Score with Cross-Validation for KNN')\n",
    "plt.xlabel('Number of Neighbors (k)')\n",
    "plt.ylabel('Mean Cross-Validated F1-Score')\n",
    "plt.show()\n",
    "\n",
    "# Find the optimal number of neighbors (k) based on the elbow point\n",
    "optimal_k = neighbors_range[np.argmax(cv_f1_scores)]\n",
    "print(\"Optimal number of neighbors:\", optimal_k)"
   ]
  },
  {
   "cell_type": "markdown",
   "id": "92dde88e",
   "metadata": {},
   "source": [
    "## Retrain the whole training data with the best parameters"
   ]
  },
  {
   "cell_type": "code",
   "execution_count": 17,
   "id": "179b52f7",
   "metadata": {
    "ExecuteTime": {
     "end_time": "2024-01-25T06:37:02.657214Z",
     "start_time": "2024-01-25T06:37:02.627387Z"
    }
   },
   "outputs": [
    {
     "name": "stdout",
     "output_type": "stream",
     "text": [
      "              precision    recall  f1-score   support\n",
      "\n",
      "           0       1.00      1.00      1.00       343\n",
      "           1       1.00      1.00      1.00       299\n",
      "           2       1.00      1.00      1.00       205\n",
      "\n",
      "    accuracy                           1.00       847\n",
      "   macro avg       1.00      1.00      1.00       847\n",
      "weighted avg       1.00      1.00      1.00       847\n",
      "\n"
     ]
    }
   ],
   "source": [
    "# Train model\n",
    "## Create a KNN Classifier\n",
    "knn_classifier = KNeighborsClassifier(n_neighbors=optimal_k)\n",
    "\n",
    "## Train the model\n",
    "knn_classifier.fit(X_trn_scale, y_trn)\n",
    "\n",
    "## Make predictions on the test set\n",
    "y_trn_pred = knn_classifier.predict(X_trn_scale)\n",
    "\n",
    "## Evaluate the model/log score\n",
    "dict_rep = classification_report(y_trn, y_trn_pred, output_dict=True)\n",
    "print(classification_report(y_trn, y_trn_pred))"
   ]
  },
  {
   "cell_type": "markdown",
   "id": "d0a37fe2",
   "metadata": {},
   "source": [
    "## Performance on Test data"
   ]
  },
  {
   "cell_type": "code",
   "execution_count": 18,
   "id": "994df704",
   "metadata": {
    "ExecuteTime": {
     "end_time": "2024-01-25T06:37:02.672386Z",
     "start_time": "2024-01-25T06:37:02.658714Z"
    }
   },
   "outputs": [
    {
     "name": "stdout",
     "output_type": "stream",
     "text": [
      "Accuracy: 0.9952830188679245\n",
      "Classification Report:\n",
      "              precision    recall  f1-score   support\n",
      "\n",
      "           0       0.99      1.00      0.99        86\n",
      "           1       1.00      1.00      1.00        75\n",
      "           2       1.00      0.98      0.99        51\n",
      "\n",
      "    accuracy                           1.00       212\n",
      "   macro avg       1.00      0.99      0.99       212\n",
      "weighted avg       1.00      1.00      1.00       212\n",
      "\n"
     ]
    }
   ],
   "source": [
    "# Make predictions on the test set\n",
    "# y_test_pred = rf_classifier.predict(X_tst)\n",
    "y_test_pred = knn_classifier.predict(X_tst_scale)\n",
    "\n",
    "# Evaluate the model\n",
    "accuracy = accuracy_score(y_tst, y_test_pred)\n",
    "print(f\"Accuracy: {accuracy}\")\n",
    "\n",
    "# Display classification report\n",
    "print(\"Classification Report:\")\n",
    "print(classification_report(y_tst, y_test_pred))"
   ]
  },
  {
   "cell_type": "code",
   "execution_count": 19,
   "id": "b0cb0c6a",
   "metadata": {
    "ExecuteTime": {
     "end_time": "2024-01-25T06:37:02.768928Z",
     "start_time": "2024-01-25T06:37:02.674441Z"
    }
   },
   "outputs": [
    {
     "data": {
      "image/png": "[encoded data removed]",
      "text/plain": [
       "<Figure size 500x300 with 2 Axes>"
      ]
     },
     "metadata": {},
     "output_type": "display_data"
    }
   ],
   "source": [
    "# Get the confusion matrix\n",
    "conf_matrix = confusion_matrix(y_tst, y_test_pred)\n",
    "\n",
    "# Display the confusion matrix using a heatmap\n",
    "class_names = ['low', 'medium', 'high']\n",
    "plt.figure(figsize=(5, 3))\n",
    "sns.heatmap(conf_matrix, annot=True, fmt='d', cmap='Blues', xticklabels=class_names, yticklabels=class_names)\n",
    "plt.xlabel('Predicted Label')\n",
    "plt.ylabel('True Label')\n",
    "plt.title('Confusion Matrix')\n",
    "plt.show()"
   ]
  },
  {
   "cell_type": "markdown",
   "id": "42551251",
   "metadata": {},
   "source": [
    "# EDA Error (Testing dataset)"
   ]
  },
  {
   "cell_type": "code",
   "execution_count": 20,
   "id": "5b5044d3",
   "metadata": {
    "ExecuteTime": {
     "end_time": "2024-01-25T06:37:02.776195Z",
     "start_time": "2024-01-25T06:37:02.770090Z"
    }
   },
   "outputs": [
    {
     "data": {
      "text/html": [
       "<div>\n",
       "<style scoped>\n",
       "    .dataframe tbody tr th:only-of-type {\n",
       "        vertical-align: middle;\n",
       "    }\n",
       "\n",
       "    .dataframe tbody tr th {\n",
       "        vertical-align: top;\n",
       "    }\n",
       "\n",
       "    .dataframe thead th {\n",
       "        text-align: right;\n",
       "    }\n",
       "</style>\n",
       "<table border=\"1\" class=\"dataframe\">\n",
       "  <thead>\n",
       "    <tr style=\"text-align: right;\">\n",
       "      <th></th>\n",
       "      <th>pH</th>\n",
       "      <th>Temprature</th>\n",
       "      <th>Taste</th>\n",
       "      <th>Odor</th>\n",
       "      <th>Fat</th>\n",
       "      <th>Turbidity</th>\n",
       "      <th>Colour</th>\n",
       "      <th>Grade</th>\n",
       "      <th>pred_test</th>\n",
       "    </tr>\n",
       "    <tr>\n",
       "      <th>index</th>\n",
       "      <th></th>\n",
       "      <th></th>\n",
       "      <th></th>\n",
       "      <th></th>\n",
       "      <th></th>\n",
       "      <th></th>\n",
       "      <th></th>\n",
       "      <th></th>\n",
       "      <th></th>\n",
       "    </tr>\n",
       "  </thead>\n",
       "  <tbody>\n",
       "    <tr>\n",
       "      <th>1</th>\n",
       "      <td>6.6</td>\n",
       "      <td>36</td>\n",
       "      <td>0</td>\n",
       "      <td>1</td>\n",
       "      <td>0</td>\n",
       "      <td>1</td>\n",
       "      <td>253</td>\n",
       "      <td>2</td>\n",
       "      <td>0</td>\n",
       "    </tr>\n",
       "  </tbody>\n",
       "</table>\n",
       "</div>"
      ],
      "text/plain": [
       "        pH  Temprature  Taste  Odor  Fat   Turbidity  Colour  Grade  pred_test\n",
       "index                                                                         \n",
       "1      6.6          36      0     1     0          1     253      2          0"
      ]
     },
     "execution_count": 20,
     "metadata": {},
     "output_type": "execute_result"
    }
   ],
   "source": [
    "# Merge prediction with the testing dataset\n",
    "df_test_perf = y_tst.copy()\n",
    "df_test_perf['pred_test'] = y_test_pred\n",
    "df_test_perf = X_tst.merge(df_test_perf, left_index=True, right_index=True)\n",
    "\n",
    "# Explore Error\n",
    "df_test_perf[df_test_perf['Grade']!=df_test_perf['pred_test']]"
   ]
  },
  {
   "cell_type": "code",
   "execution_count": null,
   "id": "fe596768",
   "metadata": {},
   "outputs": [],
   "source": []
  },
  {
   "cell_type": "code",
   "execution_count": null,
   "id": "fe698493",
   "metadata": {},
   "outputs": [],
   "source": []
  }
 ],
 "metadata": {
  "kernelspec": {
   "display_name": "Python 3 (ipykernel)",
   "language": "python",
   "name": "python3"
  },
  "language_info": {
   "codemirror_mode": {
    "name": "ipython",
    "version": 3
   },
   "file_extension": ".py",
   "mimetype": "text/x-python",
   "name": "python",
   "nbconvert_exporter": "python",
   "pygments_lexer": "ipython3",
   "version": "3.9.6"
  },
  "toc": {
   "base_numbering": 1,
   "nav_menu": {},
   "number_sections": true,
   "sideBar": true,
   "skip_h1_title": false,
   "title_cell": "Table of Contents",
   "title_sidebar": "Contents",
   "toc_cell": false,
   "toc_position": {
    "height": "calc(100% - 180px)",
    "left": "10px",
    "top": "150px",
    "width": "205.81px"
   },
   "toc_section_display": true,
   "toc_window_display": true
  }
 },
 "nbformat": 4,
 "nbformat_minor": 5
}
