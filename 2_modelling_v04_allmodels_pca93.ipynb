{
 "cells": [
  {
   "cell_type": "markdown",
   "id": "87ed2a5f",
   "metadata": {},
   "source": [
    "# Note:  \n",
    "V4  \n",
    "- Tested PCA.\n",
    "\n",
    "V2  \n",
    "- Add adaptive performance index from only Macro F1 to any.  \n",
    "pef_matric1='macro avg' or 'weighted avg', pef_matric2='f1-score', 'precision', or 'recall'\n",
    "- Show performance as \"macro avg - f1-score.  \n",
    "- Add QDA model.  \n",
    "\n",
    "V1 \n",
    "- Combine all models in single file for doing further experiment, such as data preprocessing and feature engineering experiment further.\n",
    "- Show all results of all models and plot it.\n",
    "- Show performance as \"macro avg - f1-score."
   ]
  },
  {
   "cell_type": "code",
   "execution_count": 34,
   "id": "98f37c97",
   "metadata": {
    "ExecuteTime": {
     "end_time": "2024-02-02T01:19:27.134830Z",
     "start_time": "2024-02-02T01:19:27.131978Z"
    }
   },
   "outputs": [],
   "source": [
    "import pandas as pd\n",
    "pd.set_option('display.max_colwidth', 100)\n",
    "import numpy as np\n",
    "import random\n",
    "import seaborn as sns\n",
    "import matplotlib.pyplot as plt\n",
    "\n",
    "seed_no = 572\n",
    "\n",
    "import warnings\n",
    "warnings.filterwarnings(\"ignore\")"
   ]
  },
  {
   "cell_type": "code",
   "execution_count": 35,
   "id": "38cf4c67",
   "metadata": {
    "ExecuteTime": {
     "end_time": "2024-02-02T01:19:27.139773Z",
     "start_time": "2024-02-02T01:19:27.136914Z"
    }
   },
   "outputs": [],
   "source": [
    "from sklearn.preprocessing import StandardScaler\n",
    "from sklearn.model_selection import StratifiedKFold, GridSearchCV, cross_val_score\n",
    "from sklearn.metrics import accuracy_score, classification_report, confusion_matrix\n",
    "\n",
    "\n",
    "from sklearn.linear_model import LogisticRegression\n",
    "from sklearn.ensemble import RandomForestClassifier, AdaBoostClassifier\n",
    "from sklearn.naive_bayes import GaussianNB\n",
    "from sklearn.svm import SVC\n",
    "from sklearn.tree import DecisionTreeClassifier\n",
    "from sklearn.discriminant_analysis import LinearDiscriminantAnalysis, QuadraticDiscriminantAnalysis\n",
    "from sklearn.neighbors import KNeighborsClassifier\n",
    "from sklearn.decomposition import PCA\n"
   ]
  },
  {
   "cell_type": "markdown",
   "id": "c0be87c7",
   "metadata": {},
   "source": [
    "# Load data"
   ]
  },
  {
   "cell_type": "code",
   "execution_count": 36,
   "id": "4e1c8fe9",
   "metadata": {
    "ExecuteTime": {
     "end_time": "2024-02-02T01:19:27.145552Z",
     "start_time": "2024-02-02T01:19:27.140812Z"
    }
   },
   "outputs": [],
   "source": [
    "df_trn = pd.read_csv('data/x_train_82.csv', index_col='index')\n",
    "df_tst = pd.read_csv('data/x_test_82.csv', index_col='index')"
   ]
  },
  {
   "cell_type": "code",
   "execution_count": 37,
   "id": "c1549a2e",
   "metadata": {
    "ExecuteTime": {
     "end_time": "2024-02-02T01:19:27.152874Z",
     "start_time": "2024-02-02T01:19:27.147466Z"
    }
   },
   "outputs": [
    {
     "name": "stdout",
     "output_type": "stream",
     "text": [
      "(847, 8) (212, 8)\n"
     ]
    },
    {
     "data": {
      "text/html": [
       "<div>\n",
       "<style scoped>\n",
       "    .dataframe tbody tr th:only-of-type {\n",
       "        vertical-align: middle;\n",
       "    }\n",
       "\n",
       "    .dataframe tbody tr th {\n",
       "        vertical-align: top;\n",
       "    }\n",
       "\n",
       "    .dataframe thead th {\n",
       "        text-align: right;\n",
       "    }\n",
       "</style>\n",
       "<table border=\"1\" class=\"dataframe\">\n",
       "  <thead>\n",
       "    <tr style=\"text-align: right;\">\n",
       "      <th></th>\n",
       "      <th>pH</th>\n",
       "      <th>Temprature</th>\n",
       "      <th>Taste</th>\n",
       "      <th>Odor</th>\n",
       "      <th>Fat</th>\n",
       "      <th>Turbidity</th>\n",
       "      <th>Colour</th>\n",
       "      <th>Grade</th>\n",
       "    </tr>\n",
       "    <tr>\n",
       "      <th>index</th>\n",
       "      <th></th>\n",
       "      <th></th>\n",
       "      <th></th>\n",
       "      <th></th>\n",
       "      <th></th>\n",
       "      <th></th>\n",
       "      <th></th>\n",
       "      <th></th>\n",
       "    </tr>\n",
       "  </thead>\n",
       "  <tbody>\n",
       "    <tr>\n",
       "      <th>244</th>\n",
       "      <td>6.5</td>\n",
       "      <td>38</td>\n",
       "      <td>1</td>\n",
       "      <td>0</td>\n",
       "      <td>1</td>\n",
       "      <td>0</td>\n",
       "      <td>255</td>\n",
       "      <td>medium</td>\n",
       "    </tr>\n",
       "    <tr>\n",
       "      <th>824</th>\n",
       "      <td>6.8</td>\n",
       "      <td>45</td>\n",
       "      <td>0</td>\n",
       "      <td>0</td>\n",
       "      <td>0</td>\n",
       "      <td>1</td>\n",
       "      <td>255</td>\n",
       "      <td>medium</td>\n",
       "    </tr>\n",
       "    <tr>\n",
       "      <th>602</th>\n",
       "      <td>5.6</td>\n",
       "      <td>50</td>\n",
       "      <td>0</td>\n",
       "      <td>1</td>\n",
       "      <td>1</td>\n",
       "      <td>1</td>\n",
       "      <td>255</td>\n",
       "      <td>low</td>\n",
       "    </tr>\n",
       "    <tr>\n",
       "      <th>347</th>\n",
       "      <td>8.6</td>\n",
       "      <td>55</td>\n",
       "      <td>0</td>\n",
       "      <td>1</td>\n",
       "      <td>1</td>\n",
       "      <td>1</td>\n",
       "      <td>255</td>\n",
       "      <td>low</td>\n",
       "    </tr>\n",
       "    <tr>\n",
       "      <th>753</th>\n",
       "      <td>6.6</td>\n",
       "      <td>38</td>\n",
       "      <td>0</td>\n",
       "      <td>0</td>\n",
       "      <td>0</td>\n",
       "      <td>0</td>\n",
       "      <td>255</td>\n",
       "      <td>medium</td>\n",
       "    </tr>\n",
       "  </tbody>\n",
       "</table>\n",
       "</div>"
      ],
      "text/plain": [
       "        pH  Temprature  Taste  Odor  Fat   Turbidity  Colour   Grade\n",
       "index                                                               \n",
       "244    6.5          38      1     0     1          0     255  medium\n",
       "824    6.8          45      0     0     0          1     255  medium\n",
       "602    5.6          50      0     1     1          1     255     low\n",
       "347    8.6          55      0     1     1          1     255     low\n",
       "753    6.6          38      0     0     0          0     255  medium"
      ]
     },
     "execution_count": 37,
     "metadata": {},
     "output_type": "execute_result"
    }
   ],
   "source": [
    "print(df_trn.shape, df_tst.shape)\n",
    "df_trn.head()"
   ]
  },
  {
   "cell_type": "markdown",
   "id": "70831b4d",
   "metadata": {},
   "source": [
    "# Data Preprocessing"
   ]
  },
  {
   "cell_type": "code",
   "execution_count": 38,
   "id": "5bbd0958",
   "metadata": {
    "ExecuteTime": {
     "end_time": "2024-02-02T01:19:27.158552Z",
     "start_time": "2024-02-02T01:19:27.154121Z"
    }
   },
   "outputs": [],
   "source": [
    "def encode_label(df_in):\n",
    "    df_fnc = df_in.copy()\n",
    "    df_fnc.loc[df_fnc['Grade']=='low', 'Grade'] = 0\n",
    "    df_fnc.loc[df_fnc['Grade']=='medium', 'Grade'] = 1\n",
    "    df_fnc.loc[df_fnc['Grade']=='high', 'Grade'] = 2\n",
    "    df_fnc['Grade'] = df_fnc['Grade'].astype(int)\n",
    "    \n",
    "    return df_fnc\n",
    "\n",
    "df_trn = encode_label(df_trn)\n",
    "df_tst = encode_label(df_tst)"
   ]
  },
  {
   "cell_type": "code",
   "execution_count": 39,
   "id": "881907d2",
   "metadata": {
    "ExecuteTime": {
     "end_time": "2024-02-02T01:19:27.164410Z",
     "start_time": "2024-02-02T01:19:27.159898Z"
    }
   },
   "outputs": [
    {
     "data": {
      "text/html": [
       "<div>\n",
       "<style scoped>\n",
       "    .dataframe tbody tr th:only-of-type {\n",
       "        vertical-align: middle;\n",
       "    }\n",
       "\n",
       "    .dataframe tbody tr th {\n",
       "        vertical-align: top;\n",
       "    }\n",
       "\n",
       "    .dataframe thead th {\n",
       "        text-align: right;\n",
       "    }\n",
       "</style>\n",
       "<table border=\"1\" class=\"dataframe\">\n",
       "  <thead>\n",
       "    <tr style=\"text-align: right;\">\n",
       "      <th></th>\n",
       "      <th>pH</th>\n",
       "      <th>Temprature</th>\n",
       "      <th>Taste</th>\n",
       "      <th>Odor</th>\n",
       "      <th>Fat</th>\n",
       "      <th>Turbidity</th>\n",
       "      <th>Colour</th>\n",
       "      <th>Grade</th>\n",
       "    </tr>\n",
       "    <tr>\n",
       "      <th>index</th>\n",
       "      <th></th>\n",
       "      <th></th>\n",
       "      <th></th>\n",
       "      <th></th>\n",
       "      <th></th>\n",
       "      <th></th>\n",
       "      <th></th>\n",
       "      <th></th>\n",
       "    </tr>\n",
       "  </thead>\n",
       "  <tbody>\n",
       "    <tr>\n",
       "      <th>244</th>\n",
       "      <td>6.5</td>\n",
       "      <td>38</td>\n",
       "      <td>1</td>\n",
       "      <td>0</td>\n",
       "      <td>1</td>\n",
       "      <td>0</td>\n",
       "      <td>255</td>\n",
       "      <td>1</td>\n",
       "    </tr>\n",
       "    <tr>\n",
       "      <th>824</th>\n",
       "      <td>6.8</td>\n",
       "      <td>45</td>\n",
       "      <td>0</td>\n",
       "      <td>0</td>\n",
       "      <td>0</td>\n",
       "      <td>1</td>\n",
       "      <td>255</td>\n",
       "      <td>1</td>\n",
       "    </tr>\n",
       "  </tbody>\n",
       "</table>\n",
       "</div>"
      ],
      "text/plain": [
       "        pH  Temprature  Taste  Odor  Fat   Turbidity  Colour  Grade\n",
       "index                                                              \n",
       "244    6.5          38      1     0     1          0     255      1\n",
       "824    6.8          45      0     0     0          1     255      1"
      ]
     },
     "execution_count": 39,
     "metadata": {},
     "output_type": "execute_result"
    }
   ],
   "source": [
    "df_trn.head(2)"
   ]
  },
  {
   "cell_type": "code",
   "execution_count": 40,
   "id": "7cfe374a",
   "metadata": {
    "ExecuteTime": {
     "end_time": "2024-02-02T01:19:27.169294Z",
     "start_time": "2024-02-02T01:19:27.165781Z"
    }
   },
   "outputs": [
    {
     "name": "stdout",
     "output_type": "stream",
     "text": [
      "(847, 1) (847, 7)\n",
      "(212, 1) (212, 7)\n"
     ]
    }
   ],
   "source": [
    "# Prepare for training\n",
    "y_trn = df_trn[['Grade']]\n",
    "X_trn = df_trn.drop(columns='Grade')\n",
    "\n",
    "y_tst = df_tst[['Grade']]\n",
    "X_tst = df_tst.drop(columns='Grade')\n",
    "\n",
    "print(y_trn.shape, X_trn.shape)\n",
    "print(y_tst.shape, X_tst.shape)"
   ]
  },
  {
   "cell_type": "markdown",
   "id": "dd746d49",
   "metadata": {},
   "source": [
    "## Scaler"
   ]
  },
  {
   "cell_type": "code",
   "execution_count": 41,
   "id": "a162df85",
   "metadata": {
    "ExecuteTime": {
     "end_time": "2024-02-02T01:19:27.175155Z",
     "start_time": "2024-02-02T01:19:27.170407Z"
    }
   },
   "outputs": [],
   "source": [
    "# Scaler\n",
    "scaler = StandardScaler()\n",
    "X_trn_scale = pd.DataFrame(scaler.fit_transform(X_trn))\n",
    "X_trn_scale.columns = X_trn.columns\n",
    "X_trn_scale.index = X_trn.index\n",
    "\n",
    "X_tst_scale = pd.DataFrame(scaler.transform(X_tst))\n",
    "X_tst_scale.columns = X_tst.columns\n",
    "X_tst_scale.index = X_tst.index"
   ]
  },
  {
   "cell_type": "code",
   "execution_count": 42,
   "id": "af41da55",
   "metadata": {
    "ExecuteTime": {
     "end_time": "2024-02-02T01:19:27.191429Z",
     "start_time": "2024-02-02T01:19:27.186146Z"
    }
   },
   "outputs": [
    {
     "data": {
      "text/html": [
       "<div>\n",
       "<style scoped>\n",
       "    .dataframe tbody tr th:only-of-type {\n",
       "        vertical-align: middle;\n",
       "    }\n",
       "\n",
       "    .dataframe tbody tr th {\n",
       "        vertical-align: top;\n",
       "    }\n",
       "\n",
       "    .dataframe thead th {\n",
       "        text-align: right;\n",
       "    }\n",
       "</style>\n",
       "<table border=\"1\" class=\"dataframe\">\n",
       "  <thead>\n",
       "    <tr style=\"text-align: right;\">\n",
       "      <th></th>\n",
       "      <th>pH</th>\n",
       "      <th>Temprature</th>\n",
       "      <th>Taste</th>\n",
       "      <th>Odor</th>\n",
       "      <th>Fat</th>\n",
       "      <th>Turbidity</th>\n",
       "      <th>Colour</th>\n",
       "    </tr>\n",
       "    <tr>\n",
       "      <th>index</th>\n",
       "      <th></th>\n",
       "      <th></th>\n",
       "      <th></th>\n",
       "      <th></th>\n",
       "      <th></th>\n",
       "      <th></th>\n",
       "      <th></th>\n",
       "    </tr>\n",
       "  </thead>\n",
       "  <tbody>\n",
       "    <tr>\n",
       "      <th>244</th>\n",
       "      <td>-0.091649</td>\n",
       "      <td>-0.607768</td>\n",
       "      <td>0.902056</td>\n",
       "      <td>-0.882843</td>\n",
       "      <td>0.691509</td>\n",
       "      <td>-0.989430</td>\n",
       "      <td>0.744513</td>\n",
       "    </tr>\n",
       "    <tr>\n",
       "      <th>824</th>\n",
       "      <td>0.122987</td>\n",
       "      <td>0.067163</td>\n",
       "      <td>-1.108579</td>\n",
       "      <td>-0.882843</td>\n",
       "      <td>-1.446112</td>\n",
       "      <td>1.010683</td>\n",
       "      <td>0.744513</td>\n",
       "    </tr>\n",
       "  </tbody>\n",
       "</table>\n",
       "</div>"
      ],
      "text/plain": [
       "             pH  Temprature     Taste      Odor      Fat   Turbidity    Colour\n",
       "index                                                                         \n",
       "244   -0.091649   -0.607768  0.902056 -0.882843  0.691509  -0.989430  0.744513\n",
       "824    0.122987    0.067163 -1.108579 -0.882843 -1.446112   1.010683  0.744513"
      ]
     },
     "execution_count": 42,
     "metadata": {},
     "output_type": "execute_result"
    }
   ],
   "source": [
    "X_trn_scale.head(2)"
   ]
  },
  {
   "cell_type": "markdown",
   "id": "a564851b",
   "metadata": {},
   "source": [
    "## PCA"
   ]
  },
  {
   "cell_type": "code",
   "execution_count": 43,
   "id": "2dc1fd52",
   "metadata": {
    "ExecuteTime": {
     "end_time": "2024-02-02T01:19:27.199005Z",
     "start_time": "2024-02-02T01:19:27.192788Z"
    }
   },
   "outputs": [
    {
     "name": "stdout",
     "output_type": "stream",
     "text": [
      "Explained variance ratio (93%): [0.26510358 0.18933908 0.16027773 0.14173176 0.10242888 0.07769968]\n",
      "Shape of X_trn_pca_93: (847, 6)\n"
     ]
    }
   ],
   "source": [
    "# Apply PCA to the training data\n",
    "pca = PCA()\n",
    "X_trn_pca = pca.fit_transform(X_trn_scale)\n",
    "\n",
    "# Determine the number of components needed to explain 95% of the variance\n",
    "explained_variance_ratio_cumsum = np.cumsum(pca.explained_variance_ratio_)\n",
    "n_components_95 = np.argmax(explained_variance_ratio_cumsum >= 0.93) + 1\n",
    "\n",
    "# Apply PCA to the training data with the chosen number of components\n",
    "pca_95 = PCA(n_components=n_components_95)\n",
    "X_trn_pca_95 = pca_95.fit_transform(X_trn_scale)\n",
    "\n",
    "# Apply the same transformation to the testing data\n",
    "X_tst_pca_95 = pca_95.transform(X_tst_scale)\n",
    "\n",
    "# Display the explained variance ratio\n",
    "explained_variance_ratio_95 = pca_95.explained_variance_ratio_\n",
    "print(f'Explained variance ratio (93%): {explained_variance_ratio_95}')\n",
    "\n",
    "# Print the shapes of transformed data\n",
    "print(f'Shape of X_trn_pca_93: {X_trn_pca_95.shape}')"
   ]
  },
  {
   "cell_type": "code",
   "execution_count": 44,
   "id": "d1d6cf8b",
   "metadata": {
    "ExecuteTime": {
     "end_time": "2024-02-02T01:19:27.203006Z",
     "start_time": "2024-02-02T01:19:27.199858Z"
    }
   },
   "outputs": [],
   "source": [
    "columns_pca = [f'PC_{i+1}' for i in range(X_trn_pca_95.shape[1])]\n",
    "df_train_pca_95 = pd.DataFrame(data=X_trn_pca_95, columns=columns_pca, index=X_trn_scale.index)\n",
    "df_test_pca_95 = pd.DataFrame(data=X_tst_pca_95, columns=columns_pca, index=X_tst_scale.index)\n"
   ]
  },
  {
   "cell_type": "code",
   "execution_count": 45,
   "id": "bb6afa86",
   "metadata": {
    "ExecuteTime": {
     "end_time": "2024-02-02T01:19:27.208191Z",
     "start_time": "2024-02-02T01:19:27.204122Z"
    }
   },
   "outputs": [
    {
     "name": "stdout",
     "output_type": "stream",
     "text": [
      "(847, 6) (212, 6)\n"
     ]
    }
   ],
   "source": [
    "X_trn_scale = df_train_pca_95\n",
    "X_tst_scale = df_test_pca_95\n",
    "print(X_trn_scale.shape, X_tst_scale.shape)"
   ]
  },
  {
   "cell_type": "code",
   "execution_count": 46,
   "id": "30f981fb",
   "metadata": {
    "ExecuteTime": {
     "end_time": "2024-02-02T01:19:27.216592Z",
     "start_time": "2024-02-02T01:19:27.209642Z"
    }
   },
   "outputs": [
    {
     "data": {
      "text/html": [
       "<div>\n",
       "<style scoped>\n",
       "    .dataframe tbody tr th:only-of-type {\n",
       "        vertical-align: middle;\n",
       "    }\n",
       "\n",
       "    .dataframe tbody tr th {\n",
       "        vertical-align: top;\n",
       "    }\n",
       "\n",
       "    .dataframe thead th {\n",
       "        text-align: right;\n",
       "    }\n",
       "</style>\n",
       "<table border=\"1\" class=\"dataframe\">\n",
       "  <thead>\n",
       "    <tr style=\"text-align: right;\">\n",
       "      <th></th>\n",
       "      <th>PC_1</th>\n",
       "      <th>PC_2</th>\n",
       "      <th>PC_3</th>\n",
       "      <th>PC_4</th>\n",
       "      <th>PC_5</th>\n",
       "      <th>PC_6</th>\n",
       "    </tr>\n",
       "  </thead>\n",
       "  <tbody>\n",
       "    <tr>\n",
       "      <th>PC_1</th>\n",
       "      <td>1.000000e+00</td>\n",
       "      <td>1.266065e-15</td>\n",
       "      <td>1.135519e-15</td>\n",
       "      <td>-7.950368e-16</td>\n",
       "      <td>5.682856e-16</td>\n",
       "      <td>-7.476595e-16</td>\n",
       "    </tr>\n",
       "    <tr>\n",
       "      <th>PC_2</th>\n",
       "      <td>1.266065e-15</td>\n",
       "      <td>1.000000e+00</td>\n",
       "      <td>1.747481e-15</td>\n",
       "      <td>6.798444e-16</td>\n",
       "      <td>2.733431e-15</td>\n",
       "      <td>-3.280635e-18</td>\n",
       "    </tr>\n",
       "    <tr>\n",
       "      <th>PC_3</th>\n",
       "      <td>1.135519e-15</td>\n",
       "      <td>1.747481e-15</td>\n",
       "      <td>1.000000e+00</td>\n",
       "      <td>-1.004350e-15</td>\n",
       "      <td>8.792023e-16</td>\n",
       "      <td>-1.134807e-15</td>\n",
       "    </tr>\n",
       "    <tr>\n",
       "      <th>PC_4</th>\n",
       "      <td>-7.950368e-16</td>\n",
       "      <td>6.798444e-16</td>\n",
       "      <td>-1.004350e-15</td>\n",
       "      <td>1.000000e+00</td>\n",
       "      <td>4.386498e-16</td>\n",
       "      <td>-2.168459e-16</td>\n",
       "    </tr>\n",
       "    <tr>\n",
       "      <th>PC_5</th>\n",
       "      <td>5.682856e-16</td>\n",
       "      <td>2.733431e-15</td>\n",
       "      <td>8.792023e-16</td>\n",
       "      <td>4.386498e-16</td>\n",
       "      <td>1.000000e+00</td>\n",
       "      <td>-3.467250e-16</td>\n",
       "    </tr>\n",
       "    <tr>\n",
       "      <th>PC_6</th>\n",
       "      <td>-7.476595e-16</td>\n",
       "      <td>-3.280635e-18</td>\n",
       "      <td>-1.134807e-15</td>\n",
       "      <td>-2.168459e-16</td>\n",
       "      <td>-3.467250e-16</td>\n",
       "      <td>1.000000e+00</td>\n",
       "    </tr>\n",
       "  </tbody>\n",
       "</table>\n",
       "</div>"
      ],
      "text/plain": [
       "              PC_1          PC_2          PC_3          PC_4          PC_5  \\\n",
       "PC_1  1.000000e+00  1.266065e-15  1.135519e-15 -7.950368e-16  5.682856e-16   \n",
       "PC_2  1.266065e-15  1.000000e+00  1.747481e-15  6.798444e-16  2.733431e-15   \n",
       "PC_3  1.135519e-15  1.747481e-15  1.000000e+00 -1.004350e-15  8.792023e-16   \n",
       "PC_4 -7.950368e-16  6.798444e-16 -1.004350e-15  1.000000e+00  4.386498e-16   \n",
       "PC_5  5.682856e-16  2.733431e-15  8.792023e-16  4.386498e-16  1.000000e+00   \n",
       "PC_6 -7.476595e-16 -3.280635e-18 -1.134807e-15 -2.168459e-16 -3.467250e-16   \n",
       "\n",
       "              PC_6  \n",
       "PC_1 -7.476595e-16  \n",
       "PC_2 -3.280635e-18  \n",
       "PC_3 -1.134807e-15  \n",
       "PC_4 -2.168459e-16  \n",
       "PC_5 -3.467250e-16  \n",
       "PC_6  1.000000e+00  "
      ]
     },
     "execution_count": 46,
     "metadata": {},
     "output_type": "execute_result"
    }
   ],
   "source": [
    "X_trn_scale.corr()"
   ]
  },
  {
   "cell_type": "code",
   "execution_count": 47,
   "id": "4283c5fb",
   "metadata": {
    "ExecuteTime": {
     "end_time": "2024-02-02T01:19:27.223883Z",
     "start_time": "2024-02-02T01:19:27.217632Z"
    }
   },
   "outputs": [
    {
     "data": {
      "text/html": [
       "<div>\n",
       "<style scoped>\n",
       "    .dataframe tbody tr th:only-of-type {\n",
       "        vertical-align: middle;\n",
       "    }\n",
       "\n",
       "    .dataframe tbody tr th {\n",
       "        vertical-align: top;\n",
       "    }\n",
       "\n",
       "    .dataframe thead th {\n",
       "        text-align: right;\n",
       "    }\n",
       "</style>\n",
       "<table border=\"1\" class=\"dataframe\">\n",
       "  <thead>\n",
       "    <tr style=\"text-align: right;\">\n",
       "      <th></th>\n",
       "      <th>PC_1</th>\n",
       "      <th>PC_2</th>\n",
       "      <th>PC_3</th>\n",
       "      <th>PC_4</th>\n",
       "      <th>PC_5</th>\n",
       "      <th>PC_6</th>\n",
       "    </tr>\n",
       "  </thead>\n",
       "  <tbody>\n",
       "    <tr>\n",
       "      <th>PC_1</th>\n",
       "      <td>1.000000</td>\n",
       "      <td>-0.058321</td>\n",
       "      <td>-0.003231</td>\n",
       "      <td>0.114550</td>\n",
       "      <td>-0.035217</td>\n",
       "      <td>-0.018647</td>\n",
       "    </tr>\n",
       "    <tr>\n",
       "      <th>PC_2</th>\n",
       "      <td>-0.058321</td>\n",
       "      <td>1.000000</td>\n",
       "      <td>-0.010895</td>\n",
       "      <td>-0.209190</td>\n",
       "      <td>0.047631</td>\n",
       "      <td>0.036813</td>\n",
       "    </tr>\n",
       "    <tr>\n",
       "      <th>PC_3</th>\n",
       "      <td>-0.003231</td>\n",
       "      <td>-0.010895</td>\n",
       "      <td>1.000000</td>\n",
       "      <td>0.081145</td>\n",
       "      <td>-0.027991</td>\n",
       "      <td>0.025393</td>\n",
       "    </tr>\n",
       "    <tr>\n",
       "      <th>PC_4</th>\n",
       "      <td>0.114550</td>\n",
       "      <td>-0.209190</td>\n",
       "      <td>0.081145</td>\n",
       "      <td>1.000000</td>\n",
       "      <td>0.129907</td>\n",
       "      <td>0.031244</td>\n",
       "    </tr>\n",
       "    <tr>\n",
       "      <th>PC_5</th>\n",
       "      <td>-0.035217</td>\n",
       "      <td>0.047631</td>\n",
       "      <td>-0.027991</td>\n",
       "      <td>0.129907</td>\n",
       "      <td>1.000000</td>\n",
       "      <td>-0.023904</td>\n",
       "    </tr>\n",
       "    <tr>\n",
       "      <th>PC_6</th>\n",
       "      <td>-0.018647</td>\n",
       "      <td>0.036813</td>\n",
       "      <td>0.025393</td>\n",
       "      <td>0.031244</td>\n",
       "      <td>-0.023904</td>\n",
       "      <td>1.000000</td>\n",
       "    </tr>\n",
       "  </tbody>\n",
       "</table>\n",
       "</div>"
      ],
      "text/plain": [
       "          PC_1      PC_2      PC_3      PC_4      PC_5      PC_6\n",
       "PC_1  1.000000 -0.058321 -0.003231  0.114550 -0.035217 -0.018647\n",
       "PC_2 -0.058321  1.000000 -0.010895 -0.209190  0.047631  0.036813\n",
       "PC_3 -0.003231 -0.010895  1.000000  0.081145 -0.027991  0.025393\n",
       "PC_4  0.114550 -0.209190  0.081145  1.000000  0.129907  0.031244\n",
       "PC_5 -0.035217  0.047631 -0.027991  0.129907  1.000000 -0.023904\n",
       "PC_6 -0.018647  0.036813  0.025393  0.031244 -0.023904  1.000000"
      ]
     },
     "execution_count": 47,
     "metadata": {},
     "output_type": "execute_result"
    }
   ],
   "source": [
    "X_trn_scale.corr(method='spearman')"
   ]
  },
  {
   "cell_type": "markdown",
   "id": "5c69b69d",
   "metadata": {},
   "source": [
    "# Train model"
   ]
  },
  {
   "cell_type": "markdown",
   "id": "b830040c",
   "metadata": {},
   "source": [
    "## CV - Hyperparameters tuning"
   ]
  },
  {
   "cell_type": "code",
   "execution_count": 48,
   "id": "f303116b",
   "metadata": {
    "ExecuteTime": {
     "end_time": "2024-02-02T01:19:27.228297Z",
     "start_time": "2024-02-02T01:19:27.224980Z"
    }
   },
   "outputs": [],
   "source": [
    "def classification_rep(y_true, y_pred, dataname=\"\"):\n",
    "\n",
    "    ## Evaluate the model/log score\n",
    "    dict_report = classification_report(y_true, y_pred, output_dict=True)\n",
    "    print(f\"Classification Report ({dataname}):\")\n",
    "    print(classification_report(y_true, y_pred, digits=3))\n",
    "\n",
    "    # Get the confusion matrix\n",
    "    conf_matrix = confusion_matrix(y_true, y_pred)\n",
    "\n",
    "    # Display the confusion matrix using a heatmap\n",
    "    class_names = ['low', 'medium', 'high']\n",
    "    plt.figure(figsize=(5, 3), facecolor='none')\n",
    "    sns.heatmap(conf_matrix, annot=True, fmt='d', cmap='Blues', xticklabels=class_names, yticklabels=class_names)\n",
    "    plt.xlabel('Predicted Label')\n",
    "    plt.ylabel('True Label')\n",
    "    plt.title('Confusion Matrix')\n",
    "    plt.show()\n",
    "    \n",
    "    return dict_report"
   ]
  },
  {
   "cell_type": "code",
   "execution_count": 49,
   "id": "459082af",
   "metadata": {
    "ExecuteTime": {
     "end_time": "2024-02-02T01:19:27.231260Z",
     "start_time": "2024-02-02T01:19:27.229523Z"
    }
   },
   "outputs": [],
   "source": [
    "# Create a stratified 5-fold cross-validator\n",
    "skf = StratifiedKFold(n_splits=5, shuffle=True, random_state=seed_no)"
   ]
  },
  {
   "cell_type": "code",
   "execution_count": 50,
   "id": "e15fe5d3",
   "metadata": {
    "ExecuteTime": {
     "end_time": "2024-02-02T01:19:27.233897Z",
     "start_time": "2024-02-02T01:19:27.232225Z"
    }
   },
   "outputs": [],
   "source": [
    "# setting performance matric\n",
    "# pef_matric1='macro avg' or 'weighted avg'\n",
    "# pef_matric2='f1-score', 'precision', or 'recall'\n",
    "matric1 = 'macro avg'\n",
    "matric2 = 'f1-score'"
   ]
  },
  {
   "cell_type": "markdown",
   "id": "91af61d5",
   "metadata": {},
   "source": [
    "### KNN"
   ]
  },
  {
   "cell_type": "code",
   "execution_count": 51,
   "id": "8bd51688",
   "metadata": {
    "ExecuteTime": {
     "end_time": "2024-02-02T01:19:27.240016Z",
     "start_time": "2024-02-02T01:19:27.235215Z"
    }
   },
   "outputs": [],
   "source": [
    "def model_knn(Xtrn, ytrn, Xtst, ytst, step_k=1, show_best_params=True, pef_matric1='macro avg', pef_matric2='f1-macro'):\n",
    "\n",
    "    # Set the hyperparameters and their possible values\n",
    "    param_grid = {\n",
    "        'n_neighbors': range(1, int(Xtrn.shape[0]*0.79), 1),\n",
    "        'weights': ['uniform', 'distance'],\n",
    "        'p': [1, 2]  # 1 for Manhattan distance, 2 for Euclidean distance\n",
    "    }\n",
    "\n",
    "\n",
    "    # Create the KNN classifier\n",
    "    knn_classifier = KNeighborsClassifier()\n",
    "\n",
    "    verbose_num = 1\n",
    "    if show_best_params==False:\n",
    "        verbose_num = 0\n",
    "        # Create GridSearchCV object\n",
    "    grid_search = GridSearchCV(knn_classifier, param_grid, cv=skf, \n",
    "                               scoring='f1_macro', verbose=verbose_num)\n",
    "\n",
    "    # Perform grid search with cross-validation\n",
    "    grid_search.fit(Xtrn, ytrn)\n",
    "\n",
    "    # Get the best hyperparameters\n",
    "    best_param = grid_search.best_params_\n",
    "\n",
    "    # Use the best model to make predictions on the test set\n",
    "    model_best_params = grid_search.best_estimator_\n",
    "\n",
    "    # GridSearchCV return the retrained model with whole dataset\n",
    "    ytrn_pred = model_best_params.predict(Xtrn)\n",
    "\n",
    "    # Make predictions on the test set\n",
    "    ytst_pred = model_best_params.predict(Xtst)\n",
    "    \n",
    "    \n",
    "    if show_best_params==True:\n",
    "        # Display the best hyperparameters\n",
    "        print(f'Best hyperparameters: {best_param}')\n",
    "\n",
    "        # Display the best cross-validation score\n",
    "        best_score = grid_search.best_score_\n",
    "        print(f'Best cross-validation score: {best_score}')\n",
    "        ## Evaluate the model/log score\n",
    "        dict_rep = classification_rep(ytrn, ytrn_pred, \"Train\")\n",
    "\n",
    "        # Evaluate the model\n",
    "        # Display classification report\n",
    "        dict_rep_test = classification_rep(ytst, ytst_pred, \"Test\")\n",
    "\n",
    "        \n",
    "    # prep. return dataframe\n",
    "    ret_cv_score = grid_search.best_score_\n",
    "    ret_params = best_param\n",
    "    ret_train_score = dict_rep[pef_matric1][pef_matric2]\n",
    "    ret_test_score = dict_rep_test[pef_matric1][pef_matric2]\n",
    "    df_ret = pd.DataFrame({'model': 'K-Nearest Neighbors',\n",
    "                           'score_cv': ret_cv_score, 'score_train': ret_train_score, \n",
    "                           'score_test': ret_test_score, 'best_params': [ret_params]})\n",
    "\n",
    "    return df_ret, model_best_params, grid_search"
   ]
  },
  {
   "cell_type": "code",
   "execution_count": 52,
   "id": "0905a3a8",
   "metadata": {
    "ExecuteTime": {
     "end_time": "2024-02-02T01:21:59.850887Z",
     "start_time": "2024-02-02T01:19:27.241014Z"
    },
    "scrolled": true
   },
   "outputs": [
    {
     "name": "stdout",
     "output_type": "stream",
     "text": [
      "Fitting 5 folds for each of 2672 candidates, totalling 13360 fits\n",
      "Best hyperparameters: {'n_neighbors': 33, 'p': 2, 'weights': 'distance'}\n",
      "Best cross-validation score: 0.998962417807806\n",
      "Classification Report (Train):\n",
      "              precision    recall  f1-score   support\n",
      "\n",
      "           0      1.000     1.000     1.000       343\n",
      "           1      1.000     1.000     1.000       299\n",
      "           2      1.000     1.000     1.000       205\n",
      "\n",
      "    accuracy                          1.000       847\n",
      "   macro avg      1.000     1.000     1.000       847\n",
      "weighted avg      1.000     1.000     1.000       847\n",
      "\n"
     ]
    },
    {
     "data": {
      "image/png": "[encoded data removed]",
      "text/plain": [
       "<Figure size 500x300 with 2 Axes>"
      ]
     },
     "metadata": {
      "needs_background": "light"
     },
     "output_type": "display_data"
    },
    {
     "name": "stdout",
     "output_type": "stream",
     "text": [
      "Classification Report (Test):\n",
      "              precision    recall  f1-score   support\n",
      "\n",
      "           0      0.989     1.000     0.994        86\n",
      "           1      0.987     1.000     0.993        75\n",
      "           2      1.000     0.961     0.980        51\n",
      "\n",
      "    accuracy                          0.991       212\n",
      "   macro avg      0.992     0.987     0.989       212\n",
      "weighted avg      0.991     0.991     0.991       212\n",
      "\n"
     ]
    },
    {
     "data": {
      "image/png": "[encoded data removed]",
      "text/plain": [
       "<Figure size 500x300 with 2 Axes>"
      ]
     },
     "metadata": {
      "needs_background": "light"
     },
     "output_type": "display_data"
    }
   ],
   "source": [
    "df_res_knn, knn_classifier, knn_grid_search = model_knn(X_trn_scale, y_trn, X_tst_scale, y_tst, \n",
    "                                       pef_matric1=matric1, pef_matric2=matric2)\n"
   ]
  },
  {
   "cell_type": "markdown",
   "id": "4d99d572",
   "metadata": {},
   "source": [
    "### Adaboost"
   ]
  },
  {
   "cell_type": "code",
   "execution_count": 55,
   "id": "f57a0427",
   "metadata": {
    "ExecuteTime": {
     "end_time": "2024-02-02T01:21:59.867182Z",
     "start_time": "2024-02-02T01:21:59.860855Z"
    }
   },
   "outputs": [],
   "source": [
    "def model_adaboost(Xtrn, ytrn, Xtst, ytst, show_best_params=True, pef_matric1='macro avg', pef_matric2='f1-macro'):\n",
    "    \n",
    "    # Create an AdaBoostClassifier\n",
    "    adaboost_classifier = AdaBoostClassifier(random_state=seed_no)\n",
    "\n",
    "    # Define the hyperparameter grid to search\n",
    "    param_grid_adaboost = {\n",
    "        'n_estimators': [50, 100, 200, 500, 1000, 2000],\n",
    "        'learning_rate': [0.01, 0.05, 0.1]\n",
    "    }\n",
    "\n",
    "    # Use GridSearchCV to search for the best hyperparameters\n",
    "    verbose_num = 1\n",
    "    if show_best_params==False:\n",
    "        verbose_num = 0\n",
    "    grid_search_adaboost = GridSearchCV(estimator=adaboost_classifier, \n",
    "                                         param_grid=param_grid_adaboost, \n",
    "                                         cv=skf, \n",
    "                                         scoring='f1_macro',\n",
    "                                         verbose=verbose_num)\n",
    "    grid_search_adaboost.fit(Xtrn, y_trn)\n",
    "    \n",
    "    # Get the best hyperparameters\n",
    "    best_params_adaboost = grid_search_adaboost.best_params_\n",
    "\n",
    "    # Use the best model to make predictions on the test set\n",
    "    model_best_params = grid_search_adaboost.best_estimator_\n",
    "\n",
    "    # GridSearchCV return the retrained model with whole dataset\n",
    "    ytrn_pred = model_best_params.predict(Xtrn)\n",
    "\n",
    "    # Make predictions on the test set\n",
    "    ytst_pred = model_best_params.predict(Xtst)\n",
    "    \n",
    "    \n",
    "    if show_best_params==True:\n",
    "        print(\"Best Hyperparameters (Adaboost):\", best_params_adaboost)\n",
    "        print(\"Best Score (Adaboost):\", grid_search_adaboost.best_score_)\n",
    "        ## Evaluate the model/log score\n",
    "        dict_rep = classification_rep(ytrn, ytrn_pred, \"Train\")\n",
    "\n",
    "        # Evaluate the model\n",
    "        # Display classification report\n",
    "        dict_rep_test = classification_rep(ytst, ytst_pred, \"Test\")\n",
    "\n",
    "        # Get feature importances\n",
    "        feature_importances = model_best_params.feature_importances_  # using GridSearch\n",
    "\n",
    "        # Get the corresponding feature names\n",
    "        feature_names = list(Xtrn.columns)  # Assuming you have column names in your DataFrame X\n",
    "\n",
    "        # Create a DataFrame to display feature importances\n",
    "        importance_df = pd.DataFrame({'Feature': feature_names, 'Importance': feature_importances})\n",
    "\n",
    "        # Sort the DataFrame by importance in descending order\n",
    "        importance_df = importance_df.sort_values(by='Importance', ascending=False)\n",
    "\n",
    "        # Print or visualize the feature importances\n",
    "        display(importance_df)\n",
    "\n",
    "        # Plotting feature importances \n",
    "        plt.figure(figsize=(8, 4), facecolor='none')\n",
    "        plt.barh(importance_df['Feature'], importance_df['Importance'])\n",
    "        plt.xlabel('Importance')\n",
    "        plt.ylabel('Feature')\n",
    "        plt.title('Feature Importances')\n",
    "        plt.show()\n",
    "\n",
    "    # prep. return dataframe\n",
    "    ret_cv_score = grid_search_adaboost.best_score_\n",
    "    ret_params = best_params_adaboost\n",
    "    ret_train_score = dict_rep[pef_matric1][pef_matric2]\n",
    "    ret_test_score = dict_rep_test[pef_matric1][pef_matric2]\n",
    "    df_ret = pd.DataFrame({'model': 'AdaBoost',\n",
    "                           'score_cv': ret_cv_score, 'score_train': ret_train_score, \n",
    "                           'score_test': ret_test_score, 'best_params': [ret_params]})\n",
    "    return df_ret, model_best_params"
   ]
  },
  {
   "cell_type": "code",
   "execution_count": 56,
   "id": "74ba5448",
   "metadata": {
    "ExecuteTime": {
     "end_time": "2024-02-02T01:22:49.656978Z",
     "start_time": "2024-02-02T01:21:59.868439Z"
    },
    "scrolled": true
   },
   "outputs": [
    {
     "name": "stdout",
     "output_type": "stream",
     "text": [
      "Fitting 5 folds for each of 18 candidates, totalling 90 fits\n",
      "Best Hyperparameters (Adaboost): {'learning_rate': 0.1, 'n_estimators': 50}\n",
      "Best Score (Adaboost): 0.9431729317671922\n",
      "Classification Report (Train):\n",
      "              precision    recall  f1-score   support\n",
      "\n",
      "           0      1.000     0.939     0.968       343\n",
      "           1      0.943     0.997     0.969       299\n",
      "           2      0.981     1.000     0.990       205\n",
      "\n",
      "    accuracy                          0.974       847\n",
      "   macro avg      0.975     0.978     0.976       847\n",
      "weighted avg      0.975     0.974     0.974       847\n",
      "\n"
     ]
    },
    {
     "data": {
      "image/png": "[encoded data removed]",
      "text/plain": [
       "<Figure size 500x300 with 2 Axes>"
      ]
     },
     "metadata": {
      "needs_background": "light"
     },
     "output_type": "display_data"
    },
    {
     "name": "stdout",
     "output_type": "stream",
     "text": [
      "Classification Report (Test):\n",
      "              precision    recall  f1-score   support\n",
      "\n",
      "           0      1.000     0.930     0.964        86\n",
      "           1      0.926     1.000     0.962        75\n",
      "           2      1.000     1.000     1.000        51\n",
      "\n",
      "    accuracy                          0.972       212\n",
      "   macro avg      0.975     0.977     0.975       212\n",
      "weighted avg      0.974     0.972     0.972       212\n",
      "\n"
     ]
    },
    {
     "data": {
      "image/png": "[encoded data removed]",
      "text/plain": [
       "<Figure size 500x300 with 2 Axes>"
      ]
     },
     "metadata": {
      "needs_background": "light"
     },
     "output_type": "display_data"
    },
    {
     "data": {
      "text/html": [
       "<div>\n",
       "<style scoped>\n",
       "    .dataframe tbody tr th:only-of-type {\n",
       "        vertical-align: middle;\n",
       "    }\n",
       "\n",
       "    .dataframe tbody tr th {\n",
       "        vertical-align: top;\n",
       "    }\n",
       "\n",
       "    .dataframe thead th {\n",
       "        text-align: right;\n",
       "    }\n",
       "</style>\n",
       "<table border=\"1\" class=\"dataframe\">\n",
       "  <thead>\n",
       "    <tr style=\"text-align: right;\">\n",
       "      <th></th>\n",
       "      <th>Feature</th>\n",
       "      <th>Importance</th>\n",
       "    </tr>\n",
       "  </thead>\n",
       "  <tbody>\n",
       "    <tr>\n",
       "      <th>1</th>\n",
       "      <td>PC_2</td>\n",
       "      <td>0.32</td>\n",
       "    </tr>\n",
       "    <tr>\n",
       "      <th>0</th>\n",
       "      <td>PC_1</td>\n",
       "      <td>0.28</td>\n",
       "    </tr>\n",
       "    <tr>\n",
       "      <th>4</th>\n",
       "      <td>PC_5</td>\n",
       "      <td>0.22</td>\n",
       "    </tr>\n",
       "    <tr>\n",
       "      <th>5</th>\n",
       "      <td>PC_6</td>\n",
       "      <td>0.14</td>\n",
       "    </tr>\n",
       "    <tr>\n",
       "      <th>2</th>\n",
       "      <td>PC_3</td>\n",
       "      <td>0.04</td>\n",
       "    </tr>\n",
       "    <tr>\n",
       "      <th>3</th>\n",
       "      <td>PC_4</td>\n",
       "      <td>0.00</td>\n",
       "    </tr>\n",
       "  </tbody>\n",
       "</table>\n",
       "</div>"
      ],
      "text/plain": [
       "  Feature  Importance\n",
       "1    PC_2        0.32\n",
       "0    PC_1        0.28\n",
       "4    PC_5        0.22\n",
       "5    PC_6        0.14\n",
       "2    PC_3        0.04\n",
       "3    PC_4        0.00"
      ]
     },
     "metadata": {},
     "output_type": "display_data"
    },
    {
     "data": {
      "image/png": "[encoded data removed]",
      "text/plain": [
       "<Figure size 800x400 with 1 Axes>"
      ]
     },
     "metadata": {
      "needs_background": "light"
     },
     "output_type": "display_data"
    }
   ],
   "source": [
    "df_res_ada, ada_classifier = model_adaboost(X_trn_scale, y_trn, X_tst_scale, y_tst, \n",
    "                                            pef_matric1=matric1, pef_matric2=matric2)\n"
   ]
  },
  {
   "cell_type": "markdown",
   "id": "92825fb8",
   "metadata": {},
   "source": [
    "### LDA"
   ]
  },
  {
   "cell_type": "code",
   "execution_count": 57,
   "id": "4dc115b3",
   "metadata": {
    "ExecuteTime": {
     "end_time": "2024-02-02T01:22:49.666395Z",
     "start_time": "2024-02-02T01:22:49.661386Z"
    }
   },
   "outputs": [],
   "source": [
    "def model_lda(Xtrn, ytrn, Xtst, ytst, step_k=1, show_best_params=True, pef_matric1='macro avg', pef_matric2='f1-macro'):\n",
    "    # Set the hyperparameters and their possible values\n",
    "    param_grid = {\n",
    "        'solver': ['svd', 'lsqr', 'eigen'],\n",
    "        'shrinkage': [None, 'auto']\n",
    "    }\n",
    "\n",
    "    # Create the LDA classifier\n",
    "    lda_classifier = LinearDiscriminantAnalysis()\n",
    "\n",
    "    \n",
    "    verbose_num = 1\n",
    "    if show_best_params==False:\n",
    "        verbose_num = 0\n",
    "    \n",
    "    # Create GridSearchCV object\n",
    "    grid_search = GridSearchCV(lda_classifier, param_grid, cv=skf, \n",
    "                               scoring='f1_macro', verbose=verbose_num)\n",
    "\n",
    "\n",
    "    # Perform grid search with cross-validation\n",
    "    grid_search.fit(Xtrn, ytrn)\n",
    "\n",
    "    # Get the best hyperparameters\n",
    "    best_param = grid_search.best_params_\n",
    "\n",
    "    # Use the best model to make predictions on the test set\n",
    "    model_best_params = grid_search.best_estimator_\n",
    "\n",
    "    # GridSearchCV return the retrained model with whole dataset\n",
    "    ytrn_pred = model_best_params.predict(Xtrn)\n",
    "\n",
    "    # Make predictions on the test set\n",
    "    ytst_pred = model_best_params.predict(Xtst)\n",
    "    \n",
    "    \n",
    "    if show_best_params==True:\n",
    "        # Display the best hyperparameters\n",
    "        print(f'Best hyperparameters: {best_param}')\n",
    "\n",
    "        # Display the best cross-validation score\n",
    "        best_score = grid_search.best_score_\n",
    "        print(f'Best cross-validation score: {best_score}')\n",
    "        ## Evaluate the model/log score\n",
    "        dict_rep = classification_rep(ytrn, ytrn_pred, \"Train\")\n",
    "\n",
    "        # Evaluate the model\n",
    "        # Display classification report\n",
    "        dict_rep_test = classification_rep(ytst, ytst_pred, \"Test\")\n",
    "\n",
    "        \n",
    "    # prep. return dataframe\n",
    "    ret_cv_score = grid_search.best_score_\n",
    "    ret_params = best_param\n",
    "    ret_train_score = dict_rep[pef_matric1][pef_matric2]\n",
    "    ret_test_score = dict_rep_test[pef_matric1][pef_matric2]\n",
    "    df_ret = pd.DataFrame({'model': 'Linear Discriminant Analysis',\n",
    "                           'score_cv': ret_cv_score, 'score_train': ret_train_score, \n",
    "                           'score_test': ret_test_score, 'best_params': [ret_params]})\n",
    "\n",
    "    return df_ret, model_best_params"
   ]
  },
  {
   "cell_type": "code",
   "execution_count": 58,
   "id": "73a8c01a",
   "metadata": {
    "ExecuteTime": {
     "end_time": "2024-02-02T01:22:50.019672Z",
     "start_time": "2024-02-02T01:22:49.667360Z"
    },
    "scrolled": true
   },
   "outputs": [
    {
     "name": "stdout",
     "output_type": "stream",
     "text": [
      "Fitting 5 folds for each of 6 candidates, totalling 30 fits\n",
      "Best hyperparameters: {'shrinkage': 'auto', 'solver': 'lsqr'}\n",
      "Best cross-validation score: 0.7367450024758481\n",
      "Classification Report (Train):\n",
      "              precision    recall  f1-score   support\n",
      "\n",
      "           0      0.810     0.633     0.710       343\n",
      "           1      0.705     0.873     0.780       299\n",
      "           2      0.646     0.659     0.652       205\n",
      "\n",
      "    accuracy                          0.724       847\n",
      "   macro avg      0.720     0.721     0.714       847\n",
      "weighted avg      0.733     0.724     0.721       847\n",
      "\n"
     ]
    },
    {
     "data": {
      "image/png": "[encoded data removed]",
      "text/plain": [
       "<Figure size 500x300 with 2 Axes>"
      ]
     },
     "metadata": {
      "needs_background": "light"
     },
     "output_type": "display_data"
    },
    {
     "name": "stdout",
     "output_type": "stream",
     "text": [
      "Classification Report (Test):\n",
      "              precision    recall  f1-score   support\n",
      "\n",
      "           0      0.800     0.605     0.689        86\n",
      "           1      0.681     0.853     0.757        75\n",
      "           2      0.623     0.647     0.635        51\n",
      "\n",
      "    accuracy                          0.703       212\n",
      "   macro avg      0.701     0.702     0.694       212\n",
      "weighted avg      0.715     0.703     0.700       212\n",
      "\n"
     ]
    },
    {
     "data": {
      "image/png": "[encoded data removed]",
      "text/plain": [
       "<Figure size 500x300 with 2 Axes>"
      ]
     },
     "metadata": {
      "needs_background": "light"
     },
     "output_type": "display_data"
    }
   ],
   "source": [
    "df_res_lda, lda_classifier = model_lda(X_trn_scale, y_trn, X_tst_scale, y_tst, \n",
    "                                            pef_matric1=matric1, pef_matric2=matric2)"
   ]
  },
  {
   "cell_type": "markdown",
   "id": "6577d096",
   "metadata": {},
   "source": [
    "### QDA"
   ]
  },
  {
   "cell_type": "code",
   "execution_count": 59,
   "id": "2e16ab9c",
   "metadata": {
    "ExecuteTime": {
     "end_time": "2024-02-02T01:22:50.026110Z",
     "start_time": "2024-02-02T01:22:50.020755Z"
    }
   },
   "outputs": [],
   "source": [
    "def model_qda(Xtrn, ytrn, Xtst, ytst, show_best_params=True, pef_matric1='macro avg', pef_matric2='f1-macro'):\n",
    "\n",
    "    # Define the hyperparameter grid to search\n",
    "    param_grid_qda = {'reg_param': np.linspace(0, 1, 100)}\n",
    "#     param_grid_qda = {'reg_param': [0, 0.01, 0.02, 0.03, 0.04, 0.05]}\n",
    "    \n",
    "    # Create the QDA model\n",
    "    qda = QuadraticDiscriminantAnalysis()\n",
    "\n",
    "    # Use GridSearchCV to search for the best hyperparameters\n",
    "    verbose_num = 1\n",
    "    if show_best_params==False:\n",
    "        verbose_num = 0\n",
    "    # Create a grid search object\n",
    "    grid_search = GridSearchCV(qda, param_grid=param_grid_qda,\n",
    "                               cv=skf, scoring='accuracy', verbose=verbose_num)\n",
    "\n",
    "    # Fit the grid search to the data\n",
    "    grid_search.fit(Xtrn, ytrn)\n",
    "    \n",
    "    # Get the best hyperparameters\n",
    "    best_params = grid_search.best_params_\n",
    "\n",
    "    # Use the best model to make predictions on the test set\n",
    "    model_best_params = grid_search.best_estimator_\n",
    "\n",
    "    # GridSearchCV return the retrained model with whole dataset\n",
    "    ytrn_pred = model_best_params.predict(Xtrn)\n",
    "\n",
    "    # Make predictions on the test set\n",
    "    ytst_pred = model_best_params.predict(Xtst)\n",
    "    \n",
    "    if show_best_params==True:\n",
    "        print(\"Best Hyperparameters (QDA):\", best_params)\n",
    "        print(\"Best Score (QDA):\", grid_search.best_score_)\n",
    "        ## Evaluate the model/log score\n",
    "        dict_rep = classification_rep(ytrn, ytrn_pred, \"Train\")\n",
    "\n",
    "        # Evaluate the model\n",
    "        # Display classification report\n",
    "        dict_rep_test = classification_rep(ytst, ytst_pred, \"Test\")\n",
    "\n",
    "    # prep. return dataframe\n",
    "    ret_cv_score = grid_search.best_score_\n",
    "    ret_params = best_params\n",
    "    ret_train_score = dict_rep[pef_matric1][pef_matric2]\n",
    "    ret_test_score = dict_rep_test[pef_matric1][pef_matric2]\n",
    "    df_ret = pd.DataFrame({'model': 'Quadratic Discriminant Analysis',\n",
    "                           'score_cv': ret_cv_score, 'score_train': ret_train_score, \n",
    "                           'score_test': ret_test_score, 'best_params': [ret_params]})\n",
    "    return df_ret, model_best_params"
   ]
  },
  {
   "cell_type": "code",
   "execution_count": 60,
   "id": "8c9abea8",
   "metadata": {
    "ExecuteTime": {
     "end_time": "2024-02-02T01:22:51.658474Z",
     "start_time": "2024-02-02T01:22:50.028015Z"
    },
    "scrolled": true
   },
   "outputs": [
    {
     "name": "stdout",
     "output_type": "stream",
     "text": [
      "Fitting 5 folds for each of 100 candidates, totalling 500 fits\n",
      "Best Hyperparameters (QDA): {'reg_param': 0.0}\n",
      "Best Score (QDA): 0.9834806822137139\n",
      "Classification Report (Train):\n",
      "              precision    recall  f1-score   support\n",
      "\n",
      "           0      0.997     0.985     0.991       343\n",
      "           1      0.983     0.997     0.990       299\n",
      "           2      1.000     1.000     1.000       205\n",
      "\n",
      "    accuracy                          0.993       847\n",
      "   macro avg      0.994     0.994     0.994       847\n",
      "weighted avg      0.993     0.993     0.993       847\n",
      "\n"
     ]
    },
    {
     "data": {
      "image/png": "[encoded data removed]",
      "text/plain": [
       "<Figure size 500x300 with 2 Axes>"
      ]
     },
     "metadata": {
      "needs_background": "light"
     },
     "output_type": "display_data"
    },
    {
     "name": "stdout",
     "output_type": "stream",
     "text": [
      "Classification Report (Test):\n",
      "              precision    recall  f1-score   support\n",
      "\n",
      "           0      0.988     0.977     0.982        86\n",
      "           1      0.974     1.000     0.987        75\n",
      "           2      1.000     0.980     0.990        51\n",
      "\n",
      "    accuracy                          0.986       212\n",
      "   macro avg      0.987     0.986     0.986       212\n",
      "weighted avg      0.986     0.986     0.986       212\n",
      "\n"
     ]
    },
    {
     "data": {
      "image/png": "[encoded data removed]",
      "text/plain": [
       "<Figure size 500x300 with 2 Axes>"
      ]
     },
     "metadata": {
      "needs_background": "light"
     },
     "output_type": "display_data"
    }
   ],
   "source": [
    "df_res_qda, qda_classifier = model_qda(X_trn_scale, y_trn, X_tst_scale, y_tst, \n",
    "                                            pef_matric1=matric1, pef_matric2=matric2)"
   ]
  },
  {
   "cell_type": "markdown",
   "id": "0c4cb810",
   "metadata": {},
   "source": [
    "### Logistic Regression"
   ]
  },
  {
   "cell_type": "code",
   "execution_count": 61,
   "id": "12713ccf",
   "metadata": {
    "ExecuteTime": {
     "end_time": "2024-02-02T01:22:51.666689Z",
     "start_time": "2024-02-02T01:22:51.659898Z"
    }
   },
   "outputs": [],
   "source": [
    "def model_lr(Xtrn, ytrn, Xtst, ytst, show_best_params=True, pef_matric1='macro avg', pef_matric2='f1-macro'):\n",
    "\n",
    "    # Create a Logistic Regression classifier\n",
    "    logreg_classifier = LogisticRegression(random_state=seed_no)\n",
    "\n",
    "    # Define the hyperparameter grid to search for Logistic Regression\n",
    "    param_grid_logreg = {\n",
    "        'penalty': ['l1', 'l2', 'elasticnet', None],\n",
    "        'C': [0.001, 0.01, 0.1, 1, 10, 100],\n",
    "        'solver': ['liblinear', 'saga'],\n",
    "        'max_iter': [50, 100, 150, 200, 500]\n",
    "    }\n",
    "\n",
    "    verbose_num = 1\n",
    "    if show_best_params==False:\n",
    "        verbose_num = 0\n",
    "    # Use GridSearchCV to search for the best hyperparameters\n",
    "    grid_search_logreg = GridSearchCV(estimator=logreg_classifier,\n",
    "                                       param_grid=param_grid_logreg,\n",
    "                                       cv=skf,\n",
    "                                       scoring='f1_macro',\n",
    "                                       verbose=verbose_num)\n",
    "    grid_search_logreg.fit(Xtrn, ytrn)\n",
    "\n",
    "    # Get the best hyperparameters\n",
    "    best_params_logreg = grid_search_logreg.best_params_\n",
    "\n",
    "\n",
    "    # Use the best model to make predictions on the test set\n",
    "    model_best_params = grid_search_logreg.best_estimator_\n",
    "    \n",
    "    ytrn_pred = model_best_params.predict(Xtrn)\n",
    "    ytst_pred = model_best_params.predict(Xtst)\n",
    "    \n",
    "    if show_best_params==True:\n",
    "        print(\"Best Hyperparameters (Logistic Regression):\", best_params_logreg)\n",
    "        print(\"Best Score (Logistic Regression):\", grid_search_logreg.best_score_)\n",
    "        \n",
    "        ## Evaluate the model/log score\n",
    "        dict_rep = classification_rep(ytrn, ytrn_pred, \"Train\")\n",
    "\n",
    "        # Evaluate the model\n",
    "        dict_rep_test = classification_rep(ytst, ytst_pred, \"Test\")\n",
    "        \n",
    "        # Access the coefficients\n",
    "        coefficients = model_best_params.coef_[0]\n",
    "\n",
    "        # Get the corresponding feature names\n",
    "        feature_names = X_trn.columns  # Replace this with the actual feature names used in your model\n",
    "\n",
    "        # Create a dictionary to store feature names and their coefficients\n",
    "        feature_importance = dict(zip(feature_names, coefficients))\n",
    "\n",
    "        # Sort features by their absolute coefficients for better visualization\n",
    "        sorted_features = sorted(feature_importance.items(), key=lambda x: abs(x[1]), reverse=True)\n",
    "\n",
    "        # Extract sorted feature names and coefficients\n",
    "        sorted_feature_names, sorted_coefficients = zip(*sorted_features)\n",
    "\n",
    "        # Plotting\n",
    "        plt.figure(figsize=(8, 4), facecolor='none')\n",
    "        plt.barh(range(len(sorted_feature_names)), sorted_coefficients, align='center')\n",
    "        plt.yticks(range(len(sorted_feature_names)), sorted_feature_names)\n",
    "        plt.xlabel('Coefficient Value')\n",
    "        plt.ylabel('Feature Name')\n",
    "        plt.title('Feature Importance')\n",
    "        plt.show()\n",
    "        \n",
    "        \n",
    "    # prep. return dataframe\n",
    "    ret_cv_score = grid_search_logreg.best_score_\n",
    "    ret_params = best_params_logreg\n",
    "    ret_train_score = dict_rep[pef_matric1][pef_matric2]\n",
    "    ret_test_score = dict_rep_test[pef_matric1][pef_matric2]\n",
    "    df_ret = pd.DataFrame({'model': 'Logistic Regression',\n",
    "                           'score_cv': ret_cv_score, 'score_train': ret_train_score, \n",
    "                           'score_test': ret_test_score, 'best_params': [ret_params]})\n",
    "    return df_ret, model_best_params"
   ]
  },
  {
   "cell_type": "code",
   "execution_count": 62,
   "id": "79d91e93",
   "metadata": {
    "ExecuteTime": {
     "end_time": "2024-02-02T01:22:58.701692Z",
     "start_time": "2024-02-02T01:22:51.668043Z"
    },
    "scrolled": true
   },
   "outputs": [
    {
     "name": "stdout",
     "output_type": "stream",
     "text": [
      "Fitting 5 folds for each of 240 candidates, totalling 1200 fits\n",
      "Best Hyperparameters (Logistic Regression): {'C': 0.001, 'max_iter': 50, 'penalty': None, 'solver': 'saga'}\n",
      "Best Score (Logistic Regression): 0.7999859178963981\n",
      "Classification Report (Train):\n",
      "              precision    recall  f1-score   support\n",
      "\n",
      "           0      0.812     0.816     0.814       343\n",
      "           1      0.890     0.813     0.850       299\n",
      "           2      0.694     0.776     0.733       205\n",
      "\n",
      "    accuracy                          0.805       847\n",
      "   macro avg      0.799     0.802     0.799       847\n",
      "weighted avg      0.811     0.805     0.807       847\n",
      "\n"
     ]
    },
    {
     "data": {
      "image/png": "[encoded data removed]",
      "text/plain": [
       "<Figure size 500x300 with 2 Axes>"
      ]
     },
     "metadata": {
      "needs_background": "light"
     },
     "output_type": "display_data"
    },
    {
     "name": "stdout",
     "output_type": "stream",
     "text": [
      "Classification Report (Test):\n",
      "              precision    recall  f1-score   support\n",
      "\n",
      "           0      0.762     0.744     0.753        86\n",
      "           1      0.855     0.787     0.819        75\n",
      "           2      0.627     0.725     0.673        51\n",
      "\n",
      "    accuracy                          0.755       212\n",
      "   macro avg      0.748     0.752     0.748       212\n",
      "weighted avg      0.762     0.755     0.757       212\n",
      "\n"
     ]
    },
    {
     "data": {
      "image/png": "[encoded data removed]",
      "text/plain": [
       "<Figure size 500x300 with 2 Axes>"
      ]
     },
     "metadata": {
      "needs_background": "light"
     },
     "output_type": "display_data"
    },
    {
     "data": {
      "image/png": "[encoded data removed]",
      "text/plain": [
       "<Figure size 800x400 with 1 Axes>"
      ]
     },
     "metadata": {
      "needs_background": "light"
     },
     "output_type": "display_data"
    }
   ],
   "source": [
    "df_res_lr, lr_classifier = model_lr(X_trn_scale, y_trn, X_tst_scale, y_tst, \n",
    "                                            pef_matric1=matric1, pef_matric2=matric2)\n"
   ]
  },
  {
   "cell_type": "markdown",
   "id": "d3ee9071",
   "metadata": {},
   "source": [
    "### NaiveBayes"
   ]
  },
  {
   "cell_type": "code",
   "execution_count": 63,
   "id": "e5790145",
   "metadata": {
    "ExecuteTime": {
     "end_time": "2024-02-02T01:22:58.710798Z",
     "start_time": "2024-02-02T01:22:58.703695Z"
    }
   },
   "outputs": [],
   "source": [
    "def model_nb(Xtrn, ytrn, Xtst, ytst, show_best_params=True, pef_matric1='macro avg', pef_matric2='f1-macro'):\n",
    "        \n",
    "        # Set the hyperparameters and their possible values\n",
    "    param_grid = {\n",
    "        'var_smoothing': np.logspace(0, -9, num=10)\n",
    "    }\n",
    "\n",
    "    # Create the KNN classifier\n",
    "    nb_classifier = GaussianNB()\n",
    "\n",
    "    verbose_num = 1\n",
    "    if show_best_params==False:\n",
    "        verbose_num = 0\n",
    "        # Create GridSearchCV object\n",
    "    grid_search = GridSearchCV(nb_classifier, param_grid, cv=skf, \n",
    "                               scoring='f1_macro', verbose=verbose_num)\n",
    "\n",
    "    # Perform grid search with cross-validation\n",
    "    grid_search.fit(Xtrn, ytrn)\n",
    "\n",
    "    # Get the best hyperparameters\n",
    "    best_param = grid_search.best_params_\n",
    "\n",
    "    # Use the best model to make predictions on the test set\n",
    "    model_best_params = grid_search.best_estimator_\n",
    "\n",
    "    # GridSearchCV return the retrained model with whole dataset\n",
    "    ytrn_pred = model_best_params.predict(Xtrn)\n",
    "\n",
    "    # Make predictions on the test set\n",
    "    ytst_pred = model_best_params.predict(Xtst)\n",
    "    \n",
    "    \n",
    "    if show_best_params==True:\n",
    "        # Display the best hyperparameters\n",
    "        print(f'Best hyperparameters: {best_param}')\n",
    "\n",
    "        # Display the best cross-validation score\n",
    "        best_score = grid_search.best_score_\n",
    "        print(f'Best cross-validation score: {best_score}')\n",
    "        ## Evaluate the model/log score\n",
    "        dict_rep = classification_rep(ytrn, ytrn_pred, \"Train\")\n",
    "\n",
    "        # Evaluate the model\n",
    "        # Display classification report\n",
    "        dict_rep_test = classification_rep(ytst, ytst_pred, \"Test\")\n",
    "\n",
    "        \n",
    "    # prep. return dataframe\n",
    "    ret_cv_score = grid_search.best_score_\n",
    "    ret_params = best_param\n",
    "    ret_train_score = dict_rep[pef_matric1][pef_matric2]\n",
    "    ret_test_score = dict_rep_test[pef_matric1][pef_matric2]\n",
    "    df_ret = pd.DataFrame({'model': 'NaiveBayes',\n",
    "                           'score_cv': ret_cv_score, 'score_train': ret_train_score, \n",
    "                           'score_test': ret_test_score, 'best_params': [ret_params]})\n",
    "    return df_ret, model_best_params"
   ]
  },
  {
   "cell_type": "code",
   "execution_count": 64,
   "id": "f2168df0",
   "metadata": {
    "ExecuteTime": {
     "end_time": "2024-02-02T01:22:59.147017Z",
     "start_time": "2024-02-02T01:22:58.712302Z"
    },
    "scrolled": true
   },
   "outputs": [
    {
     "name": "stdout",
     "output_type": "stream",
     "text": [
      "Fitting 5 folds for each of 10 candidates, totalling 50 fits\n",
      "Best hyperparameters: {'var_smoothing': 0.001}\n",
      "Best cross-validation score: 0.8991985627886834\n",
      "Classification Report (Train):\n",
      "              precision    recall  f1-score   support\n",
      "\n",
      "           0      1.000     0.845     0.916       343\n",
      "           1      0.930     0.893     0.911       299\n",
      "           2      0.741     0.976     0.842       205\n",
      "\n",
      "    accuracy                          0.894       847\n",
      "   macro avg      0.890     0.905     0.890       847\n",
      "weighted avg      0.913     0.894     0.897       847\n",
      "\n"
     ]
    },
    {
     "data": {
      "image/png": "[encoded data removed]",
      "text/plain": [
       "<Figure size 500x300 with 2 Axes>"
      ]
     },
     "metadata": {
      "needs_background": "light"
     },
     "output_type": "display_data"
    },
    {
     "name": "stdout",
     "output_type": "stream",
     "text": [
      "Classification Report (Test):\n",
      "              precision    recall  f1-score   support\n",
      "\n",
      "           0      0.986     0.791     0.877        86\n",
      "           1      0.930     0.880     0.904        75\n",
      "           2      0.694     0.980     0.813        51\n",
      "\n",
      "    accuracy                          0.868       212\n",
      "   macro avg      0.870     0.884     0.865       212\n",
      "weighted avg      0.896     0.868     0.871       212\n",
      "\n"
     ]
    },
    {
     "data": {
      "image/png": "[encoded data removed]",
      "text/plain": [
       "<Figure size 500x300 with 2 Axes>"
      ]
     },
     "metadata": {
      "needs_background": "light"
     },
     "output_type": "display_data"
    }
   ],
   "source": [
    "df_res_nb, nb_classifier = model_nb(X_trn_scale, y_trn, X_tst_scale, y_tst, \n",
    "                                            pef_matric1=matric1, pef_matric2=matric2)\n"
   ]
  },
  {
   "cell_type": "markdown",
   "id": "54a4b16f",
   "metadata": {},
   "source": [
    "### RandomForest"
   ]
  },
  {
   "cell_type": "code",
   "execution_count": 65,
   "id": "86648fce",
   "metadata": {
    "ExecuteTime": {
     "end_time": "2024-02-02T01:22:59.155050Z",
     "start_time": "2024-02-02T01:22:59.148531Z"
    }
   },
   "outputs": [],
   "source": [
    "def model_rf(Xtrn, ytrn, Xtst, ytst, show_best_params=True, pef_matric1='macro avg', pef_matric2='f1-macro'):\n",
    "\n",
    "    # Create a RandomForestClassifier\n",
    "    rf_classifier = RandomForestClassifier(random_state=seed_no)\n",
    "\n",
    "    # Define the hyperparameter grid to search\n",
    "    param_grid = {\n",
    "        'n_estimators': [10, 50, 100],\n",
    "        'max_depth': [5, 10, 20, 30],\n",
    "        'min_samples_split': [2, 5],\n",
    "        'min_samples_leaf': [1, 2]\n",
    "    }\n",
    "\n",
    "    verbose_num = 1\n",
    "    if show_best_params==False:\n",
    "        verbose_num = 0\n",
    "    # Use GridSearchCV to search for the best hyperparameters\n",
    "    grid_search = GridSearchCV(estimator=rf_classifier, \n",
    "                               param_grid=param_grid, \n",
    "                               cv=skf, \n",
    "                               scoring='f1_macro',\n",
    "                               verbose=verbose_num)\n",
    "    grid_search.fit(Xtrn, ytrn)\n",
    "\n",
    "    # # Get the best hyperparameters\n",
    "    best_params = grid_search.best_params_\n",
    "\n",
    "    # Use the best model to make predictions on the test set\n",
    "    best_rf_model = grid_search.best_estimator_\n",
    "    \n",
    "    ytrn_pred = best_rf_model.predict(Xtrn)\n",
    "    ytst_pred = best_rf_model.predict(Xtst)\n",
    "    \n",
    "    if show_best_params==True:\n",
    "        print(\"Best Hyperparameters:\", best_params)\n",
    "        print(\"Best Score:\", grid_search.best_score_)\n",
    "        \n",
    "        ## Evaluate the model/log score\n",
    "        dict_rep = classification_rep(ytrn, ytrn_pred, \"Train\")\n",
    "\n",
    "        # Evaluate the model\n",
    "        dict_rep_test = classification_rep(ytst, ytst_pred, \"Test\")\n",
    "        \n",
    "        # Get feature importances\n",
    "        # feature_importances = rf_classifier.feature_importances_  # manual CV\n",
    "        feature_importances = best_rf_model.feature_importances_  # using GridSearch\n",
    "\n",
    "        # Get the corresponding feature names\n",
    "        feature_names = list(Xtrn.columns)  # Assuming you have column names in your DataFrame X\n",
    "\n",
    "        # Create a DataFrame to display feature importances\n",
    "        importance_df = pd.DataFrame({'Feature': feature_names, 'Importance': feature_importances})\n",
    "\n",
    "        # Sort the DataFrame by importance in descending order\n",
    "        importance_df = importance_df.sort_values(by='Importance', ascending=False)\n",
    "\n",
    "        # Print or visualize the feature importances\n",
    "        display(importance_df)\n",
    "\n",
    "        # Plotting feature importances (optional)\n",
    "        plt.figure(figsize=(8, 4), facecolor='none')\n",
    "        plt.barh(importance_df['Feature'], importance_df['Importance'])\n",
    "        plt.xlabel('Importance')\n",
    "        plt.ylabel('Feature')\n",
    "        plt.title('Feature Importances')\n",
    "        plt.show()\n",
    "        \n",
    "        \n",
    "    # prep. return dataframe\n",
    "    ret_cv_score = grid_search.best_score_\n",
    "    ret_params = best_params\n",
    "    ret_train_score = dict_rep[pef_matric1][pef_matric2]\n",
    "    ret_test_score = dict_rep_test[pef_matric1][pef_matric2]\n",
    "    df_ret = pd.DataFrame({'model': 'Random Forest',\n",
    "                           'score_cv': ret_cv_score, 'score_train': ret_train_score, \n",
    "                           'score_test': ret_test_score, 'best_params': [ret_params]})\n",
    "    return df_ret, best_rf_model"
   ]
  },
  {
   "cell_type": "code",
   "execution_count": 66,
   "id": "13dd071d",
   "metadata": {
    "ExecuteTime": {
     "end_time": "2024-02-02T01:23:11.277690Z",
     "start_time": "2024-02-02T01:22:59.156184Z"
    },
    "scrolled": true
   },
   "outputs": [
    {
     "name": "stdout",
     "output_type": "stream",
     "text": [
      "Fitting 5 folds for each of 48 candidates, totalling 240 fits\n",
      "Best Hyperparameters: {'max_depth': 10, 'min_samples_leaf': 1, 'min_samples_split': 2, 'n_estimators': 50}\n",
      "Best Score: 0.997913000931051\n",
      "Classification Report (Train):\n",
      "              precision    recall  f1-score   support\n",
      "\n",
      "           0      1.000     1.000     1.000       343\n",
      "           1      1.000     1.000     1.000       299\n",
      "           2      1.000     1.000     1.000       205\n",
      "\n",
      "    accuracy                          1.000       847\n",
      "   macro avg      1.000     1.000     1.000       847\n",
      "weighted avg      1.000     1.000     1.000       847\n",
      "\n"
     ]
    },
    {
     "data": {
      "image/png": "[encoded data removed]",
      "text/plain": [
       "<Figure size 500x300 with 2 Axes>"
      ]
     },
     "metadata": {
      "needs_background": "light"
     },
     "output_type": "display_data"
    },
    {
     "name": "stdout",
     "output_type": "stream",
     "text": [
      "Classification Report (Test):\n",
      "              precision    recall  f1-score   support\n",
      "\n",
      "           0      0.989     1.000     0.994        86\n",
      "           1      1.000     1.000     1.000        75\n",
      "           2      1.000     0.980     0.990        51\n",
      "\n",
      "    accuracy                          0.995       212\n",
      "   macro avg      0.996     0.993     0.995       212\n",
      "weighted avg      0.995     0.995     0.995       212\n",
      "\n"
     ]
    },
    {
     "data": {
      "image/png": "[encoded data removed]",
      "text/plain": [
       "<Figure size 500x300 with 2 Axes>"
      ]
     },
     "metadata": {
      "needs_background": "light"
     },
     "output_type": "display_data"
    },
    {
     "data": {
      "text/html": [
       "<div>\n",
       "<style scoped>\n",
       "    .dataframe tbody tr th:only-of-type {\n",
       "        vertical-align: middle;\n",
       "    }\n",
       "\n",
       "    .dataframe tbody tr th {\n",
       "        vertical-align: top;\n",
       "    }\n",
       "\n",
       "    .dataframe thead th {\n",
       "        text-align: right;\n",
       "    }\n",
       "</style>\n",
       "<table border=\"1\" class=\"dataframe\">\n",
       "  <thead>\n",
       "    <tr style=\"text-align: right;\">\n",
       "      <th></th>\n",
       "      <th>Feature</th>\n",
       "      <th>Importance</th>\n",
       "    </tr>\n",
       "  </thead>\n",
       "  <tbody>\n",
       "    <tr>\n",
       "      <th>0</th>\n",
       "      <td>PC_1</td>\n",
       "      <td>0.311013</td>\n",
       "    </tr>\n",
       "    <tr>\n",
       "      <th>1</th>\n",
       "      <td>PC_2</td>\n",
       "      <td>0.240506</td>\n",
       "    </tr>\n",
       "    <tr>\n",
       "      <th>4</th>\n",
       "      <td>PC_5</td>\n",
       "      <td>0.172026</td>\n",
       "    </tr>\n",
       "    <tr>\n",
       "      <th>5</th>\n",
       "      <td>PC_6</td>\n",
       "      <td>0.115980</td>\n",
       "    </tr>\n",
       "    <tr>\n",
       "      <th>3</th>\n",
       "      <td>PC_4</td>\n",
       "      <td>0.084998</td>\n",
       "    </tr>\n",
       "    <tr>\n",
       "      <th>2</th>\n",
       "      <td>PC_3</td>\n",
       "      <td>0.075477</td>\n",
       "    </tr>\n",
       "  </tbody>\n",
       "</table>\n",
       "</div>"
      ],
      "text/plain": [
       "  Feature  Importance\n",
       "0    PC_1    0.311013\n",
       "1    PC_2    0.240506\n",
       "4    PC_5    0.172026\n",
       "5    PC_6    0.115980\n",
       "3    PC_4    0.084998\n",
       "2    PC_3    0.075477"
      ]
     },
     "metadata": {},
     "output_type": "display_data"
    },
    {
     "data": {
      "image/png": "[encoded data removed]",
      "text/plain": [
       "<Figure size 800x400 with 1 Axes>"
      ]
     },
     "metadata": {
      "needs_background": "light"
     },
     "output_type": "display_data"
    }
   ],
   "source": [
    "df_res_rf, rf_classifier = model_rf(X_trn_scale, y_trn, X_tst_scale, y_tst, \n",
    "                                            pef_matric1=matric1, pef_matric2=matric2)\n"
   ]
  },
  {
   "cell_type": "markdown",
   "id": "e9bb8791",
   "metadata": {},
   "source": [
    "### SVM"
   ]
  },
  {
   "cell_type": "code",
   "execution_count": 67,
   "id": "b147bbd3",
   "metadata": {
    "ExecuteTime": {
     "end_time": "2024-02-02T01:23:11.283649Z",
     "start_time": "2024-02-02T01:23:11.278901Z"
    }
   },
   "outputs": [],
   "source": [
    "def model_svm(Xtrn, ytrn, Xtst, ytst, show_best_params=True, pef_matric1='macro avg', pef_matric2='f1-macro'):\n",
    "\n",
    "    # Create a Support Vector Machines (SVM) classifier\n",
    "    svm_classifier = SVC(random_state=seed_no)\n",
    "\n",
    "    # Define the hyperparameter grid to search for SVM\n",
    "    param_grid_svm = {\n",
    "        'C': [0.1, 1, 5, 10],\n",
    "        'kernel': ['linear', 'rbf', 'poly'],\n",
    "        'gamma': ['scale', 'auto', 0.1, 1]\n",
    "    }\n",
    "\n",
    "    verbose_num = 1\n",
    "    if show_best_params==False:\n",
    "        verbose_num = 0\n",
    "    # Use GridSearchCV to search for the best hyperparameters\n",
    "    grid_search_svm = GridSearchCV(estimator=svm_classifier, \n",
    "                                   param_grid=param_grid_svm, \n",
    "                                   cv=skf, \n",
    "                                   scoring='f1_macro',\n",
    "                                   verbose=verbose_num)\n",
    "    grid_search_svm.fit(Xtrn, ytrn)\n",
    "\n",
    "    # Get the best hyperparameters\n",
    "    best_params_svm = grid_search_svm.best_params_\n",
    "\n",
    "    # Use the best model to make predictions on the test set\n",
    "    model_best_params = grid_search_svm.best_estimator_\n",
    "\n",
    "    ytrn_pred = model_best_params.predict(Xtrn)\n",
    "    ytst_pred = model_best_params.predict(Xtst)\n",
    "\n",
    "    if show_best_params==True:\n",
    "        print(\"Best Hyperparameters (SVM):\", best_params_svm)\n",
    "        print(\"Best Score (SVM):\", grid_search_svm.best_score_)\n",
    "        ## Evaluate the model/log score\n",
    "        dict_rep = classification_rep(ytrn, ytrn_pred, \"Train\")\n",
    "\n",
    "        # Evaluate the model\n",
    "        dict_rep_test = classification_rep(ytst, ytst_pred, \"Test\")\n",
    "        \n",
    "    # prep. return dataframe\n",
    "    ret_cv_score = grid_search_svm.best_score_\n",
    "    ret_params = best_params_svm\n",
    "    ret_train_score = dict_rep[pef_matric1][pef_matric2]\n",
    "    ret_test_score = dict_rep_test[pef_matric1][pef_matric2]\n",
    "    df_ret = pd.DataFrame({'model': 'Support Vector Machine',\n",
    "                           'score_cv': ret_cv_score, 'score_train': ret_train_score, \n",
    "                           'score_test': ret_test_score, 'best_params': [ret_params]})\n",
    "    return df_ret, model_best_params"
   ]
  },
  {
   "cell_type": "code",
   "execution_count": 68,
   "id": "c3b88e5f",
   "metadata": {
    "ExecuteTime": {
     "end_time": "2024-02-02T01:23:13.852105Z",
     "start_time": "2024-02-02T01:23:11.284867Z"
    },
    "scrolled": true
   },
   "outputs": [
    {
     "name": "stdout",
     "output_type": "stream",
     "text": [
      "Fitting 5 folds for each of 48 candidates, totalling 240 fits\n",
      "Best Hyperparameters (SVM): {'C': 1, 'gamma': 1, 'kernel': 'poly'}\n",
      "Best Score (SVM): 0.9965495639900095\n",
      "Classification Report (Train):\n",
      "              precision    recall  f1-score   support\n",
      "\n",
      "           0      1.000     1.000     1.000       343\n",
      "           1      1.000     1.000     1.000       299\n",
      "           2      1.000     1.000     1.000       205\n",
      "\n",
      "    accuracy                          1.000       847\n",
      "   macro avg      1.000     1.000     1.000       847\n",
      "weighted avg      1.000     1.000     1.000       847\n",
      "\n"
     ]
    },
    {
     "data": {
      "image/png": "[encoded data removed]",
      "text/plain": [
       "<Figure size 500x300 with 2 Axes>"
      ]
     },
     "metadata": {
      "needs_background": "light"
     },
     "output_type": "display_data"
    },
    {
     "name": "stdout",
     "output_type": "stream",
     "text": [
      "Classification Report (Test):\n",
      "              precision    recall  f1-score   support\n",
      "\n",
      "           0      1.000     1.000     1.000        86\n",
      "           1      0.987     1.000     0.993        75\n",
      "           2      1.000     0.980     0.990        51\n",
      "\n",
      "    accuracy                          0.995       212\n",
      "   macro avg      0.996     0.993     0.994       212\n",
      "weighted avg      0.995     0.995     0.995       212\n",
      "\n"
     ]
    },
    {
     "data": {
      "image/png": "[encoded data removed]",
      "text/plain": [
       "<Figure size 500x300 with 2 Axes>"
      ]
     },
     "metadata": {
      "needs_background": "light"
     },
     "output_type": "display_data"
    }
   ],
   "source": [
    "df_res_svm, svm_classifier = model_svm(X_trn_scale, y_trn, X_tst_scale, y_tst, \n",
    "                                            pef_matric1=matric1, pef_matric2=matric2)\n"
   ]
  },
  {
   "cell_type": "markdown",
   "id": "d0a37fe2",
   "metadata": {},
   "source": [
    "## Combine Results"
   ]
  },
  {
   "cell_type": "code",
   "execution_count": 69,
   "id": "78e92498",
   "metadata": {
    "ExecuteTime": {
     "end_time": "2024-02-02T01:23:13.856591Z",
     "start_time": "2024-02-02T01:23:13.853427Z"
    }
   },
   "outputs": [],
   "source": [
    "df_res = pd.concat([df_res_ada, df_res_knn, df_res_lda,\n",
    "                    df_res_qda,\n",
    "                    df_res_lr, df_res_nb, df_res_rf,\n",
    "                    df_res_svm]).reset_index(drop=True)\n",
    "df_res['dataprep'] = 'scaled_pca93'"
   ]
  },
  {
   "cell_type": "code",
   "execution_count": 70,
   "id": "83613a42",
   "metadata": {
    "ExecuteTime": {
     "end_time": "2024-02-02T01:23:13.864423Z",
     "start_time": "2024-02-02T01:23:13.857907Z"
    }
   },
   "outputs": [
    {
     "data": {
      "text/html": [
       "<div>\n",
       "<style scoped>\n",
       "    .dataframe tbody tr th:only-of-type {\n",
       "        vertical-align: middle;\n",
       "    }\n",
       "\n",
       "    .dataframe tbody tr th {\n",
       "        vertical-align: top;\n",
       "    }\n",
       "\n",
       "    .dataframe thead th {\n",
       "        text-align: right;\n",
       "    }\n",
       "</style>\n",
       "<table border=\"1\" class=\"dataframe\">\n",
       "  <thead>\n",
       "    <tr style=\"text-align: right;\">\n",
       "      <th></th>\n",
       "      <th>model</th>\n",
       "      <th>score_cv</th>\n",
       "      <th>score_train</th>\n",
       "      <th>score_test</th>\n",
       "      <th>best_params</th>\n",
       "      <th>dataprep</th>\n",
       "    </tr>\n",
       "  </thead>\n",
       "  <tbody>\n",
       "    <tr>\n",
       "      <th>6</th>\n",
       "      <td>Random Forest</td>\n",
       "      <td>0.997913</td>\n",
       "      <td>1.000000</td>\n",
       "      <td>0.994773</td>\n",
       "      <td>{'max_depth': 10, 'min_samples_leaf': 1, 'min_samples_split': 2, 'n_estimators': 50}</td>\n",
       "      <td>scaled_pca93</td>\n",
       "    </tr>\n",
       "    <tr>\n",
       "      <th>7</th>\n",
       "      <td>Support Vector Machine</td>\n",
       "      <td>0.996550</td>\n",
       "      <td>1.000000</td>\n",
       "      <td>0.994492</td>\n",
       "      <td>{'C': 1, 'gamma': 1, 'kernel': 'poly'}</td>\n",
       "      <td>scaled_pca93</td>\n",
       "    </tr>\n",
       "    <tr>\n",
       "      <th>1</th>\n",
       "      <td>K-Nearest Neighbors</td>\n",
       "      <td>0.998962</td>\n",
       "      <td>1.000000</td>\n",
       "      <td>0.989199</td>\n",
       "      <td>{'n_neighbors': 33, 'p': 2, 'weights': 'distance'}</td>\n",
       "      <td>scaled_pca93</td>\n",
       "    </tr>\n",
       "    <tr>\n",
       "      <th>3</th>\n",
       "      <td>Quadratic Discriminant Analysis</td>\n",
       "      <td>0.983481</td>\n",
       "      <td>0.993745</td>\n",
       "      <td>0.986466</td>\n",
       "      <td>{'reg_param': 0.0}</td>\n",
       "      <td>scaled_pca93</td>\n",
       "    </tr>\n",
       "    <tr>\n",
       "      <th>0</th>\n",
       "      <td>AdaBoost</td>\n",
       "      <td>0.943173</td>\n",
       "      <td>0.975955</td>\n",
       "      <td>0.975131</td>\n",
       "      <td>{'learning_rate': 0.1, 'n_estimators': 50}</td>\n",
       "      <td>scaled_pca93</td>\n",
       "    </tr>\n",
       "    <tr>\n",
       "      <th>5</th>\n",
       "      <td>NaiveBayes</td>\n",
       "      <td>0.899199</td>\n",
       "      <td>0.889880</td>\n",
       "      <td>0.864846</td>\n",
       "      <td>{'var_smoothing': 0.001}</td>\n",
       "      <td>scaled_pca93</td>\n",
       "    </tr>\n",
       "    <tr>\n",
       "      <th>4</th>\n",
       "      <td>Logistic Regression</td>\n",
       "      <td>0.799986</td>\n",
       "      <td>0.798774</td>\n",
       "      <td>0.748371</td>\n",
       "      <td>{'C': 0.001, 'max_iter': 50, 'penalty': None, 'solver': 'saga'}</td>\n",
       "      <td>scaled_pca93</td>\n",
       "    </tr>\n",
       "    <tr>\n",
       "      <th>2</th>\n",
       "      <td>Linear Discriminant Analysis</td>\n",
       "      <td>0.736745</td>\n",
       "      <td>0.714251</td>\n",
       "      <td>0.693585</td>\n",
       "      <td>{'shrinkage': 'auto', 'solver': 'lsqr'}</td>\n",
       "      <td>scaled_pca93</td>\n",
       "    </tr>\n",
       "  </tbody>\n",
       "</table>\n",
       "</div>"
      ],
      "text/plain": [
       "                             model  score_cv  score_train  score_test  \\\n",
       "6                    Random Forest  0.997913     1.000000    0.994773   \n",
       "7           Support Vector Machine  0.996550     1.000000    0.994492   \n",
       "1              K-Nearest Neighbors  0.998962     1.000000    0.989199   \n",
       "3  Quadratic Discriminant Analysis  0.983481     0.993745    0.986466   \n",
       "0                         AdaBoost  0.943173     0.975955    0.975131   \n",
       "5                       NaiveBayes  0.899199     0.889880    0.864846   \n",
       "4              Logistic Regression  0.799986     0.798774    0.748371   \n",
       "2     Linear Discriminant Analysis  0.736745     0.714251    0.693585   \n",
       "\n",
       "                                                                            best_params  \\\n",
       "6  {'max_depth': 10, 'min_samples_leaf': 1, 'min_samples_split': 2, 'n_estimators': 50}   \n",
       "7                                                {'C': 1, 'gamma': 1, 'kernel': 'poly'}   \n",
       "1                                    {'n_neighbors': 33, 'p': 2, 'weights': 'distance'}   \n",
       "3                                                                    {'reg_param': 0.0}   \n",
       "0                                            {'learning_rate': 0.1, 'n_estimators': 50}   \n",
       "5                                                              {'var_smoothing': 0.001}   \n",
       "4                       {'C': 0.001, 'max_iter': 50, 'penalty': None, 'solver': 'saga'}   \n",
       "2                                               {'shrinkage': 'auto', 'solver': 'lsqr'}   \n",
       "\n",
       "       dataprep  \n",
       "6  scaled_pca93  \n",
       "7  scaled_pca93  \n",
       "1  scaled_pca93  \n",
       "3  scaled_pca93  \n",
       "0  scaled_pca93  \n",
       "5  scaled_pca93  \n",
       "4  scaled_pca93  \n",
       "2  scaled_pca93  "
      ]
     },
     "execution_count": 70,
     "metadata": {},
     "output_type": "execute_result"
    }
   ],
   "source": [
    "df_res.sort_values('score_test', ascending=False)"
   ]
  },
  {
   "cell_type": "code",
   "execution_count": 71,
   "id": "d2da7fe5",
   "metadata": {
    "ExecuteTime": {
     "end_time": "2024-02-02T01:23:13.869107Z",
     "start_time": "2024-02-02T01:23:13.865486Z"
    }
   },
   "outputs": [],
   "source": [
    "df_res.to_csv('score_test_scaled_pca93.csv', encoding='utf-8-sig', index=False)"
   ]
  },
  {
   "cell_type": "markdown",
   "id": "15d998da",
   "metadata": {},
   "source": [
    "### plot\n"
   ]
  },
  {
   "cell_type": "code",
   "execution_count": 72,
   "id": "833397d9",
   "metadata": {
    "ExecuteTime": {
     "end_time": "2024-02-02T01:23:14.039231Z",
     "start_time": "2024-02-02T01:23:13.870091Z"
    }
   },
   "outputs": [
    {
     "data": {
      "image/png": "[encoded data removed]",
      "text/plain": [
       "<Figure size 1000x600 with 1 Axes>"
      ]
     },
     "metadata": {
      "needs_background": "light"
     },
     "output_type": "display_data"
    }
   ],
   "source": [
    "# Sort the dataframe based on the Test Score\n",
    "df_res = df_res.sort_values(by='score_test', ascending=False)\n",
    "\n",
    "# Define pastel colors\n",
    "soft_colors = ['#66c2a5', '#fc8d62', '#8da0cb']\n",
    "\n",
    "# Plotting the bar chart with pastel colors\n",
    "fig, ax = plt.subplots(figsize=(10, 6), facecolor='none')\n",
    "bar_width = 0.2\n",
    "bar_positions = np.arange(len(df_res['model']))\n",
    "\n",
    "# Plotting each score with pastel colors\n",
    "ax.barh(bar_positions - bar_width, df_res['score_cv'], bar_width, label='CV', color=soft_colors[0])\n",
    "ax.barh(bar_positions, df_res['score_train'], bar_width, label='Train', color=soft_colors[1])\n",
    "ax.barh(bar_positions + bar_width, df_res['score_test'], bar_width, label='Test', color=soft_colors[2])\n",
    "\n",
    "# Adding text labels on the right of each bar with rotation\n",
    "def add_labels(bars):\n",
    "    for bar in bars:\n",
    "        xval = bar.get_width()\n",
    "        plt.text(xval, bar.get_y() + bar.get_height()/2, round(xval, 4), ha='left', \n",
    "                 va='center', fontsize=8)\n",
    "\n",
    "add_labels(ax.patches)\n",
    "\n",
    "# Adding labels and title\n",
    "ax.set_yticks(bar_positions)\n",
    "ax.set_yticklabels(df_res['model'])\n",
    "ax.set_xlabel(f'{matric1}: {matric2}')\n",
    "ax.set_xlim(0.6, 1.05)\n",
    "ax.set_ylabel('Model')\n",
    "ax.set_title('Model Performance')\n",
    "\n",
    "# Reordering the legend labels to match the order of bars\n",
    "handles, labels = ax.get_legend_handles_labels()\n",
    "ax.legend(handles[::-1], labels[::-1], loc='upper right')\n",
    "\n",
    "# Show the plot\n",
    "plt.show()"
   ]
  },
  {
   "cell_type": "code",
   "execution_count": null,
   "id": "ee022ca7",
   "metadata": {},
   "outputs": [],
   "source": []
  }
 ],
 "metadata": {
  "kernelspec": {
   "display_name": "Python 3 (ipykernel)",
   "language": "python",
   "name": "python3"
  },
  "language_info": {
   "codemirror_mode": {
    "name": "ipython",
    "version": 3
   },
   "file_extension": ".py",
   "mimetype": "text/x-python",
   "name": "python",
   "nbconvert_exporter": "python",
   "pygments_lexer": "ipython3",
   "version": "3.9.6"
  },
  "toc": {
   "base_numbering": 1,
   "nav_menu": {},
   "number_sections": true,
   "sideBar": true,
   "skip_h1_title": false,
   "title_cell": "Table of Contents",
   "title_sidebar": "Contents",
   "toc_cell": false,
   "toc_position": {
    "height": "calc(100% - 180px)",
    "left": "10px",
    "top": "150px",
    "width": "205.81px"
   },
   "toc_section_display": true,
   "toc_window_display": true
  }
 },
 "nbformat": 4,
 "nbformat_minor": 5
}
