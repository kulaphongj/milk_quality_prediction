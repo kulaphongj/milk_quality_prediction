{
 "cells": [
  {
   "cell_type": "markdown",
   "id": "87ed2a5f",
   "metadata": {},
   "source": [
    "# Note:  \n",
    "V1 \n",
    "- Create flow of modelling with RFclassification.\n",
    "- Add GridSearch with CV instead of manually CV."
   ]
  },
  {
   "cell_type": "code",
   "execution_count": 1,
   "id": "98f37c97",
   "metadata": {
    "ExecuteTime": {
     "end_time": "2024-01-25T00:29:20.620306Z",
     "start_time": "2024-01-25T00:29:19.770997Z"
    }
   },
   "outputs": [],
   "source": [
    "import pandas as pd\n",
    "import numpy as np\n",
    "import random\n",
    "import seaborn as sns\n",
    "import matplotlib.pyplot as plt\n",
    "\n",
    "seed_no = 572\n",
    "\n",
    "import warnings\n",
    "warnings.filterwarnings(\"ignore\")"
   ]
  },
  {
   "cell_type": "code",
   "execution_count": 2,
   "id": "e5478006",
   "metadata": {
    "ExecuteTime": {
     "end_time": "2024-01-25T00:29:20.806084Z",
     "start_time": "2024-01-25T00:29:20.622172Z"
    }
   },
   "outputs": [],
   "source": [
    "from sklearn.preprocessing import StandardScaler\n",
    "from sklearn.model_selection import StratifiedKFold, GridSearchCV\n",
    "from sklearn.metrics import accuracy_score, classification_report, confusion_matrix\n",
    "\n",
    "\n",
    "from sklearn.linear_model import LogisticRegression\n",
    "from sklearn.ensemble import RandomForestClassifier\n"
   ]
  },
  {
   "cell_type": "markdown",
   "id": "c0be87c7",
   "metadata": {},
   "source": [
    "# Load data"
   ]
  },
  {
   "cell_type": "code",
   "execution_count": 3,
   "id": "4e1c8fe9",
   "metadata": {
    "ExecuteTime": {
     "end_time": "2024-01-25T00:29:20.814460Z",
     "start_time": "2024-01-25T00:29:20.807424Z"
    }
   },
   "outputs": [],
   "source": [
    "df_trn = pd.read_csv('data/x_train_82.csv', index_col='index')\n",
    "df_tst = pd.read_csv('data/x_test_82.csv', index_col='index')"
   ]
  },
  {
   "cell_type": "code",
   "execution_count": 4,
   "id": "c1549a2e",
   "metadata": {
    "ExecuteTime": {
     "end_time": "2024-01-25T00:29:20.826323Z",
     "start_time": "2024-01-25T00:29:20.816927Z"
    }
   },
   "outputs": [
    {
     "name": "stdout",
     "output_type": "stream",
     "text": [
      "(847, 8) (212, 8)\n"
     ]
    },
    {
     "data": {
      "text/html": [
       "<div>\n",
       "<style scoped>\n",
       "    .dataframe tbody tr th:only-of-type {\n",
       "        vertical-align: middle;\n",
       "    }\n",
       "\n",
       "    .dataframe tbody tr th {\n",
       "        vertical-align: top;\n",
       "    }\n",
       "\n",
       "    .dataframe thead th {\n",
       "        text-align: right;\n",
       "    }\n",
       "</style>\n",
       "<table border=\"1\" class=\"dataframe\">\n",
       "  <thead>\n",
       "    <tr style=\"text-align: right;\">\n",
       "      <th></th>\n",
       "      <th>pH</th>\n",
       "      <th>Temprature</th>\n",
       "      <th>Taste</th>\n",
       "      <th>Odor</th>\n",
       "      <th>Fat</th>\n",
       "      <th>Turbidity</th>\n",
       "      <th>Colour</th>\n",
       "      <th>Grade</th>\n",
       "    </tr>\n",
       "    <tr>\n",
       "      <th>index</th>\n",
       "      <th></th>\n",
       "      <th></th>\n",
       "      <th></th>\n",
       "      <th></th>\n",
       "      <th></th>\n",
       "      <th></th>\n",
       "      <th></th>\n",
       "      <th></th>\n",
       "    </tr>\n",
       "  </thead>\n",
       "  <tbody>\n",
       "    <tr>\n",
       "      <th>244</th>\n",
       "      <td>6.5</td>\n",
       "      <td>38</td>\n",
       "      <td>1</td>\n",
       "      <td>0</td>\n",
       "      <td>1</td>\n",
       "      <td>0</td>\n",
       "      <td>255</td>\n",
       "      <td>medium</td>\n",
       "    </tr>\n",
       "    <tr>\n",
       "      <th>824</th>\n",
       "      <td>6.8</td>\n",
       "      <td>45</td>\n",
       "      <td>0</td>\n",
       "      <td>0</td>\n",
       "      <td>0</td>\n",
       "      <td>1</td>\n",
       "      <td>255</td>\n",
       "      <td>medium</td>\n",
       "    </tr>\n",
       "    <tr>\n",
       "      <th>602</th>\n",
       "      <td>5.6</td>\n",
       "      <td>50</td>\n",
       "      <td>0</td>\n",
       "      <td>1</td>\n",
       "      <td>1</td>\n",
       "      <td>1</td>\n",
       "      <td>255</td>\n",
       "      <td>low</td>\n",
       "    </tr>\n",
       "    <tr>\n",
       "      <th>347</th>\n",
       "      <td>8.6</td>\n",
       "      <td>55</td>\n",
       "      <td>0</td>\n",
       "      <td>1</td>\n",
       "      <td>1</td>\n",
       "      <td>1</td>\n",
       "      <td>255</td>\n",
       "      <td>low</td>\n",
       "    </tr>\n",
       "    <tr>\n",
       "      <th>753</th>\n",
       "      <td>6.6</td>\n",
       "      <td>38</td>\n",
       "      <td>0</td>\n",
       "      <td>0</td>\n",
       "      <td>0</td>\n",
       "      <td>0</td>\n",
       "      <td>255</td>\n",
       "      <td>medium</td>\n",
       "    </tr>\n",
       "  </tbody>\n",
       "</table>\n",
       "</div>"
      ],
      "text/plain": [
       "        pH  Temprature  Taste  Odor  Fat   Turbidity  Colour   Grade\n",
       "index                                                               \n",
       "244    6.5          38      1     0     1          0     255  medium\n",
       "824    6.8          45      0     0     0          1     255  medium\n",
       "602    5.6          50      0     1     1          1     255     low\n",
       "347    8.6          55      0     1     1          1     255     low\n",
       "753    6.6          38      0     0     0          0     255  medium"
      ]
     },
     "execution_count": 4,
     "metadata": {},
     "output_type": "execute_result"
    }
   ],
   "source": [
    "print(df_trn.shape, df_tst.shape)\n",
    "df_trn.head()"
   ]
  },
  {
   "cell_type": "markdown",
   "id": "70831b4d",
   "metadata": {},
   "source": [
    "# Preprocessing function"
   ]
  },
  {
   "cell_type": "code",
   "execution_count": 5,
   "id": "5bbd0958",
   "metadata": {
    "ExecuteTime": {
     "end_time": "2024-01-25T00:29:20.833378Z",
     "start_time": "2024-01-25T00:29:20.827927Z"
    }
   },
   "outputs": [],
   "source": [
    "def encode_label(df_in):\n",
    "    df_fnc = df_in.copy()\n",
    "    df_fnc.loc[df_fnc['Grade']=='low', 'Grade'] = 0\n",
    "    df_fnc.loc[df_fnc['Grade']=='medium', 'Grade'] = 1\n",
    "    df_fnc.loc[df_fnc['Grade']=='high', 'Grade'] = 2\n",
    "    df_fnc['Grade'] = df_fnc['Grade'].astype(int)\n",
    "    \n",
    "    return df_fnc\n",
    "\n",
    "df_trn = encode_label(df_trn)\n",
    "df_tst = encode_label(df_tst)"
   ]
  },
  {
   "cell_type": "code",
   "execution_count": 6,
   "id": "881907d2",
   "metadata": {
    "ExecuteTime": {
     "end_time": "2024-01-25T00:29:20.840140Z",
     "start_time": "2024-01-25T00:29:20.834397Z"
    }
   },
   "outputs": [
    {
     "data": {
      "text/html": [
       "<div>\n",
       "<style scoped>\n",
       "    .dataframe tbody tr th:only-of-type {\n",
       "        vertical-align: middle;\n",
       "    }\n",
       "\n",
       "    .dataframe tbody tr th {\n",
       "        vertical-align: top;\n",
       "    }\n",
       "\n",
       "    .dataframe thead th {\n",
       "        text-align: right;\n",
       "    }\n",
       "</style>\n",
       "<table border=\"1\" class=\"dataframe\">\n",
       "  <thead>\n",
       "    <tr style=\"text-align: right;\">\n",
       "      <th></th>\n",
       "      <th>pH</th>\n",
       "      <th>Temprature</th>\n",
       "      <th>Taste</th>\n",
       "      <th>Odor</th>\n",
       "      <th>Fat</th>\n",
       "      <th>Turbidity</th>\n",
       "      <th>Colour</th>\n",
       "      <th>Grade</th>\n",
       "    </tr>\n",
       "    <tr>\n",
       "      <th>index</th>\n",
       "      <th></th>\n",
       "      <th></th>\n",
       "      <th></th>\n",
       "      <th></th>\n",
       "      <th></th>\n",
       "      <th></th>\n",
       "      <th></th>\n",
       "      <th></th>\n",
       "    </tr>\n",
       "  </thead>\n",
       "  <tbody>\n",
       "    <tr>\n",
       "      <th>244</th>\n",
       "      <td>6.5</td>\n",
       "      <td>38</td>\n",
       "      <td>1</td>\n",
       "      <td>0</td>\n",
       "      <td>1</td>\n",
       "      <td>0</td>\n",
       "      <td>255</td>\n",
       "      <td>1</td>\n",
       "    </tr>\n",
       "    <tr>\n",
       "      <th>824</th>\n",
       "      <td>6.8</td>\n",
       "      <td>45</td>\n",
       "      <td>0</td>\n",
       "      <td>0</td>\n",
       "      <td>0</td>\n",
       "      <td>1</td>\n",
       "      <td>255</td>\n",
       "      <td>1</td>\n",
       "    </tr>\n",
       "  </tbody>\n",
       "</table>\n",
       "</div>"
      ],
      "text/plain": [
       "        pH  Temprature  Taste  Odor  Fat   Turbidity  Colour  Grade\n",
       "index                                                              \n",
       "244    6.5          38      1     0     1          0     255      1\n",
       "824    6.8          45      0     0     0          1     255      1"
      ]
     },
     "execution_count": 6,
     "metadata": {},
     "output_type": "execute_result"
    }
   ],
   "source": [
    "df_trn.head(2)"
   ]
  },
  {
   "cell_type": "code",
   "execution_count": 7,
   "id": "7cfe374a",
   "metadata": {
    "ExecuteTime": {
     "end_time": "2024-01-25T00:29:20.853548Z",
     "start_time": "2024-01-25T00:29:20.841861Z"
    }
   },
   "outputs": [
    {
     "name": "stdout",
     "output_type": "stream",
     "text": [
      "(847, 1) (847, 7)\n",
      "(212, 1) (212, 7)\n"
     ]
    }
   ],
   "source": [
    "# Prepare for training\n",
    "y_trn = df_trn[['Grade']]\n",
    "X_trn = df_trn.drop(columns='Grade')\n",
    "\n",
    "y_tst = df_tst[['Grade']]\n",
    "X_tst = df_tst.drop(columns='Grade')\n",
    "\n",
    "print(y_trn.shape, X_trn.shape)\n",
    "print(y_tst.shape, X_tst.shape)"
   ]
  },
  {
   "cell_type": "code",
   "execution_count": 8,
   "id": "a162df85",
   "metadata": {
    "ExecuteTime": {
     "end_time": "2024-01-25T00:29:20.861978Z",
     "start_time": "2024-01-25T00:29:20.855113Z"
    }
   },
   "outputs": [],
   "source": [
    "# Scaler\n",
    "scaler = StandardScaler()\n",
    "X_trn_scale = pd.DataFrame(scaler.fit_transform(X_trn))\n",
    "X_trn_scale.columns = X_trn.columns\n",
    "X_trn_scale.index = X_trn.index\n",
    "\n",
    "X_tst_scale = pd.DataFrame(scaler.transform(X_tst))\n",
    "X_tst_scale.columns = X_tst.columns\n",
    "X_tst_scale.index = X_tst.index"
   ]
  },
  {
   "cell_type": "code",
   "execution_count": 9,
   "id": "af41da55",
   "metadata": {
    "ExecuteTime": {
     "end_time": "2024-01-25T00:29:20.870077Z",
     "start_time": "2024-01-25T00:29:20.864055Z"
    }
   },
   "outputs": [
    {
     "data": {
      "text/html": [
       "<div>\n",
       "<style scoped>\n",
       "    .dataframe tbody tr th:only-of-type {\n",
       "        vertical-align: middle;\n",
       "    }\n",
       "\n",
       "    .dataframe tbody tr th {\n",
       "        vertical-align: top;\n",
       "    }\n",
       "\n",
       "    .dataframe thead th {\n",
       "        text-align: right;\n",
       "    }\n",
       "</style>\n",
       "<table border=\"1\" class=\"dataframe\">\n",
       "  <thead>\n",
       "    <tr style=\"text-align: right;\">\n",
       "      <th></th>\n",
       "      <th>pH</th>\n",
       "      <th>Temprature</th>\n",
       "      <th>Taste</th>\n",
       "      <th>Odor</th>\n",
       "      <th>Fat</th>\n",
       "      <th>Turbidity</th>\n",
       "      <th>Colour</th>\n",
       "    </tr>\n",
       "    <tr>\n",
       "      <th>index</th>\n",
       "      <th></th>\n",
       "      <th></th>\n",
       "      <th></th>\n",
       "      <th></th>\n",
       "      <th></th>\n",
       "      <th></th>\n",
       "      <th></th>\n",
       "    </tr>\n",
       "  </thead>\n",
       "  <tbody>\n",
       "    <tr>\n",
       "      <th>244</th>\n",
       "      <td>-0.091649</td>\n",
       "      <td>-0.607768</td>\n",
       "      <td>0.902056</td>\n",
       "      <td>-0.882843</td>\n",
       "      <td>0.691509</td>\n",
       "      <td>-0.989430</td>\n",
       "      <td>0.744513</td>\n",
       "    </tr>\n",
       "    <tr>\n",
       "      <th>824</th>\n",
       "      <td>0.122987</td>\n",
       "      <td>0.067163</td>\n",
       "      <td>-1.108579</td>\n",
       "      <td>-0.882843</td>\n",
       "      <td>-1.446112</td>\n",
       "      <td>1.010683</td>\n",
       "      <td>0.744513</td>\n",
       "    </tr>\n",
       "  </tbody>\n",
       "</table>\n",
       "</div>"
      ],
      "text/plain": [
       "             pH  Temprature     Taste      Odor      Fat   Turbidity    Colour\n",
       "index                                                                         \n",
       "244   -0.091649   -0.607768  0.902056 -0.882843  0.691509  -0.989430  0.744513\n",
       "824    0.122987    0.067163 -1.108579 -0.882843 -1.446112   1.010683  0.744513"
      ]
     },
     "execution_count": 9,
     "metadata": {},
     "output_type": "execute_result"
    }
   ],
   "source": [
    "X_trn_scale.head(2)"
   ]
  },
  {
   "cell_type": "markdown",
   "id": "5c69b69d",
   "metadata": {},
   "source": [
    "# Train model"
   ]
  },
  {
   "cell_type": "markdown",
   "id": "b830040c",
   "metadata": {},
   "source": [
    "## CV - Hyperparameters tuning"
   ]
  },
  {
   "cell_type": "code",
   "execution_count": 10,
   "id": "93823d4c",
   "metadata": {
    "ExecuteTime": {
     "end_time": "2024-01-25T00:29:20.875279Z",
     "start_time": "2024-01-25T00:29:20.873449Z"
    }
   },
   "outputs": [],
   "source": [
    "# Create a stratified 5-fold cross-validator\n",
    "skf = StratifiedKFold(n_splits=5, shuffle=True, random_state=seed_no)"
   ]
  },
  {
   "cell_type": "code",
   "execution_count": 11,
   "id": "595d7142",
   "metadata": {
    "ExecuteTime": {
     "end_time": "2024-01-25T00:29:29.491072Z",
     "start_time": "2024-01-25T00:29:20.876470Z"
    }
   },
   "outputs": [
    {
     "name": "stdout",
     "output_type": "stream",
     "text": [
      "Best Hyperparameters: {'max_depth': 10, 'min_samples_leaf': 1, 'min_samples_split': 2, 'n_estimators': 10}\n",
      "Best Score: 0.998962417807806\n"
     ]
    }
   ],
   "source": [
    "# Create a RandomForestClassifier\n",
    "rf_classifier = RandomForestClassifier(random_state=seed_no)\n",
    "\n",
    "# Define the hyperparameter grid to search\n",
    "param_grid = {\n",
    "    'n_estimators': [10, 50, 100],\n",
    "    'max_depth': [10, 20, 30],\n",
    "    'min_samples_split': [2, 5],\n",
    "    'min_samples_leaf': [1, 2]\n",
    "}\n",
    "\n",
    "# Use GridSearchCV to search for the best hyperparameters\n",
    "grid_search = GridSearchCV(estimator=rf_classifier, \n",
    "                           param_grid=param_grid, \n",
    "                           cv=skf, \n",
    "                           scoring='f1_macro',\n",
    "                           verbose=0)\n",
    "grid_search.fit(X_trn_scale, y_trn)\n",
    "\n",
    "# # Get the best hyperparameters\n",
    "best_params = grid_search.best_params_\n",
    "print(\"Best Hyperparameters:\", best_params)\n",
    "print(\"Best Score:\", grid_search.best_score_)\n",
    "\n",
    "# Use the best model to make predictions on the test set\n",
    "best_rf_model = grid_search.best_estimator_"
   ]
  },
  {
   "cell_type": "code",
   "execution_count": 12,
   "id": "ae83c0c0",
   "metadata": {
    "ExecuteTime": {
     "end_time": "2024-01-25T00:29:29.494831Z",
     "start_time": "2024-01-25T00:29:29.492250Z"
    },
    "code_folding": []
   },
   "outputs": [],
   "source": [
    "# Manual CV\n",
    "# # Create a stratified 5-fold cross-validator\n",
    "# skf = StratifiedKFold(n_splits=5, shuffle=True, random_state=seed_no)\n",
    "\n",
    "# list_score_f1 = []\n",
    "# list_score_precision = []\n",
    "# list_score_recall = []\n",
    "# list_score_acc = []\n",
    "\n",
    "# # Iterate through the folds\n",
    "# for fold, (train_index, val_index) in enumerate(skf.split(X_trn, y_trn)):\n",
    "#     X_train, X_val = X_trn.iloc[train_index, ], X_trn.iloc[val_index, ]\n",
    "#     y_train, y_val = y_trn.iloc[train_index, ], y_trn.iloc[val_index, ]\n",
    "    \n",
    "# #     print(f\"Fold {fold + 1} - Training set: {len(X_train)}, Testing set: {len(X_val)}\")\n",
    "\n",
    "#     # Train model\n",
    "#     ## Create a Random Forest Classifier\n",
    "#     rf_classifier_cv = RandomForestClassifier(n_estimators=100, random_state=seed_no)\n",
    "\n",
    "#     ## Train the model\n",
    "#     rf_classifier_cv.fit(X_train, y_train)\n",
    "    \n",
    "#     ## Make predictions on the test set\n",
    "#     y_val_pred = rf_classifier_cv.predict(X_val)\n",
    "\n",
    "#     ## Evaluate the model/log score\n",
    "#     dict_rep = classification_report(y_val, y_val_pred, output_dict=True)\n",
    "#     score_f1 = dict_rep['macro avg']['f1-score']\n",
    "#     score_precision = dict_rep['macro avg']['precision']\n",
    "#     score_recall = dict_rep['macro avg']['recall']\n",
    "#     score_accuracy = accuracy_score(y_val, y_val_pred)\n",
    "#     list_score_f1.append(score_f1)\n",
    "#     list_score_precision.append(score_precision)\n",
    "#     list_score_recall.append(score_recall)\n",
    "#     list_score_acc.append(score_accuracy)\n",
    "    \n",
    "# score_f1_mean = np.mean(list_score_f1)\n",
    "# score_precision_mean = np.mean(list_score_precision)\n",
    "# score_recall_mean = np.mean(list_score_recall)\n",
    "# score_acc_mean = np.mean(list_score_acc)\n",
    "\n",
    "# score_f1_std = np.std(list_score_f1)\n",
    "# score_precision_std = np.std(list_score_precision)\n",
    "# score_recall_std = np.std(list_score_recall)\n",
    "# score_acc_std = np.std(list_score_acc)\n",
    "\n",
    "# print(\"Evaluation CV:\")\n",
    "# print(f\"F1-score\\t: {score_f1_mean:.06f} ({score_f1_std:.06f})\")\n",
    "# print(f\"Precision\\t: {score_precision_mean:.06f} ({score_precision_std:.06f})\")\n",
    "# print(f\"Recall\\t\\t: {score_recall_mean:.06f} ({score_recall_std:.06f})\")\n",
    "# print(f\"Accuracy\\t: {score_acc_mean:.06f} ({score_acc_std:.06f})\")"
   ]
  },
  {
   "cell_type": "markdown",
   "id": "92dde88e",
   "metadata": {},
   "source": [
    "## Retrain the whole training data with the best parameters"
   ]
  },
  {
   "cell_type": "code",
   "execution_count": 13,
   "id": "b8713997",
   "metadata": {
    "ExecuteTime": {
     "end_time": "2024-01-25T00:29:29.504132Z",
     "start_time": "2024-01-25T00:29:29.495974Z"
    }
   },
   "outputs": [
    {
     "name": "stdout",
     "output_type": "stream",
     "text": [
      "              precision    recall  f1-score   support\n",
      "\n",
      "           0       1.00      1.00      1.00       343\n",
      "           1       1.00      1.00      1.00       299\n",
      "           2       1.00      1.00      1.00       205\n",
      "\n",
      "    accuracy                           1.00       847\n",
      "   macro avg       1.00      1.00      1.00       847\n",
      "weighted avg       1.00      1.00      1.00       847\n",
      "\n"
     ]
    }
   ],
   "source": [
    "# GridSearchCV return the retrained model with whole dataset\n",
    "y_trn_pred = best_rf_model.predict(X_trn_scale)\n",
    "\n",
    "## Evaluate the model/log score\n",
    "print(classification_report(y_trn, y_trn_pred))"
   ]
  },
  {
   "cell_type": "code",
   "execution_count": 14,
   "id": "179b52f7",
   "metadata": {
    "ExecuteTime": {
     "end_time": "2024-01-25T00:29:29.507054Z",
     "start_time": "2024-01-25T00:29:29.505237Z"
    }
   },
   "outputs": [],
   "source": [
    "# Manual CV\n",
    "# # Train model\n",
    "# ## Create a Random Forest Classifier\n",
    "# rf_classifier = RandomForestClassifier(n_estimators=100, random_state=seed_no)\n",
    "\n",
    "# ## Train the model\n",
    "# rf_classifier.fit(X_trn, y_trn)\n",
    "\n",
    "# ## Make predictions on the test set\n",
    "# y_trn_pred = rf_classifier.predict(X_trn)\n",
    "\n",
    "# ## Evaluate the model/log score\n",
    "# dict_rep = classification_report(y_trn, y_trn_pred, output_dict=True)\n",
    "# print(classification_report(y_trn, y_trn_pred))"
   ]
  },
  {
   "cell_type": "markdown",
   "id": "76674ba0",
   "metadata": {},
   "source": [
    "## Feature Importance"
   ]
  },
  {
   "cell_type": "code",
   "execution_count": 15,
   "id": "8e9ac45d",
   "metadata": {
    "ExecuteTime": {
     "end_time": "2024-01-25T00:29:29.621952Z",
     "start_time": "2024-01-25T00:29:29.507994Z"
    }
   },
   "outputs": [
    {
     "data": {
      "text/html": [
       "<div>\n",
       "<style scoped>\n",
       "    .dataframe tbody tr th:only-of-type {\n",
       "        vertical-align: middle;\n",
       "    }\n",
       "\n",
       "    .dataframe tbody tr th {\n",
       "        vertical-align: top;\n",
       "    }\n",
       "\n",
       "    .dataframe thead th {\n",
       "        text-align: right;\n",
       "    }\n",
       "</style>\n",
       "<table border=\"1\" class=\"dataframe\">\n",
       "  <thead>\n",
       "    <tr style=\"text-align: right;\">\n",
       "      <th></th>\n",
       "      <th>Feature</th>\n",
       "      <th>Importance</th>\n",
       "    </tr>\n",
       "  </thead>\n",
       "  <tbody>\n",
       "    <tr>\n",
       "      <th>0</th>\n",
       "      <td>pH</td>\n",
       "      <td>0.371765</td>\n",
       "    </tr>\n",
       "    <tr>\n",
       "      <th>1</th>\n",
       "      <td>Temprature</td>\n",
       "      <td>0.225531</td>\n",
       "    </tr>\n",
       "    <tr>\n",
       "      <th>5</th>\n",
       "      <td>Turbidity</td>\n",
       "      <td>0.105552</td>\n",
       "    </tr>\n",
       "    <tr>\n",
       "      <th>4</th>\n",
       "      <td>Fat</td>\n",
       "      <td>0.097731</td>\n",
       "    </tr>\n",
       "    <tr>\n",
       "      <th>3</th>\n",
       "      <td>Odor</td>\n",
       "      <td>0.088176</td>\n",
       "    </tr>\n",
       "    <tr>\n",
       "      <th>2</th>\n",
       "      <td>Taste</td>\n",
       "      <td>0.057687</td>\n",
       "    </tr>\n",
       "    <tr>\n",
       "      <th>6</th>\n",
       "      <td>Colour</td>\n",
       "      <td>0.053560</td>\n",
       "    </tr>\n",
       "  </tbody>\n",
       "</table>\n",
       "</div>"
      ],
      "text/plain": [
       "      Feature  Importance\n",
       "0          pH    0.371765\n",
       "1  Temprature    0.225531\n",
       "5   Turbidity    0.105552\n",
       "4        Fat     0.097731\n",
       "3        Odor    0.088176\n",
       "2       Taste    0.057687\n",
       "6      Colour    0.053560"
      ]
     },
     "metadata": {},
     "output_type": "display_data"
    },
    {
     "data": {
      "image/png": "[encoded data removed]",
      "text/plain": [
       "<Figure size 800x400 with 1 Axes>"
      ]
     },
     "metadata": {},
     "output_type": "display_data"
    }
   ],
   "source": [
    "# Get feature importances\n",
    "# feature_importances = rf_classifier.feature_importances_  # manual CV\n",
    "feature_importances = best_rf_model.feature_importances_  # using GridSearch\n",
    "\n",
    "# Get the corresponding feature names\n",
    "feature_names = list(X_trn.columns)  # Assuming you have column names in your DataFrame X\n",
    "\n",
    "# Create a DataFrame to display feature importances\n",
    "importance_df = pd.DataFrame({'Feature': feature_names, 'Importance': feature_importances})\n",
    "\n",
    "# Sort the DataFrame by importance in descending order\n",
    "importance_df = importance_df.sort_values(by='Importance', ascending=False)\n",
    "\n",
    "# Print or visualize the feature importances\n",
    "display(importance_df)\n",
    "\n",
    "# Plotting feature importances (optional)\n",
    "plt.figure(figsize=(8, 4))\n",
    "plt.barh(importance_df['Feature'], importance_df['Importance'])\n",
    "plt.xlabel('Importance')\n",
    "plt.ylabel('Feature')\n",
    "plt.title('Feature Importances')\n",
    "plt.show()"
   ]
  },
  {
   "cell_type": "markdown",
   "id": "d0a37fe2",
   "metadata": {},
   "source": [
    "## Performance on Test data"
   ]
  },
  {
   "cell_type": "code",
   "execution_count": 16,
   "id": "994df704",
   "metadata": {
    "ExecuteTime": {
     "end_time": "2024-01-25T00:29:29.632663Z",
     "start_time": "2024-01-25T00:29:29.623291Z"
    }
   },
   "outputs": [
    {
     "name": "stdout",
     "output_type": "stream",
     "text": [
      "Accuracy: 0.9952830188679245\n",
      "Classification Report:\n",
      "              precision    recall  f1-score   support\n",
      "\n",
      "           0       1.00      1.00      1.00        86\n",
      "           1       0.99      1.00      0.99        75\n",
      "           2       1.00      0.98      0.99        51\n",
      "\n",
      "    accuracy                           1.00       212\n",
      "   macro avg       1.00      0.99      0.99       212\n",
      "weighted avg       1.00      1.00      1.00       212\n",
      "\n"
     ]
    }
   ],
   "source": [
    "# Make predictions on the test set\n",
    "# y_test_pred = rf_classifier.predict(X_tst)\n",
    "y_test_pred = best_rf_model.predict(X_tst_scale)\n",
    "\n",
    "\n",
    "# Evaluate the model\n",
    "accuracy = accuracy_score(y_tst, y_test_pred)\n",
    "print(f\"Accuracy: {accuracy}\")\n",
    "\n",
    "# Display classification report\n",
    "print(\"Classification Report:\")\n",
    "print(classification_report(y_tst, y_test_pred))"
   ]
  },
  {
   "cell_type": "code",
   "execution_count": 17,
   "id": "b0cb0c6a",
   "metadata": {
    "ExecuteTime": {
     "end_time": "2024-01-25T00:29:29.734809Z",
     "start_time": "2024-01-25T00:29:29.633616Z"
    }
   },
   "outputs": [
    {
     "data": {
      "image/png": "[encoded data removed]",
      "text/plain": [
       "<Figure size 500x300 with 2 Axes>"
      ]
     },
     "metadata": {},
     "output_type": "display_data"
    }
   ],
   "source": [
    "# Get the confusion matrix\n",
    "conf_matrix = confusion_matrix(y_tst, y_test_pred)\n",
    "\n",
    "# Display the confusion matrix using a heatmap\n",
    "class_names = ['low', 'medium', 'high']\n",
    "plt.figure(figsize=(5, 3))\n",
    "sns.heatmap(conf_matrix, annot=True, fmt='d', cmap='Blues', xticklabels=class_names, yticklabels=class_names)\n",
    "plt.xlabel('Predicted Label')\n",
    "plt.ylabel('True Label')\n",
    "plt.title('Confusion Matrix')\n",
    "plt.show()"
   ]
  },
  {
   "cell_type": "markdown",
   "id": "42551251",
   "metadata": {},
   "source": [
    "# EDA Error (Testing dataset)"
   ]
  },
  {
   "cell_type": "code",
   "execution_count": 18,
   "id": "5b5044d3",
   "metadata": {
    "ExecuteTime": {
     "end_time": "2024-01-25T00:29:29.742614Z",
     "start_time": "2024-01-25T00:29:29.735986Z"
    }
   },
   "outputs": [
    {
     "data": {
      "text/html": [
       "<div>\n",
       "<style scoped>\n",
       "    .dataframe tbody tr th:only-of-type {\n",
       "        vertical-align: middle;\n",
       "    }\n",
       "\n",
       "    .dataframe tbody tr th {\n",
       "        vertical-align: top;\n",
       "    }\n",
       "\n",
       "    .dataframe thead th {\n",
       "        text-align: right;\n",
       "    }\n",
       "</style>\n",
       "<table border=\"1\" class=\"dataframe\">\n",
       "  <thead>\n",
       "    <tr style=\"text-align: right;\">\n",
       "      <th></th>\n",
       "      <th>pH</th>\n",
       "      <th>Temprature</th>\n",
       "      <th>Taste</th>\n",
       "      <th>Odor</th>\n",
       "      <th>Fat</th>\n",
       "      <th>Turbidity</th>\n",
       "      <th>Colour</th>\n",
       "      <th>Grade</th>\n",
       "      <th>pred_test</th>\n",
       "    </tr>\n",
       "    <tr>\n",
       "      <th>index</th>\n",
       "      <th></th>\n",
       "      <th></th>\n",
       "      <th></th>\n",
       "      <th></th>\n",
       "      <th></th>\n",
       "      <th></th>\n",
       "      <th></th>\n",
       "      <th></th>\n",
       "      <th></th>\n",
       "    </tr>\n",
       "  </thead>\n",
       "  <tbody>\n",
       "    <tr>\n",
       "      <th>1</th>\n",
       "      <td>6.6</td>\n",
       "      <td>36</td>\n",
       "      <td>0</td>\n",
       "      <td>1</td>\n",
       "      <td>0</td>\n",
       "      <td>1</td>\n",
       "      <td>253</td>\n",
       "      <td>2</td>\n",
       "      <td>1</td>\n",
       "    </tr>\n",
       "  </tbody>\n",
       "</table>\n",
       "</div>"
      ],
      "text/plain": [
       "        pH  Temprature  Taste  Odor  Fat   Turbidity  Colour  Grade  pred_test\n",
       "index                                                                         \n",
       "1      6.6          36      0     1     0          1     253      2          1"
      ]
     },
     "execution_count": 18,
     "metadata": {},
     "output_type": "execute_result"
    }
   ],
   "source": [
    "# Merge prediction with the testing dataset\n",
    "df_test_perf = y_tst.copy()\n",
    "df_test_perf['pred_test'] = y_test_pred\n",
    "df_test_perf = X_tst.merge(df_test_perf, left_index=True, right_index=True)\n",
    "\n",
    "# Explore Error\n",
    "df_test_perf[df_test_perf['Grade']!=df_test_perf['pred_test']]"
   ]
  },
  {
   "cell_type": "code",
   "execution_count": null,
   "id": "fe596768",
   "metadata": {},
   "outputs": [],
   "source": []
  }
 ],
 "metadata": {
  "kernelspec": {
   "display_name": "Python 3 (ipykernel)",
   "language": "python",
   "name": "python3"
  },
  "language_info": {
   "codemirror_mode": {
    "name": "ipython",
    "version": 3
   },
   "file_extension": ".py",
   "mimetype": "text/x-python",
   "name": "python",
   "nbconvert_exporter": "python",
   "pygments_lexer": "ipython3",
   "version": "3.9.6"
  },
  "toc": {
   "base_numbering": 1,
   "nav_menu": {},
   "number_sections": true,
   "sideBar": true,
   "skip_h1_title": false,
   "title_cell": "Table of Contents",
   "title_sidebar": "Contents",
   "toc_cell": false,
   "toc_position": {
    "height": "calc(100% - 180px)",
    "left": "10px",
    "top": "150px",
    "width": "205.81px"
   },
   "toc_section_display": true,
   "toc_window_display": true
  }
 },
 "nbformat": 4,
 "nbformat_minor": 5
}
