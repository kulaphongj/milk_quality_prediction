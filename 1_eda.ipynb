{
 "cells": [
  {
   "cell_type": "markdown",
   "id": "8915a3fe",
   "metadata": {},
   "source": [
    "\n",
    "**Link:** https://www.kaggle.com/datasets/cpluzshrijayan/milkquality\n",
    "\n",
    "**About dataset:**\n",
    "This dataset is manually collected from observations. It helps us to build machine learning models to predict the quality of milk.\n",
    "This dataset consists of 7 independent variables ie pH, Temperature, Taste, Odor, Fat, Turbidity, and Color.\n",
    "Generally, the Grade or Quality of the milk depends on these parameters. These parameters play a vital role in the predictive analysis of the milk.\n",
    "\n",
    "**Usage:**\n",
    "The target variable is nothing but the Grade of the milk. It can be\n",
    "\n",
    "Target\n",
    "\n",
    "Low (Bad)\n",
    "\n",
    "Medium (Moderate)\n",
    "\n",
    "High (Good)\n",
    "\n",
    "If Taste, Odor, Fat, and Turbidity are satisfied with optimal conditions then they will assign 1 otherwise 0.\n",
    "Temperature and ph are given their actual values in the dataset.\n",
    "\n",
    "\n",
    "**Column Details:**  \n",
    "**pH**  \n",
    "This Column defines PH alus of the milk which ranges from 3 to 9.5 max : 6.25 to 6.90  \n",
    "\n",
    "**Temprature**  \n",
    "This Column defines Temprature of the milk which ranges from 34'C to 90'C max : 34'C to 45.20'C  \n",
    "\n",
    "**Taste**  \n",
    "This Column defines Taste of the milk which is categorical data 0 (Bad) or 1 (Good) max : 1 (Good)  \n",
    "\n",
    "**Odor**  \n",
    "This Column defines Odor of the milk which is categorical data 0 (Bad) or 1 (Good) max : 0 (Bad)  \n",
    "\n",
    "**Fat**  \n",
    "This  Column defines Odor of the milk which is categorical data 0 (Low) or 1 (High) max : 1 (High)  \n",
    "\n",
    "**Turbidity**  \n",
    "This Column defines Turbidity of the milk which is categorical data 0 (Low) or 1 (High) max : 1 (High)  \n",
    "\n",
    "**Colour**  \n",
    "This Column defines Colour of the milk which ranges from 240 to 255 max : 255  \n",
    "\n",
    "**Grade**  \n",
    "This Column defines Grade (Target) of the milk which is categorical data Where Low (Bad) or Medium (Moderate) High (Good)"
   ]
  },
  {
   "cell_type": "code",
   "execution_count": 9,
   "id": "1693c625",
   "metadata": {
    "ExecuteTime": {
     "end_time": "2024-01-18T18:18:24.035451Z",
     "start_time": "2024-01-18T18:18:24.031259Z"
    }
   },
   "outputs": [],
   "source": [
    "import pandas as pd\n",
    "from sklearn.model_selection import train_test_split\n",
    "\n",
    "import altair as alt\n",
    "alt.renderers.enable('default')\n",
    "import matplotlib.pyplot as plt\n",
    "\n",
    "no_seed = 572"
   ]
  },
  {
   "cell_type": "code",
   "execution_count": 3,
   "id": "dd7ab3ac",
   "metadata": {
    "ExecuteTime": {
     "end_time": "2024-01-18T18:17:53.948588Z",
     "start_time": "2024-01-18T18:17:53.928834Z"
    }
   },
   "outputs": [
    {
     "name": "stdout",
     "output_type": "stream",
     "text": [
      "(1059, 8)\n"
     ]
    },
    {
     "data": {
      "text/html": [
       "<div>\n",
       "<style scoped>\n",
       "    .dataframe tbody tr th:only-of-type {\n",
       "        vertical-align: middle;\n",
       "    }\n",
       "\n",
       "    .dataframe tbody tr th {\n",
       "        vertical-align: top;\n",
       "    }\n",
       "\n",
       "    .dataframe thead th {\n",
       "        text-align: right;\n",
       "    }\n",
       "</style>\n",
       "<table border=\"1\" class=\"dataframe\">\n",
       "  <thead>\n",
       "    <tr style=\"text-align: right;\">\n",
       "      <th></th>\n",
       "      <th>pH</th>\n",
       "      <th>Temprature</th>\n",
       "      <th>Taste</th>\n",
       "      <th>Odor</th>\n",
       "      <th>Fat</th>\n",
       "      <th>Turbidity</th>\n",
       "      <th>Colour</th>\n",
       "      <th>Grade</th>\n",
       "    </tr>\n",
       "  </thead>\n",
       "  <tbody>\n",
       "    <tr>\n",
       "      <th>0</th>\n",
       "      <td>6.6</td>\n",
       "      <td>35</td>\n",
       "      <td>1</td>\n",
       "      <td>0</td>\n",
       "      <td>1</td>\n",
       "      <td>0</td>\n",
       "      <td>254</td>\n",
       "      <td>high</td>\n",
       "    </tr>\n",
       "    <tr>\n",
       "      <th>1</th>\n",
       "      <td>6.6</td>\n",
       "      <td>36</td>\n",
       "      <td>0</td>\n",
       "      <td>1</td>\n",
       "      <td>0</td>\n",
       "      <td>1</td>\n",
       "      <td>253</td>\n",
       "      <td>high</td>\n",
       "    </tr>\n",
       "    <tr>\n",
       "      <th>2</th>\n",
       "      <td>8.5</td>\n",
       "      <td>70</td>\n",
       "      <td>1</td>\n",
       "      <td>1</td>\n",
       "      <td>1</td>\n",
       "      <td>1</td>\n",
       "      <td>246</td>\n",
       "      <td>low</td>\n",
       "    </tr>\n",
       "  </tbody>\n",
       "</table>\n",
       "</div>"
      ],
      "text/plain": [
       "    pH  Temprature  Taste  Odor  Fat   Turbidity  Colour Grade\n",
       "0  6.6          35      1     0     1          0     254  high\n",
       "1  6.6          36      0     1     0          1     253  high\n",
       "2  8.5          70      1     1     1          1     246   low"
      ]
     },
     "execution_count": 3,
     "metadata": {},
     "output_type": "execute_result"
    }
   ],
   "source": [
    "df_raw = pd.read_csv('data/milknew_raw.csv')\n",
    "# df_raw = df_raw.reset_index()\n",
    "print(df_raw.shape)\n",
    "df_raw.head(3)"
   ]
  },
  {
   "cell_type": "markdown",
   "id": "406acf5e",
   "metadata": {},
   "source": [
    "# EDA"
   ]
  },
  {
   "cell_type": "markdown",
   "id": "69c9c5ad",
   "metadata": {},
   "source": [
    "## general: info(), describe(), count()"
   ]
  },
  {
   "cell_type": "code",
   "execution_count": 4,
   "id": "197eb0a1",
   "metadata": {
    "ExecuteTime": {
     "end_time": "2024-01-18T18:17:53.960804Z",
     "start_time": "2024-01-18T18:17:53.953582Z"
    }
   },
   "outputs": [
    {
     "name": "stdout",
     "output_type": "stream",
     "text": [
      "<class 'pandas.core.frame.DataFrame'>\n",
      "RangeIndex: 1059 entries, 0 to 1058\n",
      "Data columns (total 8 columns):\n",
      " #   Column      Non-Null Count  Dtype  \n",
      "---  ------      --------------  -----  \n",
      " 0   pH          1059 non-null   float64\n",
      " 1   Temprature  1059 non-null   int64  \n",
      " 2   Taste       1059 non-null   int64  \n",
      " 3   Odor        1059 non-null   int64  \n",
      " 4   Fat         1059 non-null   int64  \n",
      " 5   Turbidity   1059 non-null   int64  \n",
      " 6   Colour      1059 non-null   int64  \n",
      " 7   Grade       1059 non-null   object \n",
      "dtypes: float64(1), int64(6), object(1)\n",
      "memory usage: 66.3+ KB\n"
     ]
    }
   ],
   "source": [
    "df_raw.info()"
   ]
  },
  {
   "cell_type": "code",
   "execution_count": 5,
   "id": "73226874",
   "metadata": {
    "ExecuteTime": {
     "end_time": "2024-01-18T18:17:53.979100Z",
     "start_time": "2024-01-18T18:17:53.963452Z"
    }
   },
   "outputs": [
    {
     "data": {
      "text/html": [
       "<div>\n",
       "<style scoped>\n",
       "    .dataframe tbody tr th:only-of-type {\n",
       "        vertical-align: middle;\n",
       "    }\n",
       "\n",
       "    .dataframe tbody tr th {\n",
       "        vertical-align: top;\n",
       "    }\n",
       "\n",
       "    .dataframe thead th {\n",
       "        text-align: right;\n",
       "    }\n",
       "</style>\n",
       "<table border=\"1\" class=\"dataframe\">\n",
       "  <thead>\n",
       "    <tr style=\"text-align: right;\">\n",
       "      <th></th>\n",
       "      <th>pH</th>\n",
       "      <th>Temprature</th>\n",
       "      <th>Taste</th>\n",
       "      <th>Odor</th>\n",
       "      <th>Fat</th>\n",
       "      <th>Turbidity</th>\n",
       "      <th>Colour</th>\n",
       "    </tr>\n",
       "  </thead>\n",
       "  <tbody>\n",
       "    <tr>\n",
       "      <th>count</th>\n",
       "      <td>1059.000000</td>\n",
       "      <td>1059.000000</td>\n",
       "      <td>1059.000000</td>\n",
       "      <td>1059.000000</td>\n",
       "      <td>1059.000000</td>\n",
       "      <td>1059.000000</td>\n",
       "      <td>1059.000000</td>\n",
       "    </tr>\n",
       "    <tr>\n",
       "      <th>mean</th>\n",
       "      <td>6.630123</td>\n",
       "      <td>44.226629</td>\n",
       "      <td>0.546742</td>\n",
       "      <td>0.432483</td>\n",
       "      <td>0.671388</td>\n",
       "      <td>0.491029</td>\n",
       "      <td>251.840415</td>\n",
       "    </tr>\n",
       "    <tr>\n",
       "      <th>std</th>\n",
       "      <td>1.399679</td>\n",
       "      <td>10.098364</td>\n",
       "      <td>0.498046</td>\n",
       "      <td>0.495655</td>\n",
       "      <td>0.469930</td>\n",
       "      <td>0.500156</td>\n",
       "      <td>4.307424</td>\n",
       "    </tr>\n",
       "    <tr>\n",
       "      <th>min</th>\n",
       "      <td>3.000000</td>\n",
       "      <td>34.000000</td>\n",
       "      <td>0.000000</td>\n",
       "      <td>0.000000</td>\n",
       "      <td>0.000000</td>\n",
       "      <td>0.000000</td>\n",
       "      <td>240.000000</td>\n",
       "    </tr>\n",
       "    <tr>\n",
       "      <th>25%</th>\n",
       "      <td>6.500000</td>\n",
       "      <td>38.000000</td>\n",
       "      <td>0.000000</td>\n",
       "      <td>0.000000</td>\n",
       "      <td>0.000000</td>\n",
       "      <td>0.000000</td>\n",
       "      <td>250.000000</td>\n",
       "    </tr>\n",
       "    <tr>\n",
       "      <th>50%</th>\n",
       "      <td>6.700000</td>\n",
       "      <td>41.000000</td>\n",
       "      <td>1.000000</td>\n",
       "      <td>0.000000</td>\n",
       "      <td>1.000000</td>\n",
       "      <td>0.000000</td>\n",
       "      <td>255.000000</td>\n",
       "    </tr>\n",
       "    <tr>\n",
       "      <th>75%</th>\n",
       "      <td>6.800000</td>\n",
       "      <td>45.000000</td>\n",
       "      <td>1.000000</td>\n",
       "      <td>1.000000</td>\n",
       "      <td>1.000000</td>\n",
       "      <td>1.000000</td>\n",
       "      <td>255.000000</td>\n",
       "    </tr>\n",
       "    <tr>\n",
       "      <th>max</th>\n",
       "      <td>9.500000</td>\n",
       "      <td>90.000000</td>\n",
       "      <td>1.000000</td>\n",
       "      <td>1.000000</td>\n",
       "      <td>1.000000</td>\n",
       "      <td>1.000000</td>\n",
       "      <td>255.000000</td>\n",
       "    </tr>\n",
       "  </tbody>\n",
       "</table>\n",
       "</div>"
      ],
      "text/plain": [
       "                pH   Temprature        Taste         Odor         Fat   \\\n",
       "count  1059.000000  1059.000000  1059.000000  1059.000000  1059.000000   \n",
       "mean      6.630123    44.226629     0.546742     0.432483     0.671388   \n",
       "std       1.399679    10.098364     0.498046     0.495655     0.469930   \n",
       "min       3.000000    34.000000     0.000000     0.000000     0.000000   \n",
       "25%       6.500000    38.000000     0.000000     0.000000     0.000000   \n",
       "50%       6.700000    41.000000     1.000000     0.000000     1.000000   \n",
       "75%       6.800000    45.000000     1.000000     1.000000     1.000000   \n",
       "max       9.500000    90.000000     1.000000     1.000000     1.000000   \n",
       "\n",
       "         Turbidity       Colour  \n",
       "count  1059.000000  1059.000000  \n",
       "mean      0.491029   251.840415  \n",
       "std       0.500156     4.307424  \n",
       "min       0.000000   240.000000  \n",
       "25%       0.000000   250.000000  \n",
       "50%       0.000000   255.000000  \n",
       "75%       1.000000   255.000000  \n",
       "max       1.000000   255.000000  "
      ]
     },
     "execution_count": 5,
     "metadata": {},
     "output_type": "execute_result"
    }
   ],
   "source": [
    "df_raw.describe()"
   ]
  },
  {
   "cell_type": "code",
   "execution_count": 6,
   "id": "e619a2d7",
   "metadata": {
    "ExecuteTime": {
     "end_time": "2024-01-18T18:17:54.052198Z",
     "start_time": "2024-01-18T18:17:54.047062Z"
    }
   },
   "outputs": [
    {
     "data": {
      "text/plain": [
       "low       429\n",
       "medium    374\n",
       "high      256\n",
       "Name: Grade, dtype: int64"
      ]
     },
     "execution_count": 6,
     "metadata": {},
     "output_type": "execute_result"
    }
   ],
   "source": [
    "df_raw.Grade.value_counts(dropna=False)"
   ]
  },
  {
   "cell_type": "markdown",
   "id": "0627411e",
   "metadata": {},
   "source": [
    "## Correlation"
   ]
  },
  {
   "cell_type": "code",
   "execution_count": 7,
   "id": "f000a76d",
   "metadata": {
    "ExecuteTime": {
     "end_time": "2024-01-18T18:17:54.850303Z",
     "start_time": "2024-01-18T18:17:54.844223Z"
    }
   },
   "outputs": [],
   "source": [
    "df_raw.loc[df_raw['Grade']=='low', 'Grade'] = 0\n",
    "df_raw.loc[df_raw['Grade']=='medium', 'Grade'] = 1\n",
    "df_raw.loc[df_raw['Grade']=='high', 'Grade'] = 2\n",
    "df_raw['Grade'] = df_raw['Grade'].astype(int)"
   ]
  },
  {
   "cell_type": "code",
   "execution_count": 44,
   "id": "440d3b15",
   "metadata": {
    "ExecuteTime": {
     "end_time": "2024-01-18T18:26:37.867870Z",
     "start_time": "2024-01-18T18:26:37.860458Z"
    }
   },
   "outputs": [],
   "source": [
    "def plot_correlation_heat(df_raw, method='pearson'):\n",
    "    # Melt the DataFrame to long format for Altair\n",
    "    corr_df = df_raw.corr(method)\n",
    "    corr_long = pd.melt(corr_df.reset_index(), id_vars='index')\n",
    "\n",
    "    # Rename the columns\n",
    "    corr_long.columns = ['variable1', 'variable2', 'correlation']\n",
    "\n",
    "    # Create the heatmap using Altair\n",
    "    heatmap = alt.Chart(corr_long).mark_rect().encode(\n",
    "        x='variable1:O',\n",
    "        y='variable2:O',\n",
    "        color=alt.Color('correlation:Q', scale=alt.Scale(scheme='blueorange', domainMin=-1, domainMax=1)),\n",
    "        tooltip=['variable1:N', 'variable2:N', 'correlation:Q']\n",
    "    ).properties(\n",
    "        title=f'Correlation Heatmap ({method})',\n",
    "        height=300,\n",
    "        width=300,\n",
    "    )\n",
    "\n",
    "    # Add text annotations for correlation values\n",
    "    text = alt.Chart(corr_long).mark_text(baseline='middle').encode(\n",
    "        x='variable1:O',\n",
    "        y='variable2:O',\n",
    "        text=alt.Text('correlation:Q', format='.2f'),\n",
    "        color=alt.condition(\n",
    "            alt.datum.correlation > 0.5,\n",
    "            alt.value('white'),\n",
    "            alt.value('black')\n",
    "        )\n",
    "    )\n",
    "\n",
    "    # Combine the heatmap and text annotations\n",
    "    heatmap_with_text = heatmap + text\n",
    "    display(heatmap_with_text)"
   ]
  },
  {
   "cell_type": "code",
   "execution_count": 45,
   "id": "be360e0e",
   "metadata": {
    "ExecuteTime": {
     "end_time": "2024-01-18T18:26:38.118695Z",
     "start_time": "2024-01-18T18:26:38.029368Z"
    }
   },
   "outputs": [
    {
     "data": {
      "text/html": [
       "\n",
       "<div id=\"altair-viz-636da38ecfad4c4fb544c92f10bdf398\"></div>\n",
       "<script type=\"text/javascript\">\n",
       "  var VEGA_DEBUG = (typeof VEGA_DEBUG == \"undefined\") ? {} : VEGA_DEBUG;\n",
       "  (function(spec, embedOpt){\n",
       "    let outputDiv = document.currentScript.previousElementSibling;\n",
       "    if (outputDiv.id !== \"altair-viz-636da38ecfad4c4fb544c92f10bdf398\") {\n",
       "      outputDiv = document.getElementById(\"altair-viz-636da38ecfad4c4fb544c92f10bdf398\");\n",
       "    }\n",
       "    const paths = {\n",
       "      \"vega\": \"https://cdn.jsdelivr.net/npm//vega@5?noext\",\n",
       "      \"vega-lib\": \"https://cdn.jsdelivr.net/npm//vega-lib?noext\",\n",
       "      \"vega-lite\": \"https://cdn.jsdelivr.net/npm//vega-lite@4.17.0?noext\",\n",
       "      \"vega-embed\": \"https://cdn.jsdelivr.net/npm//vega-embed@6?noext\",\n",
       "    };\n",
       "\n",
       "    function maybeLoadScript(lib, version) {\n",
       "      var key = `${lib.replace(\"-\", \"\")}_version`;\n",
       "      return (VEGA_DEBUG[key] == version) ?\n",
       "        Promise.resolve(paths[lib]) :\n",
       "        new Promise(function(resolve, reject) {\n",
       "          var s = document.createElement('script');\n",
       "          document.getElementsByTagName(\"head\")[0].appendChild(s);\n",
       "          s.async = true;\n",
       "          s.onload = () => {\n",
       "            VEGA_DEBUG[key] = version;\n",
       "            return resolve(paths[lib]);\n",
       "          };\n",
       "          s.onerror = () => reject(`Error loading script: ${paths[lib]}`);\n",
       "          s.src = paths[lib];\n",
       "        });\n",
       "    }\n",
       "\n",
       "    function showError(err) {\n",
       "      outputDiv.innerHTML = `<div class=\"error\" style=\"color:red;\">${err}</div>`;\n",
       "      throw err;\n",
       "    }\n",
       "\n",
       "    function displayChart(vegaEmbed) {\n",
       "      vegaEmbed(outputDiv, spec, embedOpt)\n",
       "        .catch(err => showError(`Javascript Error: ${err.message}<br>This usually means there's a typo in your chart specification. See the javascript console for the full traceback.`));\n",
       "    }\n",
       "\n",
       "    if(typeof define === \"function\" && define.amd) {\n",
       "      requirejs.config({paths});\n",
       "      require([\"vega-embed\"], displayChart, err => showError(`Error loading script: ${err.message}`));\n",
       "    } else {\n",
       "      maybeLoadScript(\"vega\", \"5\")\n",
       "        .then(() => maybeLoadScript(\"vega-lite\", \"4.17.0\"))\n",
       "        .then(() => maybeLoadScript(\"vega-embed\", \"6\"))\n",
       "        .catch(showError)\n",
       "        .then(() => displayChart(vegaEmbed));\n",
       "    }\n",
       "  })({\"config\": {\"view\": {\"continuousWidth\": 400, \"continuousHeight\": 300}}, \"layer\": [{\"mark\": \"rect\", \"encoding\": {\"color\": {\"field\": \"correlation\", \"scale\": {\"domainMax\": 1, \"domainMin\": -1, \"scheme\": \"blueorange\"}, \"type\": \"quantitative\"}, \"tooltip\": [{\"field\": \"variable1\", \"type\": \"nominal\"}, {\"field\": \"variable2\", \"type\": \"nominal\"}, {\"field\": \"correlation\", \"type\": \"quantitative\"}], \"x\": {\"field\": \"variable1\", \"type\": \"ordinal\"}, \"y\": {\"field\": \"variable2\", \"type\": \"ordinal\"}}, \"height\": 300, \"title\": \"Correlation Heatmap (pearson)\", \"width\": 300}, {\"mark\": {\"type\": \"text\", \"baseline\": \"middle\"}, \"encoding\": {\"color\": {\"condition\": {\"value\": \"white\", \"test\": \"(datum.correlation > 0.5)\"}, \"value\": \"black\"}, \"text\": {\"field\": \"correlation\", \"format\": \".2f\", \"type\": \"quantitative\"}, \"x\": {\"field\": \"variable1\", \"type\": \"ordinal\"}, \"y\": {\"field\": \"variable2\", \"type\": \"ordinal\"}}}], \"data\": {\"name\": \"data-0145555380d5678d34bd7909dc4d72c6\"}, \"$schema\": \"https://vega.github.io/schema/vega-lite/v4.17.0.json\", \"datasets\": {\"data-0145555380d5678d34bd7909dc4d72c6\": [{\"variable1\": \"pH\", \"variable2\": \"pH\", \"correlation\": 1.0}, {\"variable1\": \"Temprature\", \"variable2\": \"pH\", \"correlation\": 0.244684058847391}, {\"variable1\": \"Taste\", \"variable2\": \"pH\", \"correlation\": -0.06405257507839192}, {\"variable1\": \"Odor\", \"variable2\": \"pH\", \"correlation\": -0.08133052717054975}, {\"variable1\": \"Fat \", \"variable2\": \"pH\", \"correlation\": -0.09342886799658712}, {\"variable1\": \"Turbidity\", \"variable2\": \"pH\", \"correlation\": 0.04838404762623036}, {\"variable1\": \"Colour\", \"variable2\": \"pH\", \"correlation\": -0.1645649230818912}, {\"variable1\": \"Grade\", \"variable2\": \"pH\", \"correlation\": 0.02897967918861514}, {\"variable1\": \"pH\", \"variable2\": \"Temprature\", \"correlation\": 0.244684058847391}, {\"variable1\": \"Temprature\", \"variable2\": \"Temprature\", \"correlation\": 1.0}, {\"variable1\": \"Taste\", \"variable2\": \"Temprature\", \"correlation\": -0.10979164066009552}, {\"variable1\": \"Odor\", \"variable2\": \"Temprature\", \"correlation\": -0.04886993783254563}, {\"variable1\": \"Fat \", \"variable2\": \"Temprature\", \"correlation\": 0.024073373073701526}, {\"variable1\": \"Turbidity\", \"variable2\": \"Temprature\", \"correlation\": 0.18510644999119358}, {\"variable1\": \"Colour\", \"variable2\": \"Temprature\", \"correlation\": -0.008511359575605166}, {\"variable1\": \"Grade\", \"variable2\": \"Temprature\", \"correlation\": -0.4177887872575878}, {\"variable1\": \"pH\", \"variable2\": \"Taste\", \"correlation\": -0.06405257507839192}, {\"variable1\": \"Temprature\", \"variable2\": \"Taste\", \"correlation\": -0.10979164066009552}, {\"variable1\": \"Taste\", \"variable2\": \"Taste\", \"correlation\": 1.0}, {\"variable1\": \"Odor\", \"variable2\": \"Taste\", \"correlation\": 0.017582247695110634}, {\"variable1\": \"Fat \", \"variable2\": \"Taste\", \"correlation\": 0.3241491009524905}, {\"variable1\": \"Turbidity\", \"variable2\": \"Taste\", \"correlation\": 0.05575470826855877}, {\"variable1\": \"Colour\", \"variable2\": \"Taste\", \"correlation\": -0.08265359371257446}, {\"variable1\": \"Grade\", \"variable2\": \"Taste\", \"correlation\": 0.025500004433532928}, {\"variable1\": \"pH\", \"variable2\": \"Odor\", \"correlation\": -0.08133052717054975}, {\"variable1\": \"Temprature\", \"variable2\": \"Odor\", \"correlation\": -0.04886993783254563}, {\"variable1\": \"Taste\", \"variable2\": \"Odor\", \"correlation\": 0.017582247695110634}, {\"variable1\": \"Odor\", \"variable2\": \"Odor\", \"correlation\": 1.0}, {\"variable1\": \"Fat \", \"variable2\": \"Odor\", \"correlation\": 0.3145046542435542}, {\"variable1\": \"Turbidity\", \"variable2\": \"Odor\", \"correlation\": 0.457935181667277}, {\"variable1\": \"Colour\", \"variable2\": \"Odor\", \"correlation\": -0.03936131155678885}, {\"variable1\": \"Grade\", \"variable2\": \"Odor\", \"correlation\": 0.14962641445379005}, {\"variable1\": \"pH\", \"variable2\": \"Fat \", \"correlation\": -0.09342886799658712}, {\"variable1\": \"Temprature\", \"variable2\": \"Fat \", \"correlation\": 0.024073373073701526}, {\"variable1\": \"Taste\", \"variable2\": \"Fat \", \"correlation\": 0.3241491009524905}, {\"variable1\": \"Odor\", \"variable2\": \"Fat \", \"correlation\": 0.3145046542435542}, {\"variable1\": \"Fat \", \"variable2\": \"Fat \", \"correlation\": 1.0}, {\"variable1\": \"Turbidity\", \"variable2\": \"Fat \", \"correlation\": 0.32926358379751636}, {\"variable1\": \"Colour\", \"variable2\": \"Fat \", \"correlation\": 0.11415081958133226}, {\"variable1\": \"Grade\", \"variable2\": \"Fat \", \"correlation\": 0.15100214990395433}, {\"variable1\": \"pH\", \"variable2\": \"Turbidity\", \"correlation\": 0.04838404762623036}, {\"variable1\": \"Temprature\", \"variable2\": \"Turbidity\", \"correlation\": 0.18510644999119358}, {\"variable1\": \"Taste\", \"variable2\": \"Turbidity\", \"correlation\": 0.05575470826855877}, {\"variable1\": \"Odor\", \"variable2\": \"Turbidity\", \"correlation\": 0.457935181667277}, {\"variable1\": \"Fat \", \"variable2\": \"Turbidity\", \"correlation\": 0.32926358379751636}, {\"variable1\": \"Turbidity\", \"variable2\": \"Turbidity\", \"correlation\": 1.0}, {\"variable1\": \"Colour\", \"variable2\": \"Turbidity\", \"correlation\": 0.13643613655911863}, {\"variable1\": \"Grade\", \"variable2\": \"Turbidity\", \"correlation\": -0.1536342233157344}, {\"variable1\": \"pH\", \"variable2\": \"Colour\", \"correlation\": -0.1645649230818912}, {\"variable1\": \"Temprature\", \"variable2\": \"Colour\", \"correlation\": -0.008511359575605166}, {\"variable1\": \"Taste\", \"variable2\": \"Colour\", \"correlation\": -0.08265359371257446}, {\"variable1\": \"Odor\", \"variable2\": \"Colour\", \"correlation\": -0.03936131155678885}, {\"variable1\": \"Fat \", \"variable2\": \"Colour\", \"correlation\": 0.11415081958133226}, {\"variable1\": \"Turbidity\", \"variable2\": \"Colour\", \"correlation\": 0.13643613655911863}, {\"variable1\": \"Colour\", \"variable2\": \"Colour\", \"correlation\": 1.0}, {\"variable1\": \"Grade\", \"variable2\": \"Colour\", \"correlation\": -0.056985736648291097}, {\"variable1\": \"pH\", \"variable2\": \"Grade\", \"correlation\": 0.02897967918861514}, {\"variable1\": \"Temprature\", \"variable2\": \"Grade\", \"correlation\": -0.4177887872575878}, {\"variable1\": \"Taste\", \"variable2\": \"Grade\", \"correlation\": 0.025500004433532928}, {\"variable1\": \"Odor\", \"variable2\": \"Grade\", \"correlation\": 0.14962641445379005}, {\"variable1\": \"Fat \", \"variable2\": \"Grade\", \"correlation\": 0.15100214990395433}, {\"variable1\": \"Turbidity\", \"variable2\": \"Grade\", \"correlation\": -0.1536342233157344}, {\"variable1\": \"Colour\", \"variable2\": \"Grade\", \"correlation\": -0.056985736648291097}, {\"variable1\": \"Grade\", \"variable2\": \"Grade\", \"correlation\": 1.0}]}}, {\"mode\": \"vega-lite\"});\n",
       "</script>"
      ],
      "text/plain": [
       "alt.LayerChart(...)"
      ]
     },
     "metadata": {},
     "output_type": "display_data"
    }
   ],
   "source": [
    "plot_correlation_heat(df_raw, method='pearson')\n"
   ]
  },
  {
   "cell_type": "code",
   "execution_count": 46,
   "id": "fcdf18d8",
   "metadata": {
    "ExecuteTime": {
     "end_time": "2024-01-18T18:26:38.274335Z",
     "start_time": "2024-01-18T18:26:38.200392Z"
    }
   },
   "outputs": [
    {
     "data": {
      "text/html": [
       "\n",
       "<div id=\"altair-viz-3cf43b98517a43dfa9560edbf64c043d\"></div>\n",
       "<script type=\"text/javascript\">\n",
       "  var VEGA_DEBUG = (typeof VEGA_DEBUG == \"undefined\") ? {} : VEGA_DEBUG;\n",
       "  (function(spec, embedOpt){\n",
       "    let outputDiv = document.currentScript.previousElementSibling;\n",
       "    if (outputDiv.id !== \"altair-viz-3cf43b98517a43dfa9560edbf64c043d\") {\n",
       "      outputDiv = document.getElementById(\"altair-viz-3cf43b98517a43dfa9560edbf64c043d\");\n",
       "    }\n",
       "    const paths = {\n",
       "      \"vega\": \"https://cdn.jsdelivr.net/npm//vega@5?noext\",\n",
       "      \"vega-lib\": \"https://cdn.jsdelivr.net/npm//vega-lib?noext\",\n",
       "      \"vega-lite\": \"https://cdn.jsdelivr.net/npm//vega-lite@4.17.0?noext\",\n",
       "      \"vega-embed\": \"https://cdn.jsdelivr.net/npm//vega-embed@6?noext\",\n",
       "    };\n",
       "\n",
       "    function maybeLoadScript(lib, version) {\n",
       "      var key = `${lib.replace(\"-\", \"\")}_version`;\n",
       "      return (VEGA_DEBUG[key] == version) ?\n",
       "        Promise.resolve(paths[lib]) :\n",
       "        new Promise(function(resolve, reject) {\n",
       "          var s = document.createElement('script');\n",
       "          document.getElementsByTagName(\"head\")[0].appendChild(s);\n",
       "          s.async = true;\n",
       "          s.onload = () => {\n",
       "            VEGA_DEBUG[key] = version;\n",
       "            return resolve(paths[lib]);\n",
       "          };\n",
       "          s.onerror = () => reject(`Error loading script: ${paths[lib]}`);\n",
       "          s.src = paths[lib];\n",
       "        });\n",
       "    }\n",
       "\n",
       "    function showError(err) {\n",
       "      outputDiv.innerHTML = `<div class=\"error\" style=\"color:red;\">${err}</div>`;\n",
       "      throw err;\n",
       "    }\n",
       "\n",
       "    function displayChart(vegaEmbed) {\n",
       "      vegaEmbed(outputDiv, spec, embedOpt)\n",
       "        .catch(err => showError(`Javascript Error: ${err.message}<br>This usually means there's a typo in your chart specification. See the javascript console for the full traceback.`));\n",
       "    }\n",
       "\n",
       "    if(typeof define === \"function\" && define.amd) {\n",
       "      requirejs.config({paths});\n",
       "      require([\"vega-embed\"], displayChart, err => showError(`Error loading script: ${err.message}`));\n",
       "    } else {\n",
       "      maybeLoadScript(\"vega\", \"5\")\n",
       "        .then(() => maybeLoadScript(\"vega-lite\", \"4.17.0\"))\n",
       "        .then(() => maybeLoadScript(\"vega-embed\", \"6\"))\n",
       "        .catch(showError)\n",
       "        .then(() => displayChart(vegaEmbed));\n",
       "    }\n",
       "  })({\"config\": {\"view\": {\"continuousWidth\": 400, \"continuousHeight\": 300}}, \"layer\": [{\"mark\": \"rect\", \"encoding\": {\"color\": {\"field\": \"correlation\", \"scale\": {\"domainMax\": 1, \"domainMin\": -1, \"scheme\": \"blueorange\"}, \"type\": \"quantitative\"}, \"tooltip\": [{\"field\": \"variable1\", \"type\": \"nominal\"}, {\"field\": \"variable2\", \"type\": \"nominal\"}, {\"field\": \"correlation\", \"type\": \"quantitative\"}], \"x\": {\"field\": \"variable1\", \"type\": \"ordinal\"}, \"y\": {\"field\": \"variable2\", \"type\": \"ordinal\"}}, \"height\": 300, \"title\": \"Correlation Heatmap (spearman)\", \"width\": 300}, {\"mark\": {\"type\": \"text\", \"baseline\": \"middle\"}, \"encoding\": {\"color\": {\"condition\": {\"value\": \"white\", \"test\": \"(datum.correlation > 0.5)\"}, \"value\": \"black\"}, \"text\": {\"field\": \"correlation\", \"format\": \".2f\", \"type\": \"quantitative\"}, \"x\": {\"field\": \"variable1\", \"type\": \"ordinal\"}, \"y\": {\"field\": \"variable2\", \"type\": \"ordinal\"}}}], \"data\": {\"name\": \"data-bc8d628bf309b1df767144a3a22610e9\"}, \"$schema\": \"https://vega.github.io/schema/vega-lite/v4.17.0.json\", \"datasets\": {\"data-bc8d628bf309b1df767144a3a22610e9\": [{\"variable1\": \"pH\", \"variable2\": \"pH\", \"correlation\": 1.0}, {\"variable1\": \"Temprature\", \"variable2\": \"pH\", \"correlation\": 0.3418725820150535}, {\"variable1\": \"Taste\", \"variable2\": \"pH\", \"correlation\": -0.033943077345114085}, {\"variable1\": \"Odor\", \"variable2\": \"pH\", \"correlation\": 0.03712542201901903}, {\"variable1\": \"Fat \", \"variable2\": \"pH\", \"correlation\": -0.024233180998997156}, {\"variable1\": \"Turbidity\", \"variable2\": \"pH\", \"correlation\": 0.12638145179783256}, {\"variable1\": \"Colour\", \"variable2\": \"pH\", \"correlation\": -0.18054076986074138}, {\"variable1\": \"Grade\", \"variable2\": \"pH\", \"correlation\": -0.02034850085931404}, {\"variable1\": \"pH\", \"variable2\": \"Temprature\", \"correlation\": 0.3418725820150535}, {\"variable1\": \"Temprature\", \"variable2\": \"Temprature\", \"correlation\": 1.0}, {\"variable1\": \"Taste\", \"variable2\": \"Temprature\", \"correlation\": -0.10577732878310202}, {\"variable1\": \"Odor\", \"variable2\": \"Temprature\", \"correlation\": 0.1198148620689715}, {\"variable1\": \"Fat \", \"variable2\": \"Temprature\", \"correlation\": 0.0781012789941408}, {\"variable1\": \"Turbidity\", \"variable2\": \"Temprature\", \"correlation\": 0.24397031039081}, {\"variable1\": \"Colour\", \"variable2\": \"Temprature\", \"correlation\": -0.1449580155682924}, {\"variable1\": \"Grade\", \"variable2\": \"Temprature\", \"correlation\": -0.37868147604571833}, {\"variable1\": \"pH\", \"variable2\": \"Taste\", \"correlation\": -0.033943077345114085}, {\"variable1\": \"Temprature\", \"variable2\": \"Taste\", \"correlation\": -0.10577732878310202}, {\"variable1\": \"Taste\", \"variable2\": \"Taste\", \"correlation\": 1.0}, {\"variable1\": \"Odor\", \"variable2\": \"Taste\", \"correlation\": 0.017582247695110662}, {\"variable1\": \"Fat \", \"variable2\": \"Taste\", \"correlation\": 0.3241491009524907}, {\"variable1\": \"Turbidity\", \"variable2\": \"Taste\", \"correlation\": 0.055754708268558856}, {\"variable1\": \"Colour\", \"variable2\": \"Taste\", \"correlation\": -0.10448308725223585}, {\"variable1\": \"Grade\", \"variable2\": \"Taste\", \"correlation\": 0.010959385665531646}, {\"variable1\": \"pH\", \"variable2\": \"Odor\", \"correlation\": 0.03712542201901903}, {\"variable1\": \"Temprature\", \"variable2\": \"Odor\", \"correlation\": 0.1198148620689715}, {\"variable1\": \"Taste\", \"variable2\": \"Odor\", \"correlation\": 0.017582247695110662}, {\"variable1\": \"Odor\", \"variable2\": \"Odor\", \"correlation\": 1.0}, {\"variable1\": \"Fat \", \"variable2\": \"Odor\", \"correlation\": 0.31450465424355434}, {\"variable1\": \"Turbidity\", \"variable2\": \"Odor\", \"correlation\": 0.4579351816672773}, {\"variable1\": \"Colour\", \"variable2\": \"Odor\", \"correlation\": -0.0452228322739231}, {\"variable1\": \"Grade\", \"variable2\": \"Odor\", \"correlation\": 0.11854914043227015}, {\"variable1\": \"pH\", \"variable2\": \"Fat \", \"correlation\": -0.024233180998997156}, {\"variable1\": \"Temprature\", \"variable2\": \"Fat \", \"correlation\": 0.0781012789941408}, {\"variable1\": \"Taste\", \"variable2\": \"Fat \", \"correlation\": 0.3241491009524907}, {\"variable1\": \"Odor\", \"variable2\": \"Fat \", \"correlation\": 0.31450465424355434}, {\"variable1\": \"Fat \", \"variable2\": \"Fat \", \"correlation\": 1.0}, {\"variable1\": \"Turbidity\", \"variable2\": \"Fat \", \"correlation\": 0.3292635837975165}, {\"variable1\": \"Colour\", \"variable2\": \"Fat \", \"correlation\": 0.056276784221713415}, {\"variable1\": \"Grade\", \"variable2\": \"Fat \", \"correlation\": 0.11638612601509177}, {\"variable1\": \"pH\", \"variable2\": \"Turbidity\", \"correlation\": 0.12638145179783256}, {\"variable1\": \"Temprature\", \"variable2\": \"Turbidity\", \"correlation\": 0.24397031039081}, {\"variable1\": \"Taste\", \"variable2\": \"Turbidity\", \"correlation\": 0.055754708268558856}, {\"variable1\": \"Odor\", \"variable2\": \"Turbidity\", \"correlation\": 0.4579351816672773}, {\"variable1\": \"Fat \", \"variable2\": \"Turbidity\", \"correlation\": 0.3292635837975165}, {\"variable1\": \"Turbidity\", \"variable2\": \"Turbidity\", \"correlation\": 1.0}, {\"variable1\": \"Colour\", \"variable2\": \"Turbidity\", \"correlation\": 0.11693484156526157}, {\"variable1\": \"Grade\", \"variable2\": \"Turbidity\", \"correlation\": -0.19056899455821907}, {\"variable1\": \"pH\", \"variable2\": \"Colour\", \"correlation\": -0.18054076986074138}, {\"variable1\": \"Temprature\", \"variable2\": \"Colour\", \"correlation\": -0.1449580155682924}, {\"variable1\": \"Taste\", \"variable2\": \"Colour\", \"correlation\": -0.10448308725223585}, {\"variable1\": \"Odor\", \"variable2\": \"Colour\", \"correlation\": -0.0452228322739231}, {\"variable1\": \"Fat \", \"variable2\": \"Colour\", \"correlation\": 0.056276784221713415}, {\"variable1\": \"Turbidity\", \"variable2\": \"Colour\", \"correlation\": 0.11693484156526157}, {\"variable1\": \"Colour\", \"variable2\": \"Colour\", \"correlation\": 1.0}, {\"variable1\": \"Grade\", \"variable2\": \"Colour\", \"correlation\": -0.07665786834175595}, {\"variable1\": \"pH\", \"variable2\": \"Grade\", \"correlation\": -0.02034850085931404}, {\"variable1\": \"Temprature\", \"variable2\": \"Grade\", \"correlation\": -0.37868147604571833}, {\"variable1\": \"Taste\", \"variable2\": \"Grade\", \"correlation\": 0.010959385665531646}, {\"variable1\": \"Odor\", \"variable2\": \"Grade\", \"correlation\": 0.11854914043227015}, {\"variable1\": \"Fat \", \"variable2\": \"Grade\", \"correlation\": 0.11638612601509177}, {\"variable1\": \"Turbidity\", \"variable2\": \"Grade\", \"correlation\": -0.19056899455821907}, {\"variable1\": \"Colour\", \"variable2\": \"Grade\", \"correlation\": -0.07665786834175595}, {\"variable1\": \"Grade\", \"variable2\": \"Grade\", \"correlation\": 1.0}]}}, {\"mode\": \"vega-lite\"});\n",
       "</script>"
      ],
      "text/plain": [
       "alt.LayerChart(...)"
      ]
     },
     "metadata": {},
     "output_type": "display_data"
    }
   ],
   "source": [
    "plot_correlation_heat(df_raw, method='spearman')"
   ]
  },
  {
   "cell_type": "code",
   "execution_count": null,
   "id": "fc37c255",
   "metadata": {},
   "outputs": [],
   "source": []
  },
  {
   "cell_type": "code",
   "execution_count": null,
   "id": "a8364634",
   "metadata": {},
   "outputs": [],
   "source": []
  }
 ],
 "metadata": {
  "kernelspec": {
   "display_name": "Python 3 (ipykernel)",
   "language": "python",
   "name": "python3"
  },
  "language_info": {
   "codemirror_mode": {
    "name": "ipython",
    "version": 3
   },
   "file_extension": ".py",
   "mimetype": "text/x-python",
   "name": "python",
   "nbconvert_exporter": "python",
   "pygments_lexer": "ipython3",
   "version": "3.9.6"
  },
  "toc": {
   "base_numbering": 1,
   "nav_menu": {},
   "number_sections": true,
   "sideBar": true,
   "skip_h1_title": false,
   "title_cell": "Table of Contents",
   "title_sidebar": "Contents",
   "toc_cell": false,
   "toc_position": {
    "height": "calc(100% - 180px)",
    "left": "10px",
    "top": "150px",
    "width": "178.629px"
   },
   "toc_section_display": true,
   "toc_window_display": true
  }
 },
 "nbformat": 4,
 "nbformat_minor": 5
}
